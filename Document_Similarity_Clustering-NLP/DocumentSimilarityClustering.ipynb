{
 "cells": [
  {
   "cell_type": "code",
   "execution_count": 1,
   "metadata": {},
   "outputs": [],
   "source": [
    "import warnings\n",
    "warnings.filterwarnings('ignore')"
   ]
  },
  {
   "cell_type": "code",
   "execution_count": 2,
   "metadata": {},
   "outputs": [],
   "source": [
    "import numpy as np\n",
    "import pandas as pd\n",
    "from scipy.stats import itemfreq\n",
    "from sklearn.feature_extraction.text import CountVectorizer, TfidfVectorizer"
   ]
  },
  {
   "cell_type": "markdown",
   "metadata": {},
   "source": [
    "# Term similarity"
   ]
  },
  {
   "cell_type": "code",
   "execution_count": 3,
   "metadata": {},
   "outputs": [],
   "source": [
    "root = 'Believe'\n",
    "term1 = 'beleive'\n",
    "term2 = 'bargain'\n",
    "term3 = 'Elephant'"
   ]
  },
  {
   "cell_type": "code",
   "execution_count": 4,
   "metadata": {},
   "outputs": [],
   "source": [
    "terms = [root,term1,term2,term3]"
   ]
  },
  {
   "cell_type": "code",
   "execution_count": 5,
   "metadata": {},
   "outputs": [],
   "source": [
    "def cosine_distance(u, v):\n",
    "    distance = 1.0 - (np.dot(u, v) / \n",
    "                        (np.sqrt(sum(np.square(u))) * np.sqrt(sum(np.square(v))))\n",
    "                     )\n",
    "    return distance"
   ]
  },
  {
   "cell_type": "code",
   "execution_count": 6,
   "metadata": {},
   "outputs": [
    {
     "data": {
      "text/plain": [
       "['believe', 'beleive', 'bargain', 'elephant']"
      ]
     },
     "execution_count": 6,
     "metadata": {},
     "output_type": "execute_result"
    }
   ],
   "source": [
    "word_list = [word.lower() for word in terms]\n",
    "word_list"
   ]
  },
  {
   "cell_type": "code",
   "execution_count": 7,
   "metadata": {},
   "outputs": [
    {
     "data": {
      "text/plain": [
       "[['b', 'e', 'l', 'i', 'e', 'v', 'e'],\n",
       " ['b', 'e', 'l', 'e', 'i', 'v', 'e'],\n",
       " ['b', 'a', 'r', 'g', 'a', 'i', 'n'],\n",
       " ['e', 'l', 'e', 'p', 'h', 'a', 'n', 't']]"
      ]
     },
     "execution_count": 7,
     "metadata": {},
     "output_type": "execute_result"
    }
   ],
   "source": [
    "[list(word) for word in word_list]"
   ]
  },
  {
   "cell_type": "code",
   "execution_count": 8,
   "metadata": {},
   "outputs": [
    {
     "data": {
      "text/plain": [
       "array(['b', 'e', 'l', 'i', 'e', 'v', 'e', 'b', 'e', 'l', 'e', 'i', 'v',\n",
       "       'e', 'b', 'a', 'r', 'g', 'a', 'i', 'n', 'e', 'l', 'e', 'p', 'h',\n",
       "       'a', 'n', 't'], dtype='<U1')"
      ]
     },
     "execution_count": 8,
     "metadata": {},
     "output_type": "execute_result"
    }
   ],
   "source": [
    "np.hstack([list(word) for word in word_list])"
   ]
  },
  {
   "cell_type": "code",
   "execution_count": 9,
   "metadata": {},
   "outputs": [
    {
     "data": {
      "text/plain": [
       "array(['a', 'b', 'e', 'g', 'h', 'i', 'l', 'n', 'p', 'r', 't', 'v'],\n",
       "      dtype='<U1')"
      ]
     },
     "execution_count": 9,
     "metadata": {},
     "output_type": "execute_result"
    }
   ],
   "source": [
    "unique_chars = np.unique(np.hstack([list(word) for word in word_list]))\n",
    "unique_chars"
   ]
  },
  {
   "cell_type": "code",
   "execution_count": 10,
   "metadata": {},
   "outputs": [
    {
     "data": {
      "text/plain": [
       "[{'b': '1', 'e': '3', 'i': '1', 'l': '1', 'v': '1'},\n",
       " {'b': '1', 'e': '3', 'i': '1', 'l': '1', 'v': '1'},\n",
       " {'a': '2', 'b': '1', 'g': '1', 'i': '1', 'n': '1', 'r': '1'},\n",
       " {'a': '1', 'e': '2', 'h': '1', 'l': '1', 'n': '1', 'p': '1', 't': '1'}]"
      ]
     },
     "execution_count": 10,
     "metadata": {},
     "output_type": "execute_result"
    }
   ],
   "source": [
    "word_list_term_counts = [{char: count for char, count in itemfreq(list(word))} for word in word_list]\n",
    "word_list_term_counts"
   ]
  },
  {
   "cell_type": "code",
   "execution_count": 11,
   "metadata": {},
   "outputs": [
    {
     "data": {
      "text/plain": [
       "[array([0, 1, 3, 0, 0, 1, 1, 0, 0, 0, 0, 1]),\n",
       " array([0, 1, 3, 0, 0, 1, 1, 0, 0, 0, 0, 1]),\n",
       " array([2, 1, 0, 1, 0, 1, 0, 1, 0, 1, 0, 0]),\n",
       " array([1, 0, 2, 0, 1, 0, 1, 1, 1, 0, 1, 0])]"
      ]
     },
     "execution_count": 11,
     "metadata": {},
     "output_type": "execute_result"
    }
   ],
   "source": [
    "boc_vectors = [np.array([int(word_term_counts.get(char, 0)) for char in unique_chars])\n",
    "                   for word_term_counts in word_list_term_counts]\n",
    "boc_vectors"
   ]
  },
  {
   "cell_type": "code",
   "execution_count": 12,
   "metadata": {},
   "outputs": [],
   "source": [
    "def boc_term_vectors(word_list):\n",
    "    word_list = [word.lower() for word in word_list]\n",
    "    unique_chars = np.unique(np.hstack([list(word) for word in word_list]))\n",
    "    word_list_term_counts = [{char: count for char, count in itemfreq(list(word))} for word in word_list]\n",
    "    boc_vectors = [np.array([int(word_term_counts.get(char, 0)) for char in unique_chars])\n",
    "                   for word_term_counts in word_list_term_counts]\n",
    "    return list(unique_chars), boc_vectors"
   ]
  },
  {
   "cell_type": "code",
   "execution_count": 13,
   "metadata": {},
   "outputs": [],
   "source": [
    "terms = [root, term1, term2, term3]"
   ]
  },
  {
   "cell_type": "code",
   "execution_count": 14,
   "metadata": {},
   "outputs": [],
   "source": [
    "features, (boc_root, boc_term1, boc_term2, boc_term3) = boc_term_vectors(terms)\n",
    "boc_vector_terms = [boc_term1, boc_term2, boc_term3]"
   ]
  },
  {
   "cell_type": "code",
   "execution_count": 15,
   "metadata": {},
   "outputs": [
    {
     "name": "stdout",
     "output_type": "stream",
     "text": [
      "Analyzing similarity between root: Believe and term: Believe\n",
      "Cosine distance  is -0.0\n",
      "Cosine similarity  is 1.0\n",
      "Analyzing similarity between root: Believe and term: beleive\n",
      "Cosine distance  is 0.82\n",
      "Cosine similarity  is 0.18000000000000005\n",
      "Analyzing similarity between root: Believe and term: bargain\n",
      "Cosine distance  is 0.39\n",
      "Cosine similarity  is 0.61\n"
     ]
    }
   ],
   "source": [
    "for term, boc_term in zip(terms, boc_vector_terms):\n",
    "    print('Analyzing similarity between root: {} and term: {}'.format(root, term))\n",
    "    distance = round(cosine_distance(boc_root, boc_term),2)\n",
    "    similarity = 1 - distance                                                           \n",
    "    print('Cosine distance  is {}'.format(distance))\n",
    "    print('Cosine similarity  is {}'.format(similarity))"
   ]
  },
  {
   "cell_type": "markdown",
   "metadata": {},
   "source": [
    "# Document Similarity"
   ]
  },
  {
   "cell_type": "code",
   "execution_count": 16,
   "metadata": {},
   "outputs": [],
   "source": [
    "def build_feature_matrix(documents, feature_type='frequency', ngram_range=(1, 1), min_df=0.0, max_df=1.0):\n",
    "\n",
    "    feature_type = feature_type.lower().strip()  \n",
    "    \n",
    "    if feature_type == 'binary':\n",
    "        vectorizer = CountVectorizer(binary=True, min_df=min_df, max_df=max_df, ngram_range=ngram_range)\n",
    "    elif feature_type == 'frequency':\n",
    "        vectorizer = CountVectorizer(binary=False, min_df=min_df, max_df=max_df, ngram_range=ngram_range)\n",
    "    elif feature_type == 'tfidf':\n",
    "        vectorizer = TfidfVectorizer(min_df=min_df, max_df=max_df, ngram_range=ngram_range)\n",
    "    else:\n",
    "        raise Exception(\"Wrong feature type entered. Possible values: 'binary', 'frequency', 'tfidf'\")\n",
    "\n",
    "    feature_matrix = vectorizer.fit_transform(documents).astype(float)\n",
    "    \n",
    "    return vectorizer, feature_matrix"
   ]
  },
  {
   "cell_type": "code",
   "execution_count": 17,
   "metadata": {},
   "outputs": [],
   "source": [
    "toy_corpus = ['The sky is blue',\n",
    "'The sky is blue and beautiful',\n",
    "'Look at the bright blue sky!',\n",
    "'Python is a great Programming language',\n",
    "'Python and Java are popular Programming languages',\n",
    "'Among Programming languages, both Python and Java are the most used in Analytics',\n",
    "'The fox is quicker than the lazy dog',\n",
    "'The dog is smarter than the fox',\n",
    "'The dog, fox and cat are good friends']"
   ]
  },
  {
   "cell_type": "code",
   "execution_count": 18,
   "metadata": {},
   "outputs": [],
   "source": [
    "query_docs = ['The fox is definitely smarter than the dog',\n",
    "            'Java is a static typed programming language unlike Python',\n",
    "            'I love to relax under the beautiful blue sky!']"
   ]
  },
  {
   "cell_type": "code",
   "execution_count": 19,
   "metadata": {},
   "outputs": [],
   "source": [
    "# extract features from the toy corpus\n",
    "tfidf_vectorizer, tfidf_features = build_feature_matrix(toy_corpus,\n",
    "                                                        feature_type='tfidf',\n",
    "                                                        ngram_range=(1, 1), \n",
    "                                                        min_df=0.0, max_df=1.0)"
   ]
  },
  {
   "cell_type": "code",
   "execution_count": 20,
   "metadata": {},
   "outputs": [],
   "source": [
    "# extract features from the query corpus\n",
    "query_docs_tfidf = tfidf_vectorizer.transform(query_docs)"
   ]
  },
  {
   "cell_type": "code",
   "execution_count": 21,
   "metadata": {},
   "outputs": [],
   "source": [
    "def compute_cosine_similarity(doc_features, corpus_features, top_n=3):\n",
    "    # get document vectors\n",
    "    doc_features = doc_features.toarray()[0]\n",
    "    corpus_features = corpus_features.toarray()\n",
    "    # compute similarities\n",
    "    similarity = np.dot(doc_features, corpus_features.T)\n",
    "    # get docs with highest similarity scores\n",
    "    top_docs = similarity.argsort()[::-1][:top_n]\n",
    "    top_docs_with_score = [(index, round(similarity[index], 3))\n",
    "                            for index in top_docs]\n",
    "    return top_docs_with_score"
   ]
  },
  {
   "cell_type": "markdown",
   "metadata": {},
   "source": [
    "Document Similarity Analysis using Cosine Similarity"
   ]
  },
  {
   "cell_type": "code",
   "execution_count": 22,
   "metadata": {},
   "outputs": [
    {
     "name": "stdout",
     "output_type": "stream",
     "text": [
      "Document 1 : The fox is definitely smarter than the dog\n",
      "Top 2 similar docs:\n",
      "----------------------------------------\n",
      "Doc num: 8 Similarity Score: 1.0\n",
      "Doc: The dog is smarter than the fox\n",
      "Doc num: 7 Similarity Score: 0.671\n",
      "Doc: The fox is quicker than the lazy dog\n",
      "Document 2 : Java is a static typed programming language unlike Python\n",
      "Top 2 similar docs:\n",
      "----------------------------------------\n",
      "Doc num: 4 Similarity Score: 0.739\n",
      "Doc: Python is a great Programming language\n",
      "Doc num: 5 Similarity Score: 0.48\n",
      "Doc: Python and Java are popular Programming languages\n",
      "Document 3 : I love to relax under the beautiful blue sky!\n",
      "Top 2 similar docs:\n",
      "----------------------------------------\n",
      "Doc num: 2 Similarity Score: 0.867\n",
      "Doc: The sky is blue and beautiful\n",
      "Doc num: 1 Similarity Score: 0.67\n",
      "Doc: The sky is blue\n"
     ]
    }
   ],
   "source": [
    "for index, doc in enumerate(query_docs):    \n",
    "    doc_tfidf = query_docs_tfidf[index]\n",
    "    top_similar_docs = compute_cosine_similarity(doc_tfidf, tfidf_features, top_n=2)\n",
    "    print('Document',index+1 ,':', doc)\n",
    "    print( 'Top', len(top_similar_docs), 'similar docs:')\n",
    "    print( '-'*40 )\n",
    "    for doc_index, sim_score in top_similar_docs:\n",
    "        print( 'Doc num: {} Similarity Score: {}\\nDoc: {}'.format(doc_index+1, sim_score, toy_corpus[doc_index]))"
   ]
  },
  {
   "cell_type": "markdown",
   "metadata": {},
   "source": [
    "# Document Clustering"
   ]
  },
  {
   "cell_type": "code",
   "execution_count": 23,
   "metadata": {},
   "outputs": [],
   "source": [
    "movie_data = pd.read_csv('movie_data.csv')"
   ]
  },
  {
   "cell_type": "code",
   "execution_count": 24,
   "metadata": {},
   "outputs": [
    {
     "data": {
      "text/html": [
       "<div>\n",
       "<style scoped>\n",
       "    .dataframe tbody tr th:only-of-type {\n",
       "        vertical-align: middle;\n",
       "    }\n",
       "\n",
       "    .dataframe tbody tr th {\n",
       "        vertical-align: top;\n",
       "    }\n",
       "\n",
       "    .dataframe thead th {\n",
       "        text-align: right;\n",
       "    }\n",
       "</style>\n",
       "<table border=\"1\" class=\"dataframe\">\n",
       "  <thead>\n",
       "    <tr style=\"text-align: right;\">\n",
       "      <th></th>\n",
       "      <th>Title</th>\n",
       "      <th>Synopsis</th>\n",
       "    </tr>\n",
       "  </thead>\n",
       "  <tbody>\n",
       "    <tr>\n",
       "      <th>0</th>\n",
       "      <td>The Godfather</td>\n",
       "      <td>In late summer 1945, guests are gathered for t...</td>\n",
       "    </tr>\n",
       "    <tr>\n",
       "      <th>1</th>\n",
       "      <td>The Shawshank Redemption</td>\n",
       "      <td>In 1947, Andy Dufresne (Tim Robbins), a banker...</td>\n",
       "    </tr>\n",
       "  </tbody>\n",
       "</table>\n",
       "</div>"
      ],
      "text/plain": [
       "                      Title                                           Synopsis\n",
       "0             The Godfather  In late summer 1945, guests are gathered for t...\n",
       "1  The Shawshank Redemption  In 1947, Andy Dufresne (Tim Robbins), a banker..."
      ]
     },
     "execution_count": 24,
     "metadata": {},
     "output_type": "execute_result"
    }
   ],
   "source": [
    "movie_data.head(2)"
   ]
  },
  {
   "cell_type": "code",
   "execution_count": 25,
   "metadata": {},
   "outputs": [],
   "source": [
    "movie_titles = movie_data['Title'].tolist()\n",
    "movie_synopses = movie_data['Synopsis'].tolist()"
   ]
  },
  {
   "cell_type": "code",
   "execution_count": 26,
   "metadata": {},
   "outputs": [
    {
     "name": "stdout",
     "output_type": "stream",
     "text": [
      "Movie: The Godfather\n",
      "Movie Synopsis: In late summer 1945, guests are gathered for the wedding reception of Don Vito Corleone's daughter Connie (Talia Shire) and Carlo Rizzi (Gianni Russo). Vito (Marlon Brando), the head of the Corleone Mafia family, is known to friends and associates as \"Godfather.\" He and Tom Hagen (Robert Duvall), the Corleone family lawyer, are hearing requests for favors because, according to Italian tradition, \"no Sicilian can refuse a request on his daughter's wedding day.\" One of the men who asks the Don for a favor is Amerigo Bonasera, a successful mortician and acquaintance of the Don, whose daughter was brutally beaten by two young men because she refused their advances; the men received minimal punishment. The Don is disappointed in Bonasera, who'd avoided most contact with the Don due to Corleone's nefarious business dealings. The Don's wife is godmother to Bonasera's shamed daughter, a relationship the Don uses to extract new loyalty from the undertaker. The Don agrees to have his men punish \n"
     ]
    }
   ],
   "source": [
    "print('Movie:', movie_titles[0])\n",
    "print('Movie Synopsis:', movie_synopses[0][:1000])"
   ]
  },
  {
   "cell_type": "code",
   "execution_count": 27,
   "metadata": {},
   "outputs": [],
   "source": [
    "# extract tf-idf features\n",
    "vectorizer, feature_matrix = build_feature_matrix(movie_synopses, feature_type='tfidf',\n",
    "                                                  min_df=0.24, max_df=0.85, ngram_range=(1, 2))"
   ]
  },
  {
   "cell_type": "code",
   "execution_count": 28,
   "metadata": {},
   "outputs": [
    {
     "data": {
      "text/plain": [
       "(100, 561)"
      ]
     },
     "execution_count": 28,
     "metadata": {},
     "output_type": "execute_result"
    }
   ],
   "source": [
    "# view number of features\n",
    "feature_matrix.shape"
   ]
  },
  {
   "cell_type": "code",
   "execution_count": 29,
   "metadata": {},
   "outputs": [],
   "source": [
    "# get feature names\n",
    "feature_names = vectorizer.get_feature_names()"
   ]
  },
  {
   "cell_type": "code",
   "execution_count": 30,
   "metadata": {},
   "outputs": [
    {
     "data": {
      "text/plain": [
       "['able',\n",
       " 'able to',\n",
       " 'about',\n",
       " 'about his',\n",
       " 'about the',\n",
       " 'about to',\n",
       " 'across',\n",
       " 'after the',\n",
       " 'again',\n",
       " 'against',\n",
       " 'agrees',\n",
       " 'alive',\n",
       " 'all',\n",
       " 'all the',\n",
       " 'alone',\n",
       " 'along',\n",
       " 'along with',\n",
       " 'already',\n",
       " 'also',\n",
       " 'although']"
      ]
     },
     "execution_count": 30,
     "metadata": {},
     "output_type": "execute_result"
    }
   ],
   "source": [
    "# print sample features\n",
    "feature_names[:20]"
   ]
  },
  {
   "cell_type": "code",
   "execution_count": 31,
   "metadata": {},
   "outputs": [],
   "source": [
    "from sklearn.cluster import KMeans"
   ]
  },
  {
   "cell_type": "code",
   "execution_count": 32,
   "metadata": {},
   "outputs": [],
   "source": [
    "def k_means(feature_matrix, num_clusters=5):\n",
    "    km = KMeans(n_clusters=num_clusters, max_iter=10000)\n",
    "    km.fit(feature_matrix)\n",
    "    clusters = km.labels_\n",
    "    return km, clusters"
   ]
  },
  {
   "cell_type": "code",
   "execution_count": 33,
   "metadata": {},
   "outputs": [],
   "source": [
    "num_clusters = 5"
   ]
  },
  {
   "cell_type": "code",
   "execution_count": 34,
   "metadata": {},
   "outputs": [],
   "source": [
    "km_obj, clusters = k_means(feature_matrix=feature_matrix, num_clusters=num_clusters)"
   ]
  },
  {
   "cell_type": "code",
   "execution_count": 35,
   "metadata": {},
   "outputs": [],
   "source": [
    "movie_data['Cluster'] = clusters"
   ]
  },
  {
   "cell_type": "code",
   "execution_count": 36,
   "metadata": {},
   "outputs": [],
   "source": [
    "from collections import Counter"
   ]
  },
  {
   "cell_type": "code",
   "execution_count": 37,
   "metadata": {},
   "outputs": [
    {
     "data": {
      "text/plain": [
       "dict_items([(4, 2), (3, 50), (0, 5), (2, 39), (1, 4)])"
      ]
     },
     "execution_count": 37,
     "metadata": {},
     "output_type": "execute_result"
    }
   ],
   "source": [
    "# get the total number of movies per cluster\n",
    "c = Counter(clusters)\n",
    "c.items()"
   ]
  },
  {
   "cell_type": "code",
   "execution_count": 38,
   "metadata": {},
   "outputs": [],
   "source": [
    "def get_cluster_data(clustering_obj, movie_data, \n",
    "                     feature_names, num_clusters,\n",
    "                     topn_features=10):\n",
    "\n",
    "    cluster_details = {}  \n",
    "    # get cluster centroids\n",
    "    ordered_centroids = clustering_obj.cluster_centers_.argsort()[:, ::-1]\n",
    "    # get key features for each cluster\n",
    "    # get movies belonging to each cluster\n",
    "    for cluster_num in range(num_clusters):\n",
    "        cluster_details[cluster_num] = {}\n",
    "        cluster_details[cluster_num]['cluster_num'] = cluster_num\n",
    "        key_features = [feature_names[index] \n",
    "                        for index \n",
    "                        in ordered_centroids[cluster_num, :topn_features]]\n",
    "        cluster_details[cluster_num]['key_features'] = key_features\n",
    "        \n",
    "        movies = movie_data[movie_data['Cluster'] == cluster_num]['Title'].values.tolist()\n",
    "        cluster_details[cluster_num]['movies'] = movies\n",
    "    \n",
    "    return cluster_details\n"
   ]
  },
  {
   "cell_type": "code",
   "execution_count": 39,
   "metadata": {},
   "outputs": [],
   "source": [
    "def print_cluster_data(cluster_data):\n",
    "    # print cluster details\n",
    "    for cluster_num, cluster_details in cluster_data.items():\n",
    "        print('Cluster {} details:'.format(cluster_num))\n",
    "        print( '-'*20 )\n",
    "        print( 'Key features:', cluster_details['key_features'])\n",
    "        print( 'Movies in this cluster:')\n",
    "        print( ', '.join(cluster_details['movies']))\n",
    "        print( '='*40 )\n"
   ]
  },
  {
   "cell_type": "code",
   "execution_count": 40,
   "metadata": {},
   "outputs": [],
   "source": [
    "cluster_data =  get_cluster_data(clustering_obj=km_obj,\n",
    "                                 movie_data=movie_data,\n",
    "                                 feature_names=feature_names,\n",
    "                                 num_clusters=num_clusters,\n",
    "                                 topn_features=5)          "
   ]
  },
  {
   "cell_type": "code",
   "execution_count": 41,
   "metadata": {},
   "outputs": [
    {
     "name": "stdout",
     "output_type": "stream",
     "text": [
      "Cluster 0 details:\n",
      "--------------------\n",
      "Key features: ['brother', 'father', 'son', 'fight', 'of his']\n",
      "Movies in this cluster:\n",
      "Raging Bull, Gladiator, Braveheart, The King's Speech, Rain Man\n",
      "========================================\n",
      "Cluster 1 details:\n",
      "--------------------\n",
      "Key features: ['water', 'her', 'on the', 'she', 'attempts']\n",
      "Movies in this cluster:\n",
      "Chinatown, Jaws, The African Queen, Mutiny on the Bounty\n",
      "========================================\n",
      "Cluster 2 details:\n",
      "--------------------\n",
      "Key features: ['her', 'she', 'about', 'tells', 'was']\n",
      "Movies in this cluster:\n",
      "Casablanca, Gone with the Wind, Citizen Kane, The Wizard of Oz, Titanic, Psycho, Sunset Blvd., Vertigo, The Sound of Music, West Side Story, The Silence of the Lambs, Some Like It Hot, Rocky, A Streetcar Named Desire, The Philadelphia Story, To Kill a Mockingbird, An American in Paris, The Best Years of Our Lives, My Fair Lady, The Apartment, The Exorcist, City Lights, It Happened One Night, A Place in the Sun, Annie Hall, Out of Africa, Terms of Endearment, Tootsie, Fargo, Nashville, The Graduate, American Graffiti, The Maltese Falcon, Taxi Driver, Wuthering Heights, Double Indemnity, Rear Window, The Third Man, North by Northwest\n",
      "========================================\n",
      "Cluster 3 details:\n",
      "--------------------\n",
      "Key features: ['will', 'them', 'on the', 'her', 'and the']\n",
      "Movies in this cluster:\n",
      "The Shawshank Redemption, Schindler's List, One Flew Over the Cuckoo's Nest, Lawrence of Arabia, The Godfather: Part II, On the Waterfront, Forrest Gump, Star Wars, E.T. the Extra-Terrestrial, 2001: A Space Odyssey, The Bridge on the River Kwai, It's a Wonderful Life, 12 Angry Men, Dr. Strangelove or: How I Learned to Stop Worrying and Love the Bomb, Amadeus, Apocalypse Now, Gandhi, The Lord of the Rings: The Return of the King, From Here to Eternity, Saving Private Ryan, Unforgiven, Raiders of the Lost Ark, Ben-Hur, Doctor Zhivago, Patton, The Good, the Bad and the Ugly, Butch Cassidy and the Sundance Kid, The Treasure of the Sierra Madre, Platoon, High Noon, Dances with Wolves, The Pianist, Goodfellas, The Deer Hunter, All Quiet on the Western Front, The French Connection, Midnight Cowboy, Mr. Smith Goes to Washington, Good Will Hunting, Giant, The Grapes of Wrath, Shane, The Green Mile, Close Encounters of the Third Kind, Network, Pulp Fiction, Stagecoach, A Clockwork Orange, Rebel Without a Cause, Yankee Doodle Dandy\n",
      "========================================\n",
      "Cluster 4 details:\n",
      "--------------------\n",
      "Key features: ['don', 'family', 'she', 'film', 'her']\n",
      "Movies in this cluster:\n",
      "The Godfather, Singin' in the Rain\n",
      "========================================\n"
     ]
    }
   ],
   "source": [
    "print_cluster_data(cluster_data)"
   ]
  },
  {
   "cell_type": "markdown",
   "metadata": {},
   "source": [
    "# Plot the clusters"
   ]
  },
  {
   "cell_type": "code",
   "execution_count": 42,
   "metadata": {},
   "outputs": [],
   "source": [
    "import matplotlib.pyplot as plt\n",
    "from sklearn.decomposition import PCA\n",
    "from sklearn.metrics.pairwise import cosine_similarity\n",
    "import random\n",
    "from matplotlib.font_manager import FontProperties"
   ]
  },
  {
   "cell_type": "code",
   "execution_count": 43,
   "metadata": {},
   "outputs": [],
   "source": [
    "def plot_clusters(num_clusters, feature_matrix,\n",
    "                  cluster_data, movie_data,\n",
    "                  plot_size=(16,8)):\n",
    "    # generate random color for clusters                  \n",
    "    def generate_random_color():\n",
    "        color = '#%06x' % random.randint(0, 0xFFFFFF)\n",
    "        return color\n",
    "    # define markers for clusters    \n",
    "    markers = ['o', 'v', '^', '<', '>', '8', 's', 'p', '*', 'h', 'H', 'D', 'd']\n",
    "    # build cosine distance matrix\n",
    "    cosine_distance = 1 - cosine_similarity(feature_matrix) \n",
    "    # dimensionality reduction using PCA\n",
    "    pca = PCA(n_components=2, random_state=1)\n",
    "    # get coordinates of clusters in new low-dimensional space\n",
    "    #plot_positions = mds.fit_transform(cosine_distance)  \n",
    "    plot_positions = pca.fit_transform(cosine_distance)  \n",
    "    x_pos, y_pos = plot_positions[:, 0], plot_positions[:, 1]\n",
    "    # build cluster plotting data\n",
    "    cluster_color_map = {}\n",
    "    cluster_name_map = {}\n",
    "    for cluster_num, cluster_details in cluster_data.items():\n",
    "        # assign cluster features to unique label\n",
    "        cluster_color_map[cluster_num] = generate_random_color()\n",
    "        cluster_name_map[cluster_num] = ', '.join(cluster_details['key_features'][:5]).strip()\n",
    "    # map each unique cluster label with its coordinates and movies\n",
    "    cluster_plot_frame = pd.DataFrame({'x': x_pos,\n",
    "                                       'y': y_pos,\n",
    "                                       'label': movie_data['Cluster'].values.tolist(),\n",
    "                                       'title': movie_data['Title'].values.tolist()\n",
    "                                        })\n",
    "    grouped_plot_frame = cluster_plot_frame.groupby('label')\n",
    "    # set plot figure size and axes\n",
    "    fig, ax = plt.subplots(figsize=plot_size) \n",
    "    ax.margins(0.05)\n",
    "    # plot each cluster using co-ordinates and movie titles\n",
    "    for cluster_num, cluster_frame in grouped_plot_frame:\n",
    "         marker = markers[cluster_num] if cluster_num < len(markers) \\\n",
    "                  else np.random.choice(markers, size=1)[0]\n",
    "         ax.plot(cluster_frame['x'], cluster_frame['y'], \n",
    "                 marker=marker, linestyle='', ms=12,\n",
    "                 label=cluster_name_map[cluster_num], \n",
    "                 color=cluster_color_map[cluster_num], mec='none')\n",
    "         ax.set_aspect('auto')\n",
    "         ax.tick_params(axis= 'x', which='both', bottom='off', top='off',        \n",
    "                        labelbottom='off')\n",
    "         ax.tick_params(axis= 'y', which='both', left='off', top='off',         \n",
    "                        labelleft='off')\n",
    "    fontP = FontProperties()\n",
    "    fontP.set_size('small')    \n",
    "    ax.legend(loc='upper center', bbox_to_anchor=(0.5, -0.01), fancybox=True, \n",
    "              shadow=True, ncol=5, numpoints=1, prop=fontP) \n",
    "    #add labels as the film titles\n",
    "    for index in range(len(cluster_plot_frame)):\n",
    "        ax.text(cluster_plot_frame.ix[index]['x'], \n",
    "                cluster_plot_frame.ix[index]['y'], \n",
    "                cluster_plot_frame.ix[index]['title'], size=8)  \n",
    "    # show the plot           \n",
    "    plt.show()"
   ]
  },
  {
   "cell_type": "code",
   "execution_count": 44,
   "metadata": {},
   "outputs": [
    {
     "data": {
      "image/png": "[encoded data removed]",
      "text/plain": [
       "<Figure size 1152x576 with 1 Axes>"
      ]
     },
     "metadata": {
      "needs_background": "light"
     },
     "output_type": "display_data"
    }
   ],
   "source": [
    "plot_clusters(num_clusters=num_clusters, \n",
    "              feature_matrix=feature_matrix,\n",
    "              cluster_data=cluster_data, \n",
    "              movie_data=movie_data,\n",
    "              plot_size=(16,8))"
   ]
  }
 ],
 "metadata": {
  "kernelspec": {
   "display_name": "Python 3",
   "language": "python",
   "name": "python3"
  },
  "language_info": {
   "codemirror_mode": {
    "name": "ipython",
    "version": 3
   },
   "file_extension": ".py",
   "mimetype": "text/x-python",
   "name": "python",
   "nbconvert_exporter": "python",
   "pygments_lexer": "ipython3",
   "version": "3.8.5"
  }
 },
 "nbformat": 4,
 "nbformat_minor": 2
}
