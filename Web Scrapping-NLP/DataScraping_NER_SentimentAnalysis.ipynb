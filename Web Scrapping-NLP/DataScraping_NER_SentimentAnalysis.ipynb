{
 "cells": [
  {
   "cell_type": "markdown",
   "metadata": {},
   "source": [
    "# Data retrieval"
   ]
  },
  {
   "cell_type": "code",
   "execution_count": 1,
   "metadata": {},
   "outputs": [],
   "source": [
    "#!pip install bs4\n",
    "import requests\n",
    "from bs4 import BeautifulSoup\n",
    "import pandas as pd\n",
    "import numpy as np\n",
    "import matplotlib.pyplot as plt\n",
    "import seaborn as sns\n",
    "import os\n",
    "\n",
    "%matplotlib inline"
   ]
  },
  {
   "cell_type": "code",
   "execution_count": 2,
   "metadata": {},
   "outputs": [],
   "source": [
    "url = 'https://inshorts.com/en/read/technology'"
   ]
  },
  {
   "cell_type": "code",
   "execution_count": 3,
   "metadata": {},
   "outputs": [],
   "source": [
    "news_data = []"
   ]
  },
  {
   "cell_type": "code",
   "execution_count": 4,
   "metadata": {},
   "outputs": [
    {
     "data": {
      "text/plain": [
       "['https:', '', 'inshorts.com', 'en', 'read', 'technology']"
      ]
     },
     "execution_count": 4,
     "metadata": {},
     "output_type": "execute_result"
    }
   ],
   "source": [
    "news_category = url.split('/')\n",
    "news_category"
   ]
  },
  {
   "cell_type": "code",
   "execution_count": 5,
   "metadata": {},
   "outputs": [],
   "source": [
    "news_category = news_category[-1]"
   ]
  },
  {
   "cell_type": "code",
   "execution_count": 6,
   "metadata": {},
   "outputs": [
    {
     "data": {
      "text/plain": [
       "b'<!doctype html>\\n<html lang=\"en\">\\n\\n<head>\\n  <meta charset=\"utf-8\" />\\n  <style>\\n    /* The Modal (background) */\\n    .modal_contact {\\n        display: none; /* Hidden by default */\\n        position: fixed; /* Stay in place */\\n        z-index: 8; /* Sit on top */\\n        left: 0;\\n        top: 0;\\n        width: 100%; /* Full width */\\n        height: 100%;\\n        overflow: auto; /* Enable scroll if needed */\\n        background-color: rgb(0,0,0); /* Fallback color */\\n        background-color: rgba(0,0,0,0.4); /* Black w/ opacity */\\n    }\\n\\n    /* Modal Content/Box */\\n    .modal-content {\\n        background-color: #fefefe;\\n        margin: 15% auto;\\n        padding: 20px !important;\\n        padding-top: 0 !important;\\n        /* border: 1px solid #888; */\\n        text-align: center;\\n        position: relative;\\n        border-radius: 6px;\\n    }\\n\\n    /* The Close Button */\\n    .close {\\n      left: 90%;\\n      color: #aaa;\\n      float: right;\\n      font-size: 28px;\\n      font-weight: bold;\\n    /* position: absolute; */\\n    /* bottom: 86%; */\\n    /* display: inline-block; */\\n    /* padding-left: 5%; */\\n    }\\n\\n    .close:hover,\\n    .close:focus {\\n        color: black;\\n        text-decoration: none;\\n        cursor: pointer;\\n    }\\n\\n    #myBtn {\\n      background: #999999;\\n      color: #ffffff;\\n      text-transform: uppercase;\\n      font-weight: bold;\\n      box-shadow: none;\\n      border-radius: 4px;\\n      border: none;\\n      font-size: .8rem;\\n      /* width: 8rem; */\\n      height: 2rem;\\n      line-height: 2rem;\\n    }\\n\\n    .contact {\\n      margin-bottom: 4%;\\n      clear: both;\\n    }\\n  </style>\\n\\n  \\n    \\n  <meta http-equiv=\"Content-Type\" content=\"text/html; charset=UTF-8\"/>\\n  <meta name=\"viewport\" content=\"width=device-width, initial-scale=1, maximum-scale=1.0, user-scalable=no\"/>\\n\\n  <meta http-equiv=\"X-UA-Compatible\" content=\"IE=edge\">\\n  <link rel=\"manifest\" href=\"manifest.json\">\\n\\n  <!-- Fallback to homescreen for Chrome   <39 on Android -->\\n  <meta name=\"mobile-web-app-capable\" content=\"yes\">\\n  <meta name=\"application-name\" content=\"inshorts\">\\n  <link rel=\"icon\" sizes=\"192x192\" href=\"https://assets.inshorts.com/website_assets/images/favicon.png\">\\n\\n  <!-- Add to homescreen for Safari on iOS -->\\n  <meta name=\"apple-mobile-web-app-capable\" content=\"yes\">\\n  <meta name=\"apple-mobile-web-app-status-bar-style\" content=\"#424242\">\\n  <meta name=\"apple-mobile-web-app-title\" content=\"inshorts\">\\n  <link rel=\"apple-touch-icon\" href=\"https://assets.inshorts.com/website_assets/images/favicon.png\">\\n\\n  <!-- Tile icon for Win8 (144x144 + tile color) -->\\n  <meta name=\"msapplication-TileImage\" content=\"fav/favicon.png\">\\n  <meta name=\"msapplication-TileColor\" content=\"#424242\">\\n\\n  <meta name=\"theme-color\" content=\"#424242\">\\n  <meta http-equiv=\"content-type\" content=\"text/html; charset=UTF-8\"/>\\n  <meta name=\"msapplication-navbutton-color\" content=\"#424242\">\\n  <meta name=\"apple-mobile-web-app-status-bar-style\" content=\"#424242\">\\n  <link rel=\"apple-touch-startup-image\" href=\"https://assets.inshorts.com/website_assets/images/favicon.png\">\\n  <meta name=\"apple-mobile-web-app-status-bar-style\" content=\"black-translucent\">\\n    <meta name=\"twitter:card\" content=\"app\"/>\\n  <meta name=\"twitter:site\" content=\"@inshorts\"/>\\n  <meta name=\"twitter:creator\" content=\"@inshorts\"/>\\n  <meta name=\"twitter:description\" content=\"Inshorts delivers news in less than 60 words, containing only the essential facts, compromising on anything that is close to opinionating and storytelling.\"/>\\n  <meta name=\"twitter:app:country\" content=\"IN\"/>\\n  <meta name=\"twitter:app:name:iphone\" content=\"Inshorts - Stay Informed\"/>\\n  <meta name=\"twitter:app:id:iphone\" content=\"892146527\"/>\\n  <meta name=\"twitter:app:url:iphone\" content=\"nis://news\"/>\\n  <meta name=\"twitter:app:name:ipad\" content=\"Inshorts - Stay Informed\"/>\\n  <meta name=\"twitter:app:id:ipad\" content=\"892146527\"/>\\n  <meta name=\"twitter:app:url:ipad\" content=\"nis://news\"/>\\n  <meta name=\"twitter:app:name:googleplay\" content=\"Inshorts - Stay Informed\"/>\\n  <meta name=\"twitter:app:id:googleplay\" content=\"com.nis.app\"/>\\n  <meta name=\"twitter:app:url:googleplay\" content=\"nis://news\"/>\\n\\n  <meta name=\"description\" content=\"Read technology news in English in less that 60 words and get updated with all top news and current affairs related to mobile, internet and computer in a fast and easy way with inshorts.\"/>\\n  <link href=\"https://inshorts.com/en/read/technology\" rel=\"canonical\" />\\n  <link href=\"https://inshorts.com/en/read/technology\" rel=\"alternate\" reflang=\"en\" />\\n  <meta name=\"apple-itunes-app\" content=\"app-id=892146527\">\\n  <meta name=\"google-play-app\" content=\"app-id=com.nis.app\">\\n\\n  <title>Technology News: Moblie News, Computer News in English with Inshorts</title>\\n  <!-- CSS  -->\\n  <link href=\\'https://fonts.googleapis.com/css?family=Roboto\\' rel=\\'stylesheet\\' type=\\'text/css\\'>\\n  <link href=\"https://fonts.googleapis.com/icon?family=Material+Icons\" rel=\"stylesheet\">\\n  <link rel=\"stylesheet\" href=\"https://cdnjs.cloudflare.com/ajax/libs/materialize/0.97.1/css/materialize.min.css\">\\n  <link href=\\'https://fonts.googleapis.com/css?family=Hind:500,600,400&subset=latin,devanagari\\' rel=\\'stylesheet\\' type=\\'text/css\\'>\\n  <link href=\"/dist/styles/main.css\" type=\"text/css\" rel=\"stylesheet\" media=\"screen,projection\"/>\\n  <link href=\"/dist/styles/index.css\" type=\"text/css\" rel=\"stylesheet\" media=\"screen,projection\"/>\\n  <link href=\"/dist/styles/read.css\" type=\"text/css\" rel=\"stylesheet\" media=\"screen,projection\"/>\\n  <link href=\"/dist/styles/news-card.css\" type=\"text/css\" rel=\"stylesheet\" media=\"screen,projection\"/>\\n  <link rel=\"icon\" type=\"image/png\" href=\"https://assets.inshorts.com/website_assets/images/favicon.png\" />\\n  <link rel=\"manifest\" href=\"/dist/manifest.json\">\\n  <script async=\\'async\\' src=\\'https://www.googletagservices.com/tag/js/gpt.js\\'></script>\\n  <script>\\n    var googletag = googletag || {};\\n    googletag.cmd = googletag.cmd || [];\\n    let top_banner_slot;\\n  </script>\\n\\n  <!-- Top banner for desktop-->\\n  <script>\\n    googletag.cmd.push(function() {\\n      \\n      \\n        //Top banner for desktop\\n        top_banner_slot = googletag.defineSlot(\\'/142919096/inshorts_website_728x90\\', [728, 90], \\'div-gpt-ad-1536585015617-0\\')\\n        .addService(googletag.pubads())\\n        .setCollapseEmptyDiv(true,true);\\n      \\n\\n      googletag.pubads().disableInitialLoad();\\n      googletag.pubads().enableSingleRequest();\\n      googletag.enableServices();\\n    });\\n  </script>\\n\\n  <!-- Facebook Pixel Code -->\\n  <script>\\n    !function(f,b,e,v,n,t,s)\\n    {if(f.fbq)return;n=f.fbq=function(){n.callMethod?\\n    n.callMethod.apply(n,arguments):n.queue.push(arguments)};\\n    if(!f._fbq)f._fbq=n;n.push=n;n.loaded=!0;n.version=\\'2.0\\';\\n    n.queue=[];t=b.createElement(e);t.async=!0;\\n    t.src=v;s=b.getElementsByTagName(e)[0];\\n    s.parentNode.insertBefore(t,s)}(window, document,\\'script\\',\\n    \\'https://connect.facebook.net/en_US/fbevents.js\\');\\n    fbq(\\'init\\', \\'822966517773327\\');\\n    fbq(\\'track\\', \\'PageView\\');\\n  </script>\\n  <noscript><img height=\"1\" width=\"1\" style=\"display:none\"\\n    src=\"https://www.facebook.com/tr?id=822966517773327&ev=PageView&noscript=1\"\\n  /></noscript>\\n  <!-- End Facebook Pixel Code -->\\n</head>\\n<script>\\n  (function(i,s,o,g,r,a,m){i[\\'GoogleAnalyticsObject\\']=r;i[r]=i[r]||function(){\\n  (i[r].q=i[r].q||[]).push(arguments)},i[r].l=1*new Date();a=s.createElement(o),\\n  m=s.getElementsByTagName(o)[0];a.async=1;a.src=g;m.parentNode.insertBefore(a,m)\\n  })(window,document,\\'script\\',\\'//www.google-analytics.com/analytics.js\\',\\'ga\\');\\n\\n  ga(\\'create\\', \\'UA-55157535-6\\', \\'auto\\');\\n  ga(\\'send\\', \\'pageview\\');  \\n</script>\\n\\n<body>\\n\\n\\n  <!-- Begin comScore Tag -->\\n  <script>\\n    var _comscore = _comscore || [];\\n    _comscore.push({ c1: \"2\", c2: \"28268321\" });\\n    (function() {\\n      var s = document.createElement(\"script\"), el = document.getElementsByTagName(\"script\")[0]; s.async = true;\\n      s.src = (document.location.protocol == \"https:\" ? \"https://sb\" : \"http://b\") + \".scorecardresearch.com/beacon.js\";\\n      el.parentNode.insertBefore(s, el);\\n    })();\\n  </script>\\n  <noscript>\\n    <img src=\"https://sb.scorecardresearch.com/p?c1=2&c2=28268321&cv=2.0&cj=1\" />\\n  </noscript>\\n  \\n  \\n  <!-- HEADER START -->\\n  <div class=\"header z-depth-1\">\\n    <div class=\"menu clickable\">\\n      <button class=\"c-hamburger c-hamburger--htx\" ><span>toggle menu</span></button><span class=\"unselectable\">Menu</span>\\n    </div>\\n    <!--\\n    <div class=\"search-wrapper hide-on-small-only\">\\n      <input class=\"search-box\" placeholder=\"Search\" id=\"search\"/>\\n      <i id=\"search_icon\" class=\"material-icons search-icon\">search</i>\\n      <div class=\"search-box-ul\">&nbsp;</div>\\n    </div>\\n    -->\\n    <a href=\"/\"><img src=\"https://assets.inshorts.com/website_assets/images/logo_inshorts.png\" class=\"logo\"/></a>\\n  </div>\\n  <!-- HEADER END -->\\n\\n  \\n<!--SIDEBAR START -->\\n    <div class=\"hide-on-med-and-up sidebar-bg\" style=\"display: none;\">&nbsp;</div>\\n    <div class=\"sidebar\" style=\"overflow-y: scroll;\">\\n      <div class=\"lang-bar\" style=\"\">\\n        <div class=\"lang-selector clickable\">\\n          <a href=\\'/en/read/technology\\'><div class=\"lang-en selected\">English</div></a>\\n          <a href=\\'/hi/read/technology\\'><div class=\"lang-hi \">\\xe0\\xa4\\xb9\\xe0\\xa4\\xbf\\xe0\\xa4\\xa8\\xe0\\xa5\\x8d\\xe0\\xa4\\xa6\\xe0\\xa5\\x80</div></a>\\n        </div>\\n      </div>\\n\\n      <div>\\n        <div class=\"category-header\">Categories</div>\\n        <ul class=\"category-list\">\\n\\n          <a onclick=\"ga(\\'send\\', {\\'hitType\\': \\'event\\', \\'eventCategory\\': \\'LinkToAllNews\\', \\'eventAction\\': \\'clicked\\', \\'eventLabel\\': \\'RedirectedToAllNews\\' });\" href=\\'/en/read\\'> <li class=\"active-category \" >All News</li> </a>\\n\\n\\n          <a onclick=\"ga(\\'send\\', {\\'hitType\\': \\'event\\', \\'eventCategory\\': \\'LinkToIndiaNews\\', \\'eventAction\\': \\'clicked\\', \\'eventLabel\\': \\'RedirectedToIndiaNews\\' });\" href=\\'/en/read/national\\'> <li class=\"active-category \">India</li> </a>\\n\\n          <a onclick=\"ga(\"send\", {\"hitType\": \"event\", \"eventCategory\": \"LinkToIndiaNews\", \"eventAction\": \"clicked\", \"eventLabel\":  \"RedirectedToIndiaNews\" });\"  href=\\'/en/read/business\\'> <li class=\"active-category \">Business</li> </a>\\n\\n          <a onclick=\"ga(\\'send\\', {\\'hitType\\': \\'event\\', \\'eventCategory\\': \\'LinkTosportsNews\\', \\'eventAction\\': \\'clicked\\', \\'eventLabel\\': \\'RedirectedToSportsNews\\' });\"  href=\\'/en/read/sports\\'> <li class=\"active-category \">Sports</li> </a>\\n          <a onclick=\"ga(\\'send\\', {\\'hitType\\': \\'event\\', \\'eventCategory\\': \\'LinkToworldNews\\', \\'eventAction\\': \\'clicked\\', \\'eventLabel\\': \\'RedirectedToworldNews\\' });\" href=\\'/en/read/world\\'> <li class=\"active-category \">World</li> </a>\\n\\n          <a onclick=\"ga(\\'send\\', {\\'hitType\\': \\'event\\', \\'eventCategory\\': \\'LinkToworldNews\\', \\'eventAction\\': \\'clicked\\',   \\'eventLabel\\': \\'RedirectedToworldNews\\' });\"  href=\\'/en/read/politics\\'> <li class=\"active-category \">Politics</li> </a>\\n          <a onclick=\"ga(\\'send\\', {\\'hitType\\': \\'event\\', \\'eventCategory\\': \\'LinkTotechnologyNews\\', \\'eventAction\\': \\'clicked\\', \\'eventLabel\\': \\'RedirectedTotechnologyNews\\' });\" href=\\'/en/read/technology\\'> <li class=\"active-category selected\">Technology</li> </a>\\n\\n          <a onclick=\"ga(\\'send\\', {\\'hitType\\': \\'event\\', \\'eventCategory\\': \\'LinkTostartupNews\\', \\'eventAction\\': \\'clicked\\', \\'eventLabel\\': \\'RedirectedTostartupNews\\' });\"  href=\\'/en/read/startup\\'> <li class=\"active-category \">Startup</li> </a>\\n\\n\\n          <a onclick=\"ga(\\'send\\', {\\'hitType\\': \\'event\\', \\'eventCategory\\': \\'LinkToEntertainmentNews\\', \\'eventAction\\': \\'clicked\\', \\'eventLabel\\': \\'RedirectedToEntertainmentNews\\' });\"  href=\\'/en/read/entertainment\\'> <li class=\"active-category \">Entertainment</li> </a>\\n\\n\\n          <a onclick=\"ga(\\'send\\', {\\'hitType\\': \\'event\\', \\'eventCategory\\': \\'LinkToMiscellaneousNews\\', \\'eventAction\\': \\'clicked\\', \\'eventLabel\\': \\'RedirectedToMiscellaneousNews\\' });\"  href=\\'/en/read/miscellaneous\\'> <li class=\"active-category \">Miscellaneous</li> </a>\\n\\n          <a onclick=\"ga(\\'send\\', {\\'hitType\\': \\'event\\', \\'eventCategory\\': \\'LinkTohatkeNews\\', \\'eventAction\\': \\'clicked\\', \\'eventLabel\\': \\'RedirectedTohatkeNews\\' });\"  href=\\'/en/read/hatke\\'> <li class=\"active-category \">Hatke</li> </a>\\n\\n          <a onclick=\"ga(\\'send\\', {\\'hitType\\': \\'event\\', \\'eventCategory\\': \\'LinkToscienceNews\\', \\'eventAction\\': \\'clicked\\', \\'eventLabel\\': \\'RedirectedToscienceNews\\' });\"  href=\\'/en/read/science\\'> <li class=\"active-category \">Science</li> </a>\\n\\n          <a onclick=\"ga(\\'send\\', {\\'hitType\\': \\'event\\', \\'eventCategory\\': \\'LinkToautomobileNews\\', \\'eventAction\\': \\'clicked\\', \\'eventLabel\\': \\'RedirectedToautomobileNews\\' });\"  href=\\'/en/read/automobile\\'> <li class=\"active-category \">Automobile</li> </a>\\n\\n        </ul>\\n      </div>\\n    </div>\\n<!--SIDEBAR END -->\\n\\n  <!-- BODY START -->\\n  <div class=\"container\" style=\"min-height:550px;\">\\n    <div class=\"row\" style=\"padding-top:110px;\">\\n      \\n        <div id=\\'div-gpt-ad-1536585015617-0\\' style=\\'height:90px; width:728px;margin: auto; margin-bottom: 1%;\\'>\\n          <script>\\n          googletag.cmd.push(function() { \\n            googletag.display(\\'div-gpt-ad-1536585015617-0\\'); \\n            googletag.pubads().refresh([top_banner_slot]);\\n          });\\n          </script>\\n        </div>\\n      \\n      \\n\\n      \\n      <div class=\"hide-on-med-and-down z-depth-1\" style=\"margin-left : auto;margin-right : auto;margin-bottom: 32px;width : 900px;height:48px;background: #f44336\">\\n        <div style=\"font-weight: 300;color:white !important;font-size:14px;margin-left: 48px;margin-top: 13px;position: absolute;display: block;\">\\n          For the best experience use <a target=\"_blank\" href=\"https://inshorts.com/mobile\" style=\"color:white;appearance: none;font-weight: 500;\">inshorts</a> app on your smartphone\\n        </div>\\n        \\n        \\n      </div>\\n      \\n      <div class=\"card-stack\">\\n        \\n\\n\\n\\n\\n\\n<div class=\"\">\\n<div class=\"news-card z-depth-1\" itemscope itemtype=\"http://schema.org/NewsArticle\">\\n  <span content=\"\" itemscope itemprop=\"mainEntityOfPage\" itemType=\"https://schema.org/WebPage\" itemid=\"https://inshorts.com/en/news/govt-got-social-media-posts-on-covid19-removed-due-to-misinformation-reports-1619348683314\"></span>\\n  <span itemtype=\"https://schema.org/Person\" itemscope=\"itemscope\" itemprop=\"author\">\\n    <span itemprop=\"name\" content=\"Sakshita Khosla\"></span>\\n  </span>\\n  <span itemprop=\"description\" content=\"Govt got social media posts on COVID-19 removed due to misinformation: Reports\"></span>\\n  <span itemprop=\"image\" itemscope itemtype=\"https://schema.org/ImageObject\">\\n    <meta itemprop=\"url\" content=\"https://static.inshorts.com/inshorts/images/v1/variants/jpg/m/2021/04_apr/25_sun/img_1619347054796_605.jpg?\"></meta>\\n    <meta itemprop=\"width\" content=\"864\"></meta>\\n    <meta itemprop=\"height\" content=\"483\"></meta>\\n  </span>\\n  <span itemtype=\"https://schema.org/Organization\" itemscope=\"itemscope\" itemprop=\"publisher\">\\n    <span itemprop=\"url\" content=\"https://inshorts.com/\"></span>\\n    <span itemprop=\"name\" content=\"Inshorts\"></span>\\n    <span itemprop=\"logo\" itemscope itemtype=\"https://schema.org/ImageObject\">\\n      <span itemprop=\"url\" content=\"https://assets.inshorts.com/inshorts/images/v1/variants/jpg/m/2018/11_nov/21_wed/img_1542823931298_497.jpg\"></span>\\n      <meta itemprop=\"width\" content=\"400\"></meta>\\n      <meta itemprop=\"height\" content=\"60\"></meta>\\n    </span>\\n  </span>\\n  <div class=\"news-card-image\" style= \"background-image: url(\\'https://static.inshorts.com/inshorts/images/v1/variants/jpg/m/2021/04_apr/25_sun/img_1619347054796_605.jpg?\\')\">\\n  </div>\\n  <div class=\"news-card-title news-right-box\">\\n    <a class=\"clickable\" onclick=\"ga(\\'send\\', {\\'hitType\\': \\'event\\', \\'eventCategory\\': \\'TitleOfNews\\', \\'eventAction\\': \\'clicked\\', \\'eventLabel\\': \\'Govt%20got%20social%20media%20posts%20on%20COVID-19%20removed%20due%20to%20misinformation%3A%20Reports)\\' });\"  style=\"color:#44444d!important\" href=\"/en/news/govt-got-social-media-posts-on-covid19-removed-due-to-misinformation-reports-1619348683314\">\\n      <span itemprop=\"headline\">Govt got social media posts on COVID-19 removed due to misinformation: Reports</span>\\n    </a>\\n    <div class=\"news-card-author-time news-card-author-time-in-title\">\\n      <a href=\"/prev/en/news/govt-got-social-media-posts-on-covid19-removed-due-to-misinformation-reports-1619348683314\"><span class=\"short\">short</span></a> by <span class=\"author\">Sakshita Khosla</span> / \\n      <span class=\"time\" itemprop=\"datePublished\" content=\"2021-04-25T11:04:43.000Z\">04:34 pm</span> on <span clas=\"date\">25 Apr 2021,Sunday</span>\\n    </div>\\n  </div>\\n  <div class=\"news-card-content news-right-box\">\\n    <div itemprop=\"articleBody\">The Centre has reportedly said that the removal of around 100 coronavirus-related posts on social media was due to &#34;misinformation&#34; and not because of criticism of the government. According to reports, the Ministry of Electronics and Information Technology (MeitY) has said that some people were &#34;misusing&#34; social media to create panic over the COVID-19 pandemic.</div>\\n    <div class=\"news-card-author-time news-card-author-time-in-content\">\\n      <a href=\"/prev/en/news/govt-got-social-media-posts-on-covid19-removed-due-to-misinformation-reports-1619348683314\"><span class=\"short\">short</span></a> by <span class=\"author\">Sakshita Khosla</span> / \\n      <span class=\"time\" itemprop=\"dateModified\" content=\"2021-04-25T11:04:43.000Z\" >04:34 pm</span> on <span class=\"date\">25 Apr</span>\\n    </div>\\n  </div>\\n  \\n\\n</div>\\n\\n  \\n</div>\\n\\n\\n\\n\\n<div class=\"\">\\n<div class=\"news-card z-depth-1\" itemscope itemtype=\"http://schema.org/NewsArticle\">\\n  <span content=\"\" itemscope itemprop=\"mainEntityOfPage\" itemType=\"https://schema.org/WebPage\" itemid=\"https://inshorts.com/en/news/im-fine-with-only-being-known-as-serenas-husband-reddit-cofounder-1619345602330\"></span>\\n  <span itemtype=\"https://schema.org/Person\" itemscope=\"itemscope\" itemprop=\"author\">\\n    <span itemprop=\"name\" content=\"Pragya Swastik\"></span>\\n  </span>\\n  <span itemprop=\"description\" content=\"I&#39;m fine with only being known as Serena&#39;s husband: Reddit Co-founder\"></span>\\n  <span itemprop=\"image\" itemscope itemtype=\"https://schema.org/ImageObject\">\\n    <meta itemprop=\"url\" content=\"https://static.inshorts.com/inshorts/images/v1/variants/jpg/m/2021/04_apr/25_sun/img_1619344191925_82.jpg?\"></meta>\\n    <meta itemprop=\"width\" content=\"864\"></meta>\\n    <meta itemprop=\"height\" content=\"483\"></meta>\\n  </span>\\n  <span itemtype=\"https://schema.org/Organization\" itemscope=\"itemscope\" itemprop=\"publisher\">\\n    <span itemprop=\"url\" content=\"https://inshorts.com/\"></span>\\n    <span itemprop=\"name\" content=\"Inshorts\"></span>\\n    <span itemprop=\"logo\" itemscope itemtype=\"https://schema.org/ImageObject\">\\n      <span itemprop=\"url\" content=\"https://assets.inshorts.com/inshorts/images/v1/variants/jpg/m/2018/11_nov/21_wed/img_1542823931298_497.jpg\"></span>\\n      <meta itemprop=\"width\" content=\"400\"></meta>\\n      <meta itemprop=\"height\" content=\"60\"></meta>\\n    </span>\\n  </span>\\n  <div class=\"news-card-image\" style= \"background-image: url(\\'https://static.inshorts.com/inshorts/images/v1/variants/jpg/m/2021/04_apr/25_sun/img_1619344191925_82.jpg?\\')\">\\n  </div>\\n  <div class=\"news-card-title news-right-box\">\\n    <a class=\"clickable\" onclick=\"ga(\\'send\\', {\\'hitType\\': \\'event\\', \\'eventCategory\\': \\'TitleOfNews\\', \\'eventAction\\': \\'clicked\\', \\'eventLabel\\': \\'I&#39;m%20fine%20with%20only%20being%20known%20as%20Serena&#39;s%20husband%3A%20Reddit%20Co-founder)\\' });\"  style=\"color:#44444d!important\" href=\"/en/news/im-fine-with-only-being-known-as-serenas-husband-reddit-cofounder-1619345602330\">\\n      <span itemprop=\"headline\">I&#39;m fine with only being known as Serena&#39;s husband: Reddit Co-founder</span>\\n    </a>\\n    <div class=\"news-card-author-time news-card-author-time-in-title\">\\n      <a href=\"/prev/en/news/im-fine-with-only-being-known-as-serenas-husband-reddit-cofounder-1619345602330\"><span class=\"short\">short</span></a> by <span class=\"author\">Pragya Swastik</span> / \\n      <span class=\"time\" itemprop=\"datePublished\" content=\"2021-04-25T10:13:22.000Z\">03:43 pm</span> on <span clas=\"date\">25 Apr 2021,Sunday</span>\\n    </div>\\n  </div>\\n  <div class=\"news-card-content news-right-box\">\\n    <div itemprop=\"articleBody\">Reddit Co-founder Alexis Ohanian said it&#39;s &#34;fine&#34; for him to be only known as tennis player Serena Williams&#39; husband. &#34;I&#39;ll be a self-made billionaire one day and most people will still know me as Serena&#39;s husband (or Olympia&#39;s dad) and that&#39;s fine by me,&#34; the 38-year-old tech entrepreneur tweeted. Alexis and Serena married in 2017 and have a daughter together.</div>\\n    <div class=\"news-card-author-time news-card-author-time-in-content\">\\n      <a href=\"/prev/en/news/im-fine-with-only-being-known-as-serenas-husband-reddit-cofounder-1619345602330\"><span class=\"short\">short</span></a> by <span class=\"author\">Pragya Swastik</span> / \\n      <span class=\"time\" itemprop=\"dateModified\" content=\"2021-04-25T10:13:22.000Z\" >03:43 pm</span> on <span class=\"date\">25 Apr</span>\\n    </div>\\n  </div>\\n  \\n\\n</div>\\n\\n  \\n</div>\\n\\n\\n\\n\\n<div class=\"\">\\n<div class=\"news-card z-depth-1\" itemscope itemtype=\"http://schema.org/NewsArticle\">\\n  <span content=\"\" itemscope itemprop=\"mainEntityOfPage\" itemType=\"https://schema.org/WebPage\" itemid=\"https://inshorts.com/en/news/zuckerberg-says-he-lost-45-kg-as-he-forgot-to-eat-meals-father-responds-1619356099932\"></span>\\n  <span itemtype=\"https://schema.org/Person\" itemscope=\"itemscope\" itemprop=\"author\">\\n    <span itemprop=\"name\" content=\"Pragya Swastik\"></span>\\n  </span>\\n  <span itemprop=\"description\" content=\"Zuckerberg says he lost 4.5 kg as he forgot to eat meals; father responds\"></span>\\n  <span itemprop=\"image\" itemscope itemtype=\"https://schema.org/ImageObject\">\\n    <meta itemprop=\"url\" content=\"https://static.inshorts.com/inshorts/images/v1/variants/jpg/m/2021/04_apr/25_sun/img_1619355834441_858.jpg?\"></meta>\\n    <meta itemprop=\"width\" content=\"864\"></meta>\\n    <meta itemprop=\"height\" content=\"483\"></meta>\\n  </span>\\n  <span itemtype=\"https://schema.org/Organization\" itemscope=\"itemscope\" itemprop=\"publisher\">\\n    <span itemprop=\"url\" content=\"https://inshorts.com/\"></span>\\n    <span itemprop=\"name\" content=\"Inshorts\"></span>\\n    <span itemprop=\"logo\" itemscope itemtype=\"https://schema.org/ImageObject\">\\n      <span itemprop=\"url\" content=\"https://assets.inshorts.com/inshorts/images/v1/variants/jpg/m/2018/11_nov/21_wed/img_1542823931298_497.jpg\"></span>\\n      <meta itemprop=\"width\" content=\"400\"></meta>\\n      <meta itemprop=\"height\" content=\"60\"></meta>\\n    </span>\\n  </span>\\n  <div class=\"news-card-image\" style= \"background-image: url(\\'https://static.inshorts.com/inshorts/images/v1/variants/jpg/m/2021/04_apr/25_sun/img_1619355834441_858.jpg?\\')\">\\n  </div>\\n  <div class=\"news-card-title news-right-box\">\\n    <a class=\"clickable\" onclick=\"ga(\\'send\\', {\\'hitType\\': \\'event\\', \\'eventCategory\\': \\'TitleOfNews\\', \\'eventAction\\': \\'clicked\\', \\'eventLabel\\': \\'Zuckerberg%20says%20he%20lost%204.5%20kg%20as%20he%20forgot%20to%20eat%20meals%3B%20father%20responds)\\' });\"  style=\"color:#44444d!important\" href=\"/en/news/zuckerberg-says-he-lost-45-kg-as-he-forgot-to-eat-meals-father-responds-1619356099932\">\\n      <span itemprop=\"headline\">Zuckerberg says he lost 4.5 kg as he forgot to eat meals; father responds</span>\\n    </a>\\n    <div class=\"news-card-author-time news-card-author-time-in-title\">\\n      <a href=\"/prev/en/news/zuckerberg-says-he-lost-45-kg-as-he-forgot-to-eat-meals-father-responds-1619356099932\"><span class=\"short\">short</span></a> by <span class=\"author\">Pragya Swastik</span> / \\n      <span class=\"time\" itemprop=\"datePublished\" content=\"2021-04-25T13:08:19.000Z\">06:38 pm</span> on <span clas=\"date\">25 Apr 2021,Sunday</span>\\n    </div>\\n  </div>\\n  <div class=\"news-card-content news-right-box\">\\n    <div itemprop=\"articleBody\">Facebook&#39;s CEO Mark Zuckerberg posted on Facebook that he&#39;s lost 4.5 kg because he forgot to eat meals due to the excitement over his work. His father Edward Zuckerberg in a comment asked, &#34;Do you need Mom and I to deliver meals?&#34; The response went viral with one user commenting, &#34;That&#39;s what most Indian parents do and I love it.&#34;</div>\\n    <div class=\"news-card-author-time news-card-author-time-in-content\">\\n      <a href=\"/prev/en/news/zuckerberg-says-he-lost-45-kg-as-he-forgot-to-eat-meals-father-responds-1619356099932\"><span class=\"short\">short</span></a> by <span class=\"author\">Pragya Swastik</span> / \\n      <span class=\"time\" itemprop=\"dateModified\" content=\"2021-04-25T13:08:19.000Z\" >06:38 pm</span> on <span class=\"date\">25 Apr</span>\\n    </div>\\n  </div>\\n  \\n\\n</div>\\n\\n  \\n</div>\\n\\n\\n\\n\\n<div class=\"\">\\n<div class=\"news-card z-depth-1\" itemscope itemtype=\"http://schema.org/NewsArticle\">\\n  <span content=\"\" itemscope itemprop=\"mainEntityOfPage\" itemType=\"https://schema.org/WebPage\" itemid=\"https://inshorts.com/en/news/twitter-removes-52-tweets-criticising-govts-handling-of-pandemic-after-centres-request-1619329534882\"></span>\\n  <span itemtype=\"https://schema.org/Person\" itemscope=\"itemscope\" itemprop=\"author\">\\n    <span itemprop=\"name\" content=\"Anmol Sharma\"></span>\\n  </span>\\n  <span itemprop=\"description\" content=\"Twitter removes 52 tweets criticising govt&#39;s handling of pandemic after Centre&#39;s request\"></span>\\n  <span itemprop=\"image\" itemscope itemtype=\"https://schema.org/ImageObject\">\\n    <meta itemprop=\"url\" content=\"https://static.inshorts.com/inshorts/images/v1/variants/jpg/m/2021/04_apr/25_sun/img_1619327554827_859.jpg?\"></meta>\\n    <meta itemprop=\"width\" content=\"864\"></meta>\\n    <meta itemprop=\"height\" content=\"483\"></meta>\\n  </span>\\n  <span itemtype=\"https://schema.org/Organization\" itemscope=\"itemscope\" itemprop=\"publisher\">\\n    <span itemprop=\"url\" content=\"https://inshorts.com/\"></span>\\n    <span itemprop=\"name\" content=\"Inshorts\"></span>\\n    <span itemprop=\"logo\" itemscope itemtype=\"https://schema.org/ImageObject\">\\n      <span itemprop=\"url\" content=\"https://assets.inshorts.com/inshorts/images/v1/variants/jpg/m/2018/11_nov/21_wed/img_1542823931298_497.jpg\"></span>\\n      <meta itemprop=\"width\" content=\"400\"></meta>\\n      <meta itemprop=\"height\" content=\"60\"></meta>\\n    </span>\\n  </span>\\n  <div class=\"news-card-image\" style= \"background-image: url(\\'https://static.inshorts.com/inshorts/images/v1/variants/jpg/m/2021/04_apr/25_sun/img_1619327554827_859.jpg?\\')\">\\n  </div>\\n  <div class=\"news-card-title news-right-box\">\\n    <a class=\"clickable\" onclick=\"ga(\\'send\\', {\\'hitType\\': \\'event\\', \\'eventCategory\\': \\'TitleOfNews\\', \\'eventAction\\': \\'clicked\\', \\'eventLabel\\': \\'Twitter%20removes%2052%20tweets%20criticising%20govt&#39;s%20handling%20of%20pandemic%20after%20Centre&#39;s%20request)\\' });\"  style=\"color:#44444d!important\" href=\"/en/news/twitter-removes-52-tweets-criticising-govts-handling-of-pandemic-after-centres-request-1619329534882\">\\n      <span itemprop=\"headline\">Twitter removes 52 tweets criticising govt&#39;s handling of pandemic after Centre&#39;s request</span>\\n    </a>\\n    <div class=\"news-card-author-time news-card-author-time-in-title\">\\n      <a href=\"/prev/en/news/twitter-removes-52-tweets-criticising-govts-handling-of-pandemic-after-centres-request-1619329534882\"><span class=\"short\">short</span></a> by <span class=\"author\">Anmol Sharma</span> / \\n      <span class=\"time\" itemprop=\"datePublished\" content=\"2021-04-25T05:45:34.000Z\">11:15 am</span> on <span clas=\"date\">25 Apr 2021,Sunday</span>\\n    </div>\\n  </div>\\n  <div class=\"news-card-content news-right-box\">\\n    <div itemprop=\"articleBody\">Twitter has taken down 52 tweets, most of which criticised India&#39;s handling of coronavirus pandemic, after the Centre&#39;s request. The censored tweets include posts by MP Revanth Reddy, filmmakers Vinod Kapri and Avinash Das, actor Vineet Kumar Singh and West Bengal minister Moloy Ghatak. Vineet had posted a tweet criticising political rallies amid the pandemic and the shortage of medicines.</div>\\n    <div class=\"news-card-author-time news-card-author-time-in-content\">\\n      <a href=\"/prev/en/news/twitter-removes-52-tweets-criticising-govts-handling-of-pandemic-after-centres-request-1619329534882\"><span class=\"short\">short</span></a> by <span class=\"author\">Anmol Sharma</span> / \\n      <span class=\"time\" itemprop=\"dateModified\" content=\"2021-04-25T05:45:34.000Z\" >11:15 am</span> on <span class=\"date\">25 Apr</span>\\n    </div>\\n  </div>\\n  \\n    <div class=\"news-card-footer news-right-box\">\\n      <div class=\"read-more\">read more at <a class=\"source\" onclick=\"ga(\\'send\\', {\\'hitType\\': \\'event\\', \\'eventCategory\\': \\'ReadMore\\', \\'eventAction\\': \\'clicked\\', \\'eventLabel\\': \\'Hindustan%20Times\\' });\" target=\"_blank\" href=\"https://tech.hindustantimes.com/amp/tech/news/indian-govt-asked-twitter-to-remove-over-50-pandemic-related-tweets-71619285145985.html?utm_campaign=fullarticle&amp;utm_medium=referral&amp;utm_source=inshorts \">Hindustan Times</a></div>\\n    </div>\\n  \\n\\n</div>\\n\\n  \\n</div>\\n\\n\\n\\n\\n  \\n    <div id=\\'div-gpt-ad-1536748319959-5xsjnzsh-1\\' style=\\'height:250px; width:900px; margin: auto; margin-bottom: 2%;\\'>\\n      <script>\\n        googletag.cmd.push(function() { \\n          //News banner for desktop\\n          var slotIdWeb = \\'div-gpt-ad-1536748319959-5xsjnzsh-1\\';\\n          var slot = googletag.defineSlot(\\'/142919096/inshorts_website_900x250\\', [900, 250], slotIdWeb)\\n          .addService(googletag.pubads())\\n          .setCollapseEmptyDiv(true,true);\\n\\n          googletag.display(\\'div-gpt-ad-1536748319959-5xsjnzsh-1\\');\\n          googletag.pubads().refresh([slot]);\\n        });\\n      </script>\\n    </div>\\n  \\n\\n<div class=\"\">\\n<div class=\"news-card z-depth-1\" itemscope itemtype=\"http://schema.org/NewsArticle\">\\n  <span content=\"\" itemscope itemprop=\"mainEntityOfPage\" itemType=\"https://schema.org/WebPage\" itemid=\"https://inshorts.com/en/news/elon-musk-trolled-with-big-mars-sucks-billboard-outside-spacex-headquarters-1619256738730\"></span>\\n  <span itemtype=\"https://schema.org/Person\" itemscope=\"itemscope\" itemprop=\"author\">\\n    <span itemprop=\"name\" content=\"Arshiya Chopra\"></span>\\n  </span>\\n  <span itemprop=\"description\" content=\"Elon Musk trolled with big &#39;Mars sucks&#39; billboard outside SpaceX headquarters\"></span>\\n  <span itemprop=\"image\" itemscope itemtype=\"https://schema.org/ImageObject\">\\n    <meta itemprop=\"url\" content=\"https://static.inshorts.com/inshorts/images/v1/variants/jpg/m/2021/04_apr/24_sat/img_1619255317384_795.jpg?\"></meta>\\n    <meta itemprop=\"width\" content=\"864\"></meta>\\n    <meta itemprop=\"height\" content=\"483\"></meta>\\n  </span>\\n  <span itemtype=\"https://schema.org/Organization\" itemscope=\"itemscope\" itemprop=\"publisher\">\\n    <span itemprop=\"url\" content=\"https://inshorts.com/\"></span>\\n    <span itemprop=\"name\" content=\"Inshorts\"></span>\\n    <span itemprop=\"logo\" itemscope itemtype=\"https://schema.org/ImageObject\">\\n      <span itemprop=\"url\" content=\"https://assets.inshorts.com/inshorts/images/v1/variants/jpg/m/2018/11_nov/21_wed/img_1542823931298_497.jpg\"></span>\\n      <meta itemprop=\"width\" content=\"400\"></meta>\\n      <meta itemprop=\"height\" content=\"60\"></meta>\\n    </span>\\n  </span>\\n  <div class=\"news-card-image\" style= \"background-image: url(\\'https://static.inshorts.com/inshorts/images/v1/variants/jpg/m/2021/04_apr/24_sat/img_1619255317384_795.jpg?\\')\">\\n  </div>\\n  <div class=\"news-card-title news-right-box\">\\n    <a class=\"clickable\" onclick=\"ga(\\'send\\', {\\'hitType\\': \\'event\\', \\'eventCategory\\': \\'TitleOfNews\\', \\'eventAction\\': \\'clicked\\', \\'eventLabel\\': \\'Elon%20Musk%20trolled%20with%20big%20&#39;Mars%20sucks&#39;%20billboard%20outside%20SpaceX%20headquarters)\\' });\"  style=\"color:#44444d!important\" href=\"/en/news/elon-musk-trolled-with-big-mars-sucks-billboard-outside-spacex-headquarters-1619256738730\">\\n      <span itemprop=\"headline\">Elon Musk trolled with big &#39;Mars sucks&#39; billboard outside SpaceX headquarters</span>\\n    </a>\\n    <div class=\"news-card-author-time news-card-author-time-in-title\">\\n      <a href=\"/prev/en/news/elon-musk-trolled-with-big-mars-sucks-billboard-outside-spacex-headquarters-1619256738730\"><span class=\"short\">short</span></a> by <span class=\"author\">Arshiya Chopra</span> / \\n      <span class=\"time\" itemprop=\"datePublished\" content=\"2021-04-24T09:32:18.000Z\">03:02 pm</span> on <span clas=\"date\">24 Apr 2021,Saturday</span>\\n    </div>\\n  </div>\\n  <div class=\"news-card-content news-right-box\">\\n    <div itemprop=\"articleBody\">Elon Musk was trolled with a big billboard outside his SpaceX headquarters in US&#39; California that read &#39;Mars sucks&#39; on the occasion of Earth Day. The billboard was set up by Los Angeles agency Activista for Earth Day and was live for 30 hours. &#34;What doesn&#39;t suck? Earth But the way we treat it frankly, sucks,&#34; Activista tweeted.</div>\\n    <div class=\"news-card-author-time news-card-author-time-in-content\">\\n      <a href=\"/prev/en/news/elon-musk-trolled-with-big-mars-sucks-billboard-outside-spacex-headquarters-1619256738730\"><span class=\"short\">short</span></a> by <span class=\"author\">Arshiya Chopra</span> / \\n      <span class=\"time\" itemprop=\"dateModified\" content=\"2021-04-24T09:32:18.000Z\" >03:02 pm</span> on <span class=\"date\">24 Apr</span>\\n    </div>\\n  </div>\\n  \\n    <div class=\"news-card-footer news-right-box\">\\n      <div class=\"read-more\">read more at <a class=\"source\" onclick=\"ga(\\'send\\', {\\'hitType\\': \\'event\\', \\'eventCategory\\': \\'ReadMore\\', \\'eventAction\\': \\'clicked\\', \\'eventLabel\\': \\'Business%20Insider\\' });\" target=\"_blank\" href=\"https://www.businessinsider.in/tech/news/a-billboard-outside-of-spacex-headquarters-targeted-elon-musks-plans-for-planet-colonization-on-earth-day-mars-sucks/amp_articleshow/82224116.cms?utm_campaign=fullarticle&amp;utm_medium=referral&amp;utm_source=inshorts \">Business Insider</a></div>\\n    </div>\\n  \\n\\n</div>\\n\\n  \\n</div>\\n\\n\\n\\n\\n<div class=\"\">\\n<div class=\"news-card z-depth-1\" itemscope itemtype=\"http://schema.org/NewsArticle\">\\n  <span content=\"\" itemscope itemprop=\"mainEntityOfPage\" itemType=\"https://schema.org/WebPage\" itemid=\"https://inshorts.com/en/news/spacexs-falcon-9-rocket-soars-past-disney-world-theme-park-shares-pics-1619358082603\"></span>\\n  <span itemtype=\"https://schema.org/Person\" itemscope=\"itemscope\" itemprop=\"author\">\\n    <span itemprop=\"name\" content=\"Pragya Swastik\"></span>\\n  </span>\\n  <span itemprop=\"description\" content=\"SpaceX&#39;s Falcon 9 rocket soars past Disney World; theme park shares pics\"></span>\\n  <span itemprop=\"image\" itemscope itemtype=\"https://schema.org/ImageObject\">\\n    <meta itemprop=\"url\" content=\"https://static.inshorts.com/inshorts/images/v1/variants/jpg/m/2021/04_apr/25_sun/img_1619356192825_579.jpg?\"></meta>\\n    <meta itemprop=\"width\" content=\"864\"></meta>\\n    <meta itemprop=\"height\" content=\"483\"></meta>\\n  </span>\\n  <span itemtype=\"https://schema.org/Organization\" itemscope=\"itemscope\" itemprop=\"publisher\">\\n    <span itemprop=\"url\" content=\"https://inshorts.com/\"></span>\\n    <span itemprop=\"name\" content=\"Inshorts\"></span>\\n    <span itemprop=\"logo\" itemscope itemtype=\"https://schema.org/ImageObject\">\\n      <span itemprop=\"url\" content=\"https://assets.inshorts.com/inshorts/images/v1/variants/jpg/m/2018/11_nov/21_wed/img_1542823931298_497.jpg\"></span>\\n      <meta itemprop=\"width\" content=\"400\"></meta>\\n      <meta itemprop=\"height\" content=\"60\"></meta>\\n    </span>\\n  </span>\\n  <div class=\"news-card-image\" style= \"background-image: url(\\'https://static.inshorts.com/inshorts/images/v1/variants/jpg/m/2021/04_apr/25_sun/img_1619356192825_579.jpg?\\')\">\\n  </div>\\n  <div class=\"news-card-title news-right-box\">\\n    <a class=\"clickable\" onclick=\"ga(\\'send\\', {\\'hitType\\': \\'event\\', \\'eventCategory\\': \\'TitleOfNews\\', \\'eventAction\\': \\'clicked\\', \\'eventLabel\\': \\'SpaceX&#39;s%20Falcon%209%20rocket%20soars%20past%20Disney%20World%3B%20theme%20park%20shares%20pics)\\' });\"  style=\"color:#44444d!important\" href=\"/en/news/spacexs-falcon-9-rocket-soars-past-disney-world-theme-park-shares-pics-1619358082603\">\\n      <span itemprop=\"headline\">SpaceX&#39;s Falcon 9 rocket soars past Disney World; theme park shares pics</span>\\n    </a>\\n    <div class=\"news-card-author-time news-card-author-time-in-title\">\\n      <a href=\"/prev/en/news/spacexs-falcon-9-rocket-soars-past-disney-world-theme-park-shares-pics-1619358082603\"><span class=\"short\">short</span></a> by <span class=\"author\">Pragya Swastik</span> / \\n      <span class=\"time\" itemprop=\"datePublished\" content=\"2021-04-25T13:41:22.000Z\">07:11 pm</span> on <span clas=\"date\">25 Apr 2021,Sunday</span>\\n    </div>\\n  </div>\\n  <div class=\"news-card-content news-right-box\">\\n    <div itemprop=\"articleBody\">The Walt Disney World Resort has shared pictures of SpaceX&#39;s Falcon 9 rocket, with Crew Dragon atop, that soared past the theme park on April 23. The rocket was launched from NASA&#39;s Kennedy Space Centre in Florida, carrying four astronauts from three nations in SpaceX Dragon capsule. It left a silhouette vapour trail in the skies above the theme park.</div>\\n    <div class=\"news-card-author-time news-card-author-time-in-content\">\\n      <a href=\"/prev/en/news/spacexs-falcon-9-rocket-soars-past-disney-world-theme-park-shares-pics-1619358082603\"><span class=\"short\">short</span></a> by <span class=\"author\">Pragya Swastik</span> / \\n      <span class=\"time\" itemprop=\"dateModified\" content=\"2021-04-25T13:41:22.000Z\" >07:11 pm</span> on <span class=\"date\">25 Apr</span>\\n    </div>\\n  </div>\\n  \\n    <div class=\"news-card-footer news-right-box\">\\n      <div class=\"read-more\">read more at <a class=\"source\" onclick=\"ga(\\'send\\', {\\'hitType\\': \\'event\\', \\'eventCategory\\': \\'ReadMore\\', \\'eventAction\\': \\'clicked\\', \\'eventLabel\\': \\'Business%20Insider%20India\\' });\" target=\"_blank\" href=\"https://www.businessinsider.in/science/news/disney-photographers-capture-truly-cinematic-photos-of-spacexs-falcon-9-rocket-soaring-past-disney-world/amp_articleshow/82233731.cms?utm_campaign=fullarticle&amp;utm_medium=referral&amp;utm_source=inshorts \">Business Insider India</a></div>\\n    </div>\\n  \\n\\n</div>\\n\\n  \\n</div>\\n\\n\\n\\n\\n<div class=\"\">\\n<div class=\"news-card z-depth-1\" itemscope itemtype=\"http://schema.org/NewsArticle\">\\n  <span content=\"\" itemscope itemprop=\"mainEntityOfPage\" itemType=\"https://schema.org/WebPage\" itemid=\"https://inshorts.com/en/news/dot-to-ask-spacex-to-seek-permits-for-starlink-internet-report-1619358592955\"></span>\\n  <span itemtype=\"https://schema.org/Person\" itemscope=\"itemscope\" itemprop=\"author\">\\n    <span itemprop=\"name\" content=\"Hiral Goyal\"></span>\\n  </span>\\n  <span itemprop=\"description\" content=\"DoT to ask SpaceX to seek permits for Starlink internet: Report\"></span>\\n  <span itemprop=\"image\" itemscope itemtype=\"https://schema.org/ImageObject\">\\n    <meta itemprop=\"url\" content=\"https://static.inshorts.com/inshorts/images/v1/variants/jpg/m/2021/04_apr/25_sun/img_1619356993029_696.jpg?\"></meta>\\n    <meta itemprop=\"width\" content=\"864\"></meta>\\n    <meta itemprop=\"height\" content=\"483\"></meta>\\n  </span>\\n  <span itemtype=\"https://schema.org/Organization\" itemscope=\"itemscope\" itemprop=\"publisher\">\\n    <span itemprop=\"url\" content=\"https://inshorts.com/\"></span>\\n    <span itemprop=\"name\" content=\"Inshorts\"></span>\\n    <span itemprop=\"logo\" itemscope itemtype=\"https://schema.org/ImageObject\">\\n      <span itemprop=\"url\" content=\"https://assets.inshorts.com/inshorts/images/v1/variants/jpg/m/2018/11_nov/21_wed/img_1542823931298_497.jpg\"></span>\\n      <meta itemprop=\"width\" content=\"400\"></meta>\\n      <meta itemprop=\"height\" content=\"60\"></meta>\\n    </span>\\n  </span>\\n  <div class=\"news-card-image\" style= \"background-image: url(\\'https://static.inshorts.com/inshorts/images/v1/variants/jpg/m/2021/04_apr/25_sun/img_1619356993029_696.jpg?\\')\">\\n  </div>\\n  <div class=\"news-card-title news-right-box\">\\n    <a class=\"clickable\" onclick=\"ga(\\'send\\', {\\'hitType\\': \\'event\\', \\'eventCategory\\': \\'TitleOfNews\\', \\'eventAction\\': \\'clicked\\', \\'eventLabel\\': \\'DoT%20to%20ask%20SpaceX%20to%20seek%20permits%20for%20Starlink%20internet%3A%20Report)\\' });\"  style=\"color:#44444d!important\" href=\"/en/news/dot-to-ask-spacex-to-seek-permits-for-starlink-internet-report-1619358592955\">\\n      <span itemprop=\"headline\">DoT to ask SpaceX to seek permits for Starlink internet: Report</span>\\n    </a>\\n    <div class=\"news-card-author-time news-card-author-time-in-title\">\\n      <a href=\"/prev/en/news/dot-to-ask-spacex-to-seek-permits-for-starlink-internet-report-1619358592955\"><span class=\"short\">short</span></a> by <span class=\"author\">Hiral Goyal</span> / \\n      <span class=\"time\" itemprop=\"datePublished\" content=\"2021-04-25T13:49:52.000Z\">07:19 pm</span> on <span clas=\"date\">25 Apr 2021,Sunday</span>\\n    </div>\\n  </div>\\n  <div class=\"news-card-content news-right-box\">\\n    <div itemprop=\"articleBody\">The government will ask Elon Musk-led SpaceX to apply for relevant permits before offering its Starlink satellite internet services in the country, ET reported citing a government official. The Department of Telecommunications (DoT) has no objections but SpaceX must comply with laws of the land, the official said. It will reportedly write to SpaceX seeking to understand its India plans.</div>\\n    <div class=\"news-card-author-time news-card-author-time-in-content\">\\n      <a href=\"/prev/en/news/dot-to-ask-spacex-to-seek-permits-for-starlink-internet-report-1619358592955\"><span class=\"short\">short</span></a> by <span class=\"author\">Hiral Goyal</span> / \\n      <span class=\"time\" itemprop=\"dateModified\" content=\"2021-04-25T13:49:52.000Z\" >07:19 pm</span> on <span class=\"date\">25 Apr</span>\\n    </div>\\n  </div>\\n  \\n    <div class=\"news-card-footer news-right-box\">\\n      <div class=\"read-more\">read more at <a class=\"source\" onclick=\"ga(\\'send\\', {\\'hitType\\': \\'event\\', \\'eventCategory\\': \\'ReadMore\\', \\'eventAction\\': \\'clicked\\', \\'eventLabel\\': \\'NewsBytes\\' });\" target=\"_blank\" href=\"https://www.newsbytesapp.com/news/business/dot-will-urge-starlink-to-seek-regulatory-permits/story/amp?utm_campaign=fullarticle&amp;utm_medium=referral&amp;utm_source=inshorts \">NewsBytes</a></div>\\n    </div>\\n  \\n\\n</div>\\n\\n  \\n</div>\\n\\n\\n\\n\\n<div class=\"\">\\n<div class=\"news-card z-depth-1\" itemscope itemtype=\"http://schema.org/NewsArticle\">\\n  <span content=\"\" itemscope itemprop=\"mainEntityOfPage\" itemType=\"https://schema.org/WebPage\" itemid=\"https://inshorts.com/en/news/4yrold-pak-girl-becomes-youngest-microsoft-certified-professional-govt-1619268599518\"></span>\\n  <span itemtype=\"https://schema.org/Person\" itemscope=\"itemscope\" itemprop=\"author\">\\n    <span itemprop=\"name\" content=\"Aishwarya Awasthi\"></span>\\n  </span>\\n  <span itemprop=\"description\" content=\"4-yr-old Pak girl becomes youngest Microsoft Certified Professional: Pak govt\"></span>\\n  <span itemprop=\"image\" itemscope itemtype=\"https://schema.org/ImageObject\">\\n    <meta itemprop=\"url\" content=\"https://static.inshorts.com/inshorts/images/v1/variants/jpg/m/2021/04_apr/24_sat/img_1619267223409_568.jpg?\"></meta>\\n    <meta itemprop=\"width\" content=\"864\"></meta>\\n    <meta itemprop=\"height\" content=\"483\"></meta>\\n  </span>\\n  <span itemtype=\"https://schema.org/Organization\" itemscope=\"itemscope\" itemprop=\"publisher\">\\n    <span itemprop=\"url\" content=\"https://inshorts.com/\"></span>\\n    <span itemprop=\"name\" content=\"Inshorts\"></span>\\n    <span itemprop=\"logo\" itemscope itemtype=\"https://schema.org/ImageObject\">\\n      <span itemprop=\"url\" content=\"https://assets.inshorts.com/inshorts/images/v1/variants/jpg/m/2018/11_nov/21_wed/img_1542823931298_497.jpg\"></span>\\n      <meta itemprop=\"width\" content=\"400\"></meta>\\n      <meta itemprop=\"height\" content=\"60\"></meta>\\n    </span>\\n  </span>\\n  <div class=\"news-card-image\" style= \"background-image: url(\\'https://static.inshorts.com/inshorts/images/v1/variants/jpg/m/2021/04_apr/24_sat/img_1619267223409_568.jpg?\\')\">\\n  </div>\\n  <div class=\"news-card-title news-right-box\">\\n    <a class=\"clickable\" onclick=\"ga(\\'send\\', {\\'hitType\\': \\'event\\', \\'eventCategory\\': \\'TitleOfNews\\', \\'eventAction\\': \\'clicked\\', \\'eventLabel\\': \\'4-yr-old%20Pak%20girl%20becomes%20youngest%20Microsoft%20Certified%20Professional%3A%20Pak%20govt)\\' });\"  style=\"color:#44444d!important\" href=\"/en/news/4yrold-pak-girl-becomes-youngest-microsoft-certified-professional-govt-1619268599518\">\\n      <span itemprop=\"headline\">4-yr-old Pak girl becomes youngest Microsoft Certified Professional: Pak govt</span>\\n    </a>\\n    <div class=\"news-card-author-time news-card-author-time-in-title\">\\n      <a href=\"/prev/en/news/4yrold-pak-girl-becomes-youngest-microsoft-certified-professional-govt-1619268599518\"><span class=\"short\">short</span></a> by <span class=\"author\">Aishwarya Awasthi</span> / \\n      <span class=\"time\" itemprop=\"datePublished\" content=\"2021-04-24T12:49:59.000Z\">06:19 pm</span> on <span clas=\"date\">24 Apr 2021,Saturday</span>\\n    </div>\\n  </div>\\n  <div class=\"news-card-content news-right-box\">\\n    <div itemprop=\"articleBody\">Pakistan&#39;s government has announced that a four-year-old Pakistani girl made history by becoming the youngest Microsoft Certified Professional. Areesh Fatima scored 831 marks in the MCP exam. Her father, who reportedly accomplished the milestone at a very young age, said he saw his daughter&#39;s interest in IT and helped her with the test during COVID-19 lockdown.</div>\\n    <div class=\"news-card-author-time news-card-author-time-in-content\">\\n      <a href=\"/prev/en/news/4yrold-pak-girl-becomes-youngest-microsoft-certified-professional-govt-1619268599518\"><span class=\"short\">short</span></a> by <span class=\"author\">Aishwarya Awasthi</span> / \\n      <span class=\"time\" itemprop=\"dateModified\" content=\"2021-04-24T12:49:59.000Z\" >06:19 pm</span> on <span class=\"date\">24 Apr</span>\\n    </div>\\n  </div>\\n  \\n    <div class=\"news-card-footer news-right-box\">\\n      <div class=\"read-more\">read more at <a class=\"source\" onclick=\"ga(\\'send\\', {\\'hitType\\': \\'event\\', \\'eventCategory\\': \\'ReadMore\\', \\'eventAction\\': \\'clicked\\', \\'eventLabel\\': \\'Twitter\\' });\" target=\"_blank\" href=\"https://twitter.com/GovtofPakistan/status/1385502429307932675?ref_src=twsrc%5Etfw%7Ctwcamp%5Etweetembed%7Ctwterm%5E1385502429307932675%7Ctwgr%5E%7Ctwcon%5Es1_&amp;utm_campaign=fullarticle&amp;utm_medium=referral&amp;ref_url=https%3A%2F%2Fwww.geo.tv%2Flatest%2F346889-meet&amp;utm_source=inshorts \">Twitter</a></div>\\n    </div>\\n  \\n\\n</div>\\n\\n  \\n</div>\\n\\n\\n\\n\\n<div class=\"\">\\n<div class=\"news-card z-depth-1\" itemscope itemtype=\"http://schema.org/NewsArticle\">\\n  <span content=\"\" itemscope itemprop=\"mainEntityOfPage\" itemType=\"https://schema.org/WebPage\" itemid=\"https://inshorts.com/en/news/ethereum-cofounder-donates-\\xe2\\x82\\xb916-cr-for-covid19-relief-in-india-1619353630392\"></span>\\n  <span itemtype=\"https://schema.org/Person\" itemscope=\"itemscope\" itemprop=\"author\">\\n    <span itemprop=\"name\" content=\"Hiral Goyal\"></span>\\n  </span>\\n  <span itemprop=\"description\" content=\"Ethereum Co-founder donates \\xe2\\x82\\xb91.6 cr for COVID-19 relief in India\"></span>\\n  <span itemprop=\"image\" itemscope itemtype=\"https://schema.org/ImageObject\">\\n    <meta itemprop=\"url\" content=\"https://static.inshorts.com/inshorts/images/v1/variants/jpg/m/2021/04_apr/25_sun/img_1619351552486_577.jpg?\"></meta>\\n    <meta itemprop=\"width\" content=\"864\"></meta>\\n    <meta itemprop=\"height\" content=\"483\"></meta>\\n  </span>\\n  <span itemtype=\"https://schema.org/Organization\" itemscope=\"itemscope\" itemprop=\"publisher\">\\n    <span itemprop=\"url\" content=\"https://inshorts.com/\"></span>\\n    <span itemprop=\"name\" content=\"Inshorts\"></span>\\n    <span itemprop=\"logo\" itemscope itemtype=\"https://schema.org/ImageObject\">\\n      <span itemprop=\"url\" content=\"https://assets.inshorts.com/inshorts/images/v1/variants/jpg/m/2018/11_nov/21_wed/img_1542823931298_497.jpg\"></span>\\n      <meta itemprop=\"width\" content=\"400\"></meta>\\n      <meta itemprop=\"height\" content=\"60\"></meta>\\n    </span>\\n  </span>\\n  <div class=\"news-card-image\" style= \"background-image: url(\\'https://static.inshorts.com/inshorts/images/v1/variants/jpg/m/2021/04_apr/25_sun/img_1619351552486_577.jpg?\\')\">\\n  </div>\\n  <div class=\"news-card-title news-right-box\">\\n    <a class=\"clickable\" onclick=\"ga(\\'send\\', {\\'hitType\\': \\'event\\', \\'eventCategory\\': \\'TitleOfNews\\', \\'eventAction\\': \\'clicked\\', \\'eventLabel\\': \\'Ethereum%20Co-founder%20donates%20%E2%82%B91.6%20cr%20for%20COVID-19%20relief%20in%20India)\\' });\"  style=\"color:#44444d!important\" href=\"/en/news/ethereum-cofounder-donates-\\xe2\\x82\\xb916-cr-for-covid19-relief-in-india-1619353630392\">\\n      <span itemprop=\"headline\">Ethereum Co-founder donates \\xe2\\x82\\xb91.6 cr for COVID-19 relief in India</span>\\n    </a>\\n    <div class=\"news-card-author-time news-card-author-time-in-title\">\\n      <a href=\"/prev/en/news/ethereum-cofounder-donates-\\xe2\\x82\\xb916-cr-for-covid19-relief-in-india-1619353630392\"><span class=\"short\">short</span></a> by <span class=\"author\">Hiral Goyal</span> / \\n      <span class=\"time\" itemprop=\"datePublished\" content=\"2021-04-25T12:27:10.000Z\">05:57 pm</span> on <span clas=\"date\">25 Apr 2021,Sunday</span>\\n    </div>\\n  </div>\\n  <div class=\"news-card-content news-right-box\">\\n    <div itemprop=\"articleBody\">Cryptocurrency Ethereum Co-founder Vitalik Buterin has donated 100 Ethereum worth about \\xe2\\x82\\xb91.6 crore towards COVID-19 relief in India. Tweeting the proof of transaction, Buterin thanked Polygon Co-founder Sandeep Nailwal for organising the &#39;India Covid-Crypto Relief Fund&#39;. Nailwal said the donations will be converted to fiat money and used to procure oxygen, food and vaccines for those in need.</div>\\n    <div class=\"news-card-author-time news-card-author-time-in-content\">\\n      <a href=\"/prev/en/news/ethereum-cofounder-donates-\\xe2\\x82\\xb916-cr-for-covid19-relief-in-india-1619353630392\"><span class=\"short\">short</span></a> by <span class=\"author\">Hiral Goyal</span> / \\n      <span class=\"time\" itemprop=\"dateModified\" content=\"2021-04-25T12:27:10.000Z\" >05:57 pm</span> on <span class=\"date\">25 Apr</span>\\n    </div>\\n  </div>\\n  \\n    <div class=\"news-card-footer news-right-box\">\\n      <div class=\"read-more\">read more at <a class=\"source\" onclick=\"ga(\\'send\\', {\\'hitType\\': \\'event\\', \\'eventCategory\\': \\'ReadMore\\', \\'eventAction\\': \\'clicked\\', \\'eventLabel\\': \\'Twitter\\' });\" target=\"_blank\" href=\"https://twitter.com/VitalikButerin/status/1386024429629558784?utm_campaign=fullarticle&amp;utm_medium=referral&amp;utm_source=inshorts \">Twitter</a></div>\\n    </div>\\n  \\n\\n</div>\\n\\n  \\n</div>\\n\\n\\n\\n\\n<div class=\"\">\\n<div class=\"news-card z-depth-1\" itemscope itemtype=\"http://schema.org/NewsArticle\">\\n  <span content=\"\" itemscope itemprop=\"mainEntityOfPage\" itemType=\"https://schema.org/WebPage\" itemid=\"https://inshorts.com/en/news/apple-to-launch-programme-for-staff-to-get-vaccines-at-its-offices-1619255383191\"></span>\\n  <span itemtype=\"https://schema.org/Person\" itemscope=\"itemscope\" itemprop=\"author\">\\n    <span itemprop=\"name\" content=\"Aishwarya Awasthi\"></span>\\n  </span>\\n  <span itemprop=\"description\" content=\"Apple to launch programme for staff to get vaccines at its offices\"></span>\\n  <span itemprop=\"image\" itemscope itemtype=\"https://schema.org/ImageObject\">\\n    <meta itemprop=\"url\" content=\"https://static.inshorts.com/inshorts/images/v1/variants/jpg/m/2021/04_apr/24_sat/img_1619254369320_647.jpg?\"></meta>\\n    <meta itemprop=\"width\" content=\"864\"></meta>\\n    <meta itemprop=\"height\" content=\"483\"></meta>\\n  </span>\\n  <span itemtype=\"https://schema.org/Organization\" itemscope=\"itemscope\" itemprop=\"publisher\">\\n    <span itemprop=\"url\" content=\"https://inshorts.com/\"></span>\\n    <span itemprop=\"name\" content=\"Inshorts\"></span>\\n    <span itemprop=\"logo\" itemscope itemtype=\"https://schema.org/ImageObject\">\\n      <span itemprop=\"url\" content=\"https://assets.inshorts.com/inshorts/images/v1/variants/jpg/m/2018/11_nov/21_wed/img_1542823931298_497.jpg\"></span>\\n      <meta itemprop=\"width\" content=\"400\"></meta>\\n      <meta itemprop=\"height\" content=\"60\"></meta>\\n    </span>\\n  </span>\\n  <div class=\"news-card-image\" style= \"background-image: url(\\'https://static.inshorts.com/inshorts/images/v1/variants/jpg/m/2021/04_apr/24_sat/img_1619254369320_647.jpg?\\')\">\\n  </div>\\n  <div class=\"news-card-title news-right-box\">\\n    <a class=\"clickable\" onclick=\"ga(\\'send\\', {\\'hitType\\': \\'event\\', \\'eventCategory\\': \\'TitleOfNews\\', \\'eventAction\\': \\'clicked\\', \\'eventLabel\\': \\'Apple%20to%20launch%20programme%20for%20staff%20to%20get%20vaccines%20at%20its%20offices)\\' });\"  style=\"color:#44444d!important\" href=\"/en/news/apple-to-launch-programme-for-staff-to-get-vaccines-at-its-offices-1619255383191\">\\n      <span itemprop=\"headline\">Apple to launch programme for staff to get vaccines at its offices</span>\\n    </a>\\n    <div class=\"news-card-author-time news-card-author-time-in-title\">\\n      <a href=\"/prev/en/news/apple-to-launch-programme-for-staff-to-get-vaccines-at-its-offices-1619255383191\"><span class=\"short\">short</span></a> by <span class=\"author\">Aishwarya Awasthi</span> / \\n      <span class=\"time\" itemprop=\"datePublished\" content=\"2021-04-24T09:09:43.000Z\">02:39 pm</span> on <span clas=\"date\">24 Apr 2021,Saturday</span>\\n    </div>\\n  </div>\\n  <div class=\"news-card-content news-right-box\">\\n    <div itemprop=\"articleBody\">Apple has said that it is starting a programme to help employees get voluntary COVID-19 vaccinations at its offices. It is working with drugstore chain Walgreens Boots Alliance as its vendor and will open a website for its employees to sign up for appointments. The programme doesn&#39;t require an immediate return of the employees to the offices.\\n \\n</div>\\n    <div class=\"news-card-author-time news-card-author-time-in-content\">\\n      <a href=\"/prev/en/news/apple-to-launch-programme-for-staff-to-get-vaccines-at-its-offices-1619255383191\"><span class=\"short\">short</span></a> by <span class=\"author\">Aishwarya Awasthi</span> / \\n      <span class=\"time\" itemprop=\"dateModified\" content=\"2021-04-24T09:09:43.000Z\" >02:39 pm</span> on <span class=\"date\">24 Apr</span>\\n    </div>\\n  </div>\\n  \\n    <div class=\"news-card-footer news-right-box\">\\n      <div class=\"read-more\">read more at <a class=\"source\" onclick=\"ga(\\'send\\', {\\'hitType\\': \\'event\\', \\'eventCategory\\': \\'ReadMore\\', \\'eventAction\\': \\'clicked\\', \\'eventLabel\\': \\'Reuters\\' });\" target=\"_blank\" href=\"https://www.reuters.com/technology/apple-help-employees-get-covid-19-vaccines-bloomberg-news-2021-04-23/?utm_campaign=fullarticle&amp;utm_medium=referral&amp;utm_source=inshorts \">Reuters</a></div>\\n    </div>\\n  \\n\\n</div>\\n\\n  \\n</div>\\n\\n\\n\\n\\n  \\n    <div id=\\'div-gpt-ad-1536748319959-zli4dvwt-1\\' style=\\'height:250px; width:900px; margin: auto; margin-bottom: 2%;\\'>\\n      <script>\\n        googletag.cmd.push(function() { \\n          //News banner for desktop\\n          var slotIdWeb = \\'div-gpt-ad-1536748319959-zli4dvwt-1\\';\\n          var slot = googletag.defineSlot(\\'/142919096/inshorts_website_900x250\\', [900, 250], slotIdWeb)\\n          .addService(googletag.pubads())\\n          .setCollapseEmptyDiv(true,true);\\n\\n          googletag.display(\\'div-gpt-ad-1536748319959-zli4dvwt-1\\');\\n          googletag.pubads().refresh([slot]);\\n        });\\n      </script>\\n    </div>\\n  \\n\\n<div class=\"\">\\n<div class=\"news-card z-depth-1\" itemscope itemtype=\"http://schema.org/NewsArticle\">\\n  <span content=\"\" itemscope itemprop=\"mainEntityOfPage\" itemType=\"https://schema.org/WebPage\" itemid=\"https://inshorts.com/en/news/man-who-claims-he-created-bitcoin-allowed-to-serve-copyright-claim-1619341699583\"></span>\\n  <span itemtype=\"https://schema.org/Person\" itemscope=\"itemscope\" itemprop=\"author\">\\n    <span itemprop=\"name\" content=\"Hiral Goyal\"></span>\\n  </span>\\n  <span itemprop=\"description\" content=\"Man who claims he created Bitcoin allowed to serve copyright claim\"></span>\\n  <span itemprop=\"image\" itemscope itemtype=\"https://schema.org/ImageObject\">\\n    <meta itemprop=\"url\" content=\"https://static.inshorts.com/inshorts/images/v1/variants/jpg/m/2021/04_apr/25_sun/img_1619341055118_374.jpg?\"></meta>\\n    <meta itemprop=\"width\" content=\"864\"></meta>\\n    <meta itemprop=\"height\" content=\"483\"></meta>\\n  </span>\\n  <span itemtype=\"https://schema.org/Organization\" itemscope=\"itemscope\" itemprop=\"publisher\">\\n    <span itemprop=\"url\" content=\"https://inshorts.com/\"></span>\\n    <span itemprop=\"name\" content=\"Inshorts\"></span>\\n    <span itemprop=\"logo\" itemscope itemtype=\"https://schema.org/ImageObject\">\\n      <span itemprop=\"url\" content=\"https://assets.inshorts.com/inshorts/images/v1/variants/jpg/m/2018/11_nov/21_wed/img_1542823931298_497.jpg\"></span>\\n      <meta itemprop=\"width\" content=\"400\"></meta>\\n      <meta itemprop=\"height\" content=\"60\"></meta>\\n    </span>\\n  </span>\\n  <div class=\"news-card-image\" style= \"background-image: url(\\'https://static.inshorts.com/inshorts/images/v1/variants/jpg/m/2021/04_apr/25_sun/img_1619341055118_374.jpg?\\')\">\\n  </div>\\n  <div class=\"news-card-title news-right-box\">\\n    <a class=\"clickable\" onclick=\"ga(\\'send\\', {\\'hitType\\': \\'event\\', \\'eventCategory\\': \\'TitleOfNews\\', \\'eventAction\\': \\'clicked\\', \\'eventLabel\\': \\'Man%20who%20claims%20he%20created%20Bitcoin%20allowed%20to%20serve%20copyright%20claim)\\' });\"  style=\"color:#44444d!important\" href=\"/en/news/man-who-claims-he-created-bitcoin-allowed-to-serve-copyright-claim-1619341699583\">\\n      <span itemprop=\"headline\">Man who claims he created Bitcoin allowed to serve copyright claim</span>\\n    </a>\\n    <div class=\"news-card-author-time news-card-author-time-in-title\">\\n      <a href=\"/prev/en/news/man-who-claims-he-created-bitcoin-allowed-to-serve-copyright-claim-1619341699583\"><span class=\"short\">short</span></a> by <span class=\"author\">Hiral Goyal</span> / \\n      <span class=\"time\" itemprop=\"datePublished\" content=\"2021-04-25T09:08:19.000Z\">02:38 pm</span> on <span clas=\"date\">25 Apr 2021,Sunday</span>\\n    </div>\\n  </div>\\n  <div class=\"news-card-content news-right-box\">\\n    <div itemprop=\"articleBody\">Australian scientist Craig Wright has been allowed by a London court to serve a copyright infringement lawsuit against the owners of bitcoin.org website who are identified as &#34;Cobra&#34;. Wright has claimed that he wrote the Bitcoin white paper which was published under the pseudonym Satoshi Nakamoto in 2008. Wright has demanded that &#34;Cobra&#34; remove the white paper from its website.</div>\\n    <div class=\"news-card-author-time news-card-author-time-in-content\">\\n      <a href=\"/prev/en/news/man-who-claims-he-created-bitcoin-allowed-to-serve-copyright-claim-1619341699583\"><span class=\"short\">short</span></a> by <span class=\"author\">Hiral Goyal</span> / \\n      <span class=\"time\" itemprop=\"dateModified\" content=\"2021-04-25T09:08:19.000Z\" >02:38 pm</span> on <span class=\"date\">25 Apr</span>\\n    </div>\\n  </div>\\n  \\n    <div class=\"news-card-footer news-right-box\">\\n      <div class=\"read-more\">read more at <a class=\"source\" onclick=\"ga(\\'send\\', {\\'hitType\\': \\'event\\', \\'eventCategory\\': \\'ReadMore\\', \\'eventAction\\': \\'clicked\\', \\'eventLabel\\': \\'Hindustan%20Times\\' });\" target=\"_blank\" href=\"https://tech.hindustantimes.com/amp/tech/news/scientist-who-says-he-created-bitcoin-can-sue-mystery-website-71619316889268.html?utm_campaign=fullarticle&amp;utm_medium=referral&amp;utm_source=inshorts \">Hindustan Times</a></div>\\n    </div>\\n  \\n\\n</div>\\n\\n  \\n</div>\\n\\n\\n\\n\\n<div class=\"\">\\n<div class=\"news-card z-depth-1\" itemscope itemtype=\"http://schema.org/NewsArticle\">\\n  <span content=\"\" itemscope itemprop=\"mainEntityOfPage\" itemType=\"https://schema.org/WebPage\" itemid=\"https://inshorts.com/en/news/indian-artist-to-auction-worlds-1st-physicallylinked-nft-collection-1619265529721\"></span>\\n  <span itemtype=\"https://schema.org/Person\" itemscope=\"itemscope\" itemprop=\"author\">\\n    <span itemprop=\"name\" content=\"Aishwarya Awasthi\"></span>\\n  </span>\\n  <span itemprop=\"description\" content=\"Indian artist to auction world&#39;s &#39;1st&#39; physically-linked NFT collection\"></span>\\n  <span itemprop=\"image\" itemscope itemtype=\"https://schema.org/ImageObject\">\\n    <meta itemprop=\"url\" content=\"https://static.inshorts.com/inshorts/images/v1/variants/jpg/m/2021/04_apr/24_sat/img_1619261312932_368.jpg?\"></meta>\\n    <meta itemprop=\"width\" content=\"864\"></meta>\\n    <meta itemprop=\"height\" content=\"483\"></meta>\\n  </span>\\n  <span itemtype=\"https://schema.org/Organization\" itemscope=\"itemscope\" itemprop=\"publisher\">\\n    <span itemprop=\"url\" content=\"https://inshorts.com/\"></span>\\n    <span itemprop=\"name\" content=\"Inshorts\"></span>\\n    <span itemprop=\"logo\" itemscope itemtype=\"https://schema.org/ImageObject\">\\n      <span itemprop=\"url\" content=\"https://assets.inshorts.com/inshorts/images/v1/variants/jpg/m/2018/11_nov/21_wed/img_1542823931298_497.jpg\"></span>\\n      <meta itemprop=\"width\" content=\"400\"></meta>\\n      <meta itemprop=\"height\" content=\"60\"></meta>\\n    </span>\\n  </span>\\n  <div class=\"news-card-image\" style= \"background-image: url(\\'https://static.inshorts.com/inshorts/images/v1/variants/jpg/m/2021/04_apr/24_sat/img_1619261312932_368.jpg?\\')\">\\n  </div>\\n  <div class=\"news-card-title news-right-box\">\\n    <a class=\"clickable\" onclick=\"ga(\\'send\\', {\\'hitType\\': \\'event\\', \\'eventCategory\\': \\'TitleOfNews\\', \\'eventAction\\': \\'clicked\\', \\'eventLabel\\': \\'Indian%20artist%20to%20auction%20world&#39;s%20&#39;1st&#39;%20physically-linked%20NFT%20collection)\\' });\"  style=\"color:#44444d!important\" href=\"/en/news/indian-artist-to-auction-worlds-1st-physicallylinked-nft-collection-1619265529721\">\\n      <span itemprop=\"headline\">Indian artist to auction world&#39;s &#39;1st&#39; physically-linked NFT collection</span>\\n    </a>\\n    <div class=\"news-card-author-time news-card-author-time-in-title\">\\n      <a href=\"/prev/en/news/indian-artist-to-auction-worlds-1st-physicallylinked-nft-collection-1619265529721\"><span class=\"short\">short</span></a> by <span class=\"author\">Aishwarya Awasthi</span> / \\n      <span class=\"time\" itemprop=\"datePublished\" content=\"2021-04-24T11:58:49.000Z\">05:28 pm</span> on <span clas=\"date\">24 Apr 2021,Saturday</span>\\n    </div>\\n  </div>\\n  <div class=\"news-card-content news-right-box\">\\n    <div itemprop=\"articleBody\">Globally renowned Indian artist Kanthraj N will be auctioning &#39;&#39;My Life&#39;s Work&#34;, world&#39;s &#34;first&#34; physically-linked NFT collection of his 12 original, globally recognised, and award-winning paintings. He will be using the NFT platform called RubiX, that will enable him to tokenise the physical paintings. The auction will also be the world&#39;s first on-chain NFT.</div>\\n    <div class=\"news-card-author-time news-card-author-time-in-content\">\\n      <a href=\"/prev/en/news/indian-artist-to-auction-worlds-1st-physicallylinked-nft-collection-1619265529721\"><span class=\"short\">short</span></a> by <span class=\"author\">Aishwarya Awasthi</span> / \\n      <span class=\"time\" itemprop=\"dateModified\" content=\"2021-04-24T11:58:49.000Z\" >05:28 pm</span> on <span class=\"date\">24 Apr</span>\\n    </div>\\n  </div>\\n  \\n    <div class=\"news-card-footer news-right-box\">\\n      <div class=\"read-more\">read more at <a class=\"source\" onclick=\"ga(\\'send\\', {\\'hitType\\': \\'event\\', \\'eventCategory\\': \\'ReadMore\\', \\'eventAction\\': \\'clicked\\', \\'eventLabel\\': \\'PTI\\' });\" target=\"_blank\" href=\"https://repository.inshorts.com/articles/en/PTI/ef480164-a680-4d5d-b2bd-8c74f887c171?utm_campaign=fullarticle&amp;utm_medium=referral&amp;utm_source=inshorts \">PTI</a></div>\\n    </div>\\n  \\n\\n</div>\\n\\n  \\n</div>\\n\\n\\n\\n\\n<div class=\"\">\\n<div class=\"news-card z-depth-1\" itemscope itemtype=\"http://schema.org/NewsArticle\">\\n  <span content=\"\" itemscope itemprop=\"mainEntityOfPage\" itemType=\"https://schema.org/WebPage\" itemid=\"https://inshorts.com/en/news/no-immediate-plans-for-an-ipo-tiktokowner-bytedance-1619231423173\"></span>\\n  <span itemtype=\"https://schema.org/Person\" itemscope=\"itemscope\" itemprop=\"author\">\\n    <span itemprop=\"name\" content=\"Aishwarya Awasthi\"></span>\\n  </span>\\n  <span itemprop=\"description\" content=\"No immediate plans for an IPO: TikTok-owner ByteDance\"></span>\\n  <span itemprop=\"image\" itemscope itemtype=\"https://schema.org/ImageObject\">\\n    <meta itemprop=\"url\" content=\"https://static.inshorts.com/inshorts/images/v1/variants/jpg/m/2021/04_apr/23_fri/img_1619197232666_654.jpg?\"></meta>\\n    <meta itemprop=\"width\" content=\"864\"></meta>\\n    <meta itemprop=\"height\" content=\"483\"></meta>\\n  </span>\\n  <span itemtype=\"https://schema.org/Organization\" itemscope=\"itemscope\" itemprop=\"publisher\">\\n    <span itemprop=\"url\" content=\"https://inshorts.com/\"></span>\\n    <span itemprop=\"name\" content=\"Inshorts\"></span>\\n    <span itemprop=\"logo\" itemscope itemtype=\"https://schema.org/ImageObject\">\\n      <span itemprop=\"url\" content=\"https://assets.inshorts.com/inshorts/images/v1/variants/jpg/m/2018/11_nov/21_wed/img_1542823931298_497.jpg\"></span>\\n      <meta itemprop=\"width\" content=\"400\"></meta>\\n      <meta itemprop=\"height\" content=\"60\"></meta>\\n    </span>\\n  </span>\\n  <div class=\"news-card-image\" style= \"background-image: url(\\'https://static.inshorts.com/inshorts/images/v1/variants/jpg/m/2021/04_apr/23_fri/img_1619197232666_654.jpg?\\')\">\\n  </div>\\n  <div class=\"news-card-title news-right-box\">\\n    <a class=\"clickable\" onclick=\"ga(\\'send\\', {\\'hitType\\': \\'event\\', \\'eventCategory\\': \\'TitleOfNews\\', \\'eventAction\\': \\'clicked\\', \\'eventLabel\\': \\'No%20immediate%20plans%20for%20an%20IPO%3A%20TikTok-owner%20ByteDance)\\' });\"  style=\"color:#44444d!important\" href=\"/en/news/no-immediate-plans-for-an-ipo-tiktokowner-bytedance-1619231423173\">\\n      <span itemprop=\"headline\">No immediate plans for an IPO: TikTok-owner ByteDance</span>\\n    </a>\\n    <div class=\"news-card-author-time news-card-author-time-in-title\">\\n      <a href=\"/prev/en/news/no-immediate-plans-for-an-ipo-tiktokowner-bytedance-1619231423173\"><span class=\"short\">short</span></a> by <span class=\"author\">Aishwarya Awasthi</span> / \\n      <span class=\"time\" itemprop=\"datePublished\" content=\"2021-04-24T02:30:23.000Z\">08:00 am</span> on <span clas=\"date\">24 Apr 2021,Saturday</span>\\n    </div>\\n  </div>\\n  <div class=\"news-card-content news-right-box\">\\n    <div itemprop=\"articleBody\">Beijing-based TikTok-parent ByteDance has said it has no imminent plans for an initial public offering (IPO). &#34;We believe the company doesn&#39;t meet the public listing requirements for now,&#34; ByteDance said in a statement. Reuters had earlier reported ByteDance has been exploring possibilities to list Douyin, the Chinese version of TikTok, in New York or Hong Kong.</div>\\n    <div class=\"news-card-author-time news-card-author-time-in-content\">\\n      <a href=\"/prev/en/news/no-immediate-plans-for-an-ipo-tiktokowner-bytedance-1619231423173\"><span class=\"short\">short</span></a> by <span class=\"author\">Aishwarya Awasthi</span> / \\n      <span class=\"time\" itemprop=\"dateModified\" content=\"2021-04-24T02:30:23.000Z\" >08:00 am</span> on <span class=\"date\">24 Apr</span>\\n    </div>\\n  </div>\\n  \\n    <div class=\"news-card-footer news-right-box\">\\n      <div class=\"read-more\">read more at <a class=\"source\" onclick=\"ga(\\'send\\', {\\'hitType\\': \\'event\\', \\'eventCategory\\': \\'ReadMore\\', \\'eventAction\\': \\'clicked\\', \\'eventLabel\\': \\'Reuters\\' });\" target=\"_blank\" href=\"https://www.reuters.com/world/china/bytedance-says-it-has-no-recent-plans-public-listing-2021-04-23/?utm_campaign=fullarticle&amp;utm_medium=referral&amp;utm_source=inshorts \">Reuters</a></div>\\n    </div>\\n  \\n\\n</div>\\n\\n  \\n</div>\\n\\n\\n\\n\\n<div class=\"\">\\n<div class=\"news-card z-depth-1\" itemscope itemtype=\"http://schema.org/NewsArticle\">\\n  <span content=\"\" itemscope itemprop=\"mainEntityOfPage\" itemType=\"https://schema.org/WebPage\" itemid=\"https://inshorts.com/en/news/bytedances-ipo-plans-put-on-hold-by-regulatory-demands-report-1619342969001\"></span>\\n  <span itemtype=\"https://schema.org/Person\" itemscope=\"itemscope\" itemprop=\"author\">\\n    <span itemprop=\"name\" content=\"Hiral Goyal\"></span>\\n  </span>\\n  <span itemprop=\"description\" content=\"ByteDance&#39;s IPO plans put on hold by regulatory demands: Report\"></span>\\n  <span itemprop=\"image\" itemscope itemtype=\"https://schema.org/ImageObject\">\\n    <meta itemprop=\"url\" content=\"https://static.inshorts.com/inshorts/images/v1/variants/jpg/m/2021/04_apr/25_sun/img_1619341672959_341.jpg?\"></meta>\\n    <meta itemprop=\"width\" content=\"864\"></meta>\\n    <meta itemprop=\"height\" content=\"483\"></meta>\\n  </span>\\n  <span itemtype=\"https://schema.org/Organization\" itemscope=\"itemscope\" itemprop=\"publisher\">\\n    <span itemprop=\"url\" content=\"https://inshorts.com/\"></span>\\n    <span itemprop=\"name\" content=\"Inshorts\"></span>\\n    <span itemprop=\"logo\" itemscope itemtype=\"https://schema.org/ImageObject\">\\n      <span itemprop=\"url\" content=\"https://assets.inshorts.com/inshorts/images/v1/variants/jpg/m/2018/11_nov/21_wed/img_1542823931298_497.jpg\"></span>\\n      <meta itemprop=\"width\" content=\"400\"></meta>\\n      <meta itemprop=\"height\" content=\"60\"></meta>\\n    </span>\\n  </span>\\n  <div class=\"news-card-image\" style= \"background-image: url(\\'https://static.inshorts.com/inshorts/images/v1/variants/jpg/m/2021/04_apr/25_sun/img_1619341672959_341.jpg?\\')\">\\n  </div>\\n  <div class=\"news-card-title news-right-box\">\\n    <a class=\"clickable\" onclick=\"ga(\\'send\\', {\\'hitType\\': \\'event\\', \\'eventCategory\\': \\'TitleOfNews\\', \\'eventAction\\': \\'clicked\\', \\'eventLabel\\': \\'ByteDance&#39;s%20IPO%20plans%20put%20on%20hold%20by%20regulatory%20demands%3A%20Report)\\' });\"  style=\"color:#44444d!important\" href=\"/en/news/bytedances-ipo-plans-put-on-hold-by-regulatory-demands-report-1619342969001\">\\n      <span itemprop=\"headline\">ByteDance&#39;s IPO plans put on hold by regulatory demands: Report</span>\\n    </a>\\n    <div class=\"news-card-author-time news-card-author-time-in-title\">\\n      <a href=\"/prev/en/news/bytedances-ipo-plans-put-on-hold-by-regulatory-demands-report-1619342969001\"><span class=\"short\">short</span></a> by <span class=\"author\">Hiral Goyal</span> / \\n      <span class=\"time\" itemprop=\"datePublished\" content=\"2021-04-25T09:29:29.000Z\">02:59 pm</span> on <span clas=\"date\">25 Apr 2021,Sunday</span>\\n    </div>\\n  </div>\\n  <div class=\"news-card-content news-right-box\">\\n    <div itemprop=\"articleBody\">TikTok-parent ByteDance&#39;s plans for an initial public offering (IPO) have been reportedly put on hold as the company seeks to comply with regulatory demands from both China and US. The company has done so because of the US-China geopolitical tensions, the SCMP reported, citing an unnamed Beijing-based government official. On Friday, ByteDance said it had no plans for an IPO.</div>\\n    <div class=\"news-card-author-time news-card-author-time-in-content\">\\n      <a href=\"/prev/en/news/bytedances-ipo-plans-put-on-hold-by-regulatory-demands-report-1619342969001\"><span class=\"short\">short</span></a> by <span class=\"author\">Hiral Goyal</span> / \\n      <span class=\"time\" itemprop=\"dateModified\" content=\"2021-04-25T09:29:29.000Z\" >02:59 pm</span> on <span class=\"date\">25 Apr</span>\\n    </div>\\n  </div>\\n  \\n    <div class=\"news-card-footer news-right-box\">\\n      <div class=\"read-more\">read more at <a class=\"source\" onclick=\"ga(\\'send\\', {\\'hitType\\': \\'event\\', \\'eventCategory\\': \\'ReadMore\\', \\'eventAction\\': \\'clicked\\', \\'eventLabel\\': \\'BloombergQuint\\' });\" target=\"_blank\" href=\"https://www.bloombergquint.com/markets/bytedance-s-ipo-plans-snarled-by-regulatory-demands-scmp-says?utm_campaign=fullarticle&amp;utm_medium=referral&amp;utm_source=inshorts \">BloombergQuint</a></div>\\n    </div>\\n  \\n\\n</div>\\n\\n  \\n</div>\\n\\n\\n\\n\\n<div class=\"\">\\n<div class=\"news-card z-depth-1\" itemscope itemtype=\"http://schema.org/NewsArticle\">\\n  <span content=\"\" itemscope itemprop=\"mainEntityOfPage\" itemType=\"https://schema.org/WebPage\" itemid=\"https://inshorts.com/en/news/ellen-degeneres-to-auction-her-firstever-nft-on-april-26-1619260176230\"></span>\\n  <span itemtype=\"https://schema.org/Person\" itemscope=\"itemscope\" itemprop=\"author\">\\n    <span itemprop=\"name\" content=\"Aishwarya Awasthi\"></span>\\n  </span>\\n  <span itemprop=\"description\" content=\"Ellen DeGeneres to auction her first-ever NFT on April 26\"></span>\\n  <span itemprop=\"image\" itemscope itemtype=\"https://schema.org/ImageObject\">\\n    <meta itemprop=\"url\" content=\"https://static.inshorts.com/inshorts/images/v1/variants/jpg/m/2021/04_apr/24_sat/img_1619257173923_112.jpg?\"></meta>\\n    <meta itemprop=\"width\" content=\"864\"></meta>\\n    <meta itemprop=\"height\" content=\"483\"></meta>\\n  </span>\\n  <span itemtype=\"https://schema.org/Organization\" itemscope=\"itemscope\" itemprop=\"publisher\">\\n    <span itemprop=\"url\" content=\"https://inshorts.com/\"></span>\\n    <span itemprop=\"name\" content=\"Inshorts\"></span>\\n    <span itemprop=\"logo\" itemscope itemtype=\"https://schema.org/ImageObject\">\\n      <span itemprop=\"url\" content=\"https://assets.inshorts.com/inshorts/images/v1/variants/jpg/m/2018/11_nov/21_wed/img_1542823931298_497.jpg\"></span>\\n      <meta itemprop=\"width\" content=\"400\"></meta>\\n      <meta itemprop=\"height\" content=\"60\"></meta>\\n    </span>\\n  </span>\\n  <div class=\"news-card-image\" style= \"background-image: url(\\'https://static.inshorts.com/inshorts/images/v1/variants/jpg/m/2021/04_apr/24_sat/img_1619257173923_112.jpg?\\')\">\\n  </div>\\n  <div class=\"news-card-title news-right-box\">\\n    <a class=\"clickable\" onclick=\"ga(\\'send\\', {\\'hitType\\': \\'event\\', \\'eventCategory\\': \\'TitleOfNews\\', \\'eventAction\\': \\'clicked\\', \\'eventLabel\\': \\'Ellen%20DeGeneres%20to%20auction%20her%20first-ever%20NFT%20on%20April%2026)\\' });\"  style=\"color:#44444d!important\" href=\"/en/news/ellen-degeneres-to-auction-her-firstever-nft-on-april-26-1619260176230\">\\n      <span itemprop=\"headline\">Ellen DeGeneres to auction her first-ever NFT on April 26</span>\\n    </a>\\n    <div class=\"news-card-author-time news-card-author-time-in-title\">\\n      <a href=\"/prev/en/news/ellen-degeneres-to-auction-her-firstever-nft-on-april-26-1619260176230\"><span class=\"short\">short</span></a> by <span class=\"author\">Aishwarya Awasthi</span> / \\n      <span class=\"time\" itemprop=\"datePublished\" content=\"2021-04-24T10:29:36.000Z\">03:59 pm</span> on <span clas=\"date\">24 Apr 2021,Saturday</span>\\n    </div>\\n  </div>\\n  <div class=\"news-card-content news-right-box\">\\n    <div itemprop=\"articleBody\">Ellen DeGeneres will be auctioning her first-ever NFT on April 26. She will be auctioning a selfie of her holding original artwork of a cat, which she&#39;s calling &#34;Woman With Stick Cat&#34;. Ellen announced the drop in a monologue from the sets of &#34;The Ellen DeGeneres Show&#34;, which itself will be up for auction as an NFT.</div>\\n    <div class=\"news-card-author-time news-card-author-time-in-content\">\\n      <a href=\"/prev/en/news/ellen-degeneres-to-auction-her-firstever-nft-on-april-26-1619260176230\"><span class=\"short\">short</span></a> by <span class=\"author\">Aishwarya Awasthi</span> / \\n      <span class=\"time\" itemprop=\"dateModified\" content=\"2021-04-24T10:29:36.000Z\" >03:59 pm</span> on <span class=\"date\">24 Apr</span>\\n    </div>\\n  </div>\\n  \\n    <div class=\"news-card-footer news-right-box\">\\n      <div class=\"read-more\">read more at <a class=\"source\" onclick=\"ga(\\'send\\', {\\'hitType\\': \\'event\\', \\'eventCategory\\': \\'ReadMore\\', \\'eventAction\\': \\'clicked\\', \\'eventLabel\\': \\'Twitter\\' });\" target=\"_blank\" href=\"https://twitter.com/TheEllenShow/status/1385658128188919809?utm_campaign=fullarticle&amp;utm_medium=referral&amp;utm_source=inshorts \">Twitter</a></div>\\n    </div>\\n  \\n\\n</div>\\n\\n  \\n</div>\\n\\n\\n\\n\\n<div class=\"\">\\n<div class=\"news-card z-depth-1\" itemscope itemtype=\"http://schema.org/NewsArticle\">\\n  <span content=\"\" itemscope itemprop=\"mainEntityOfPage\" itemType=\"https://schema.org/WebPage\" itemid=\"https://inshorts.com/en/news/radar-to-track-objects-in-space-from-farm-unveiled-in-costa-rica-1619266171164\"></span>\\n  <span itemtype=\"https://schema.org/Person\" itemscope=\"itemscope\" itemprop=\"author\">\\n    <span itemprop=\"name\" content=\"Aishwarya Awasthi\"></span>\\n  </span>\\n  <span itemprop=\"description\" content=\"Radar to track objects in space from farm unveiled in Costa Rica \"></span>\\n  <span itemprop=\"image\" itemscope itemtype=\"https://schema.org/ImageObject\">\\n    <meta itemprop=\"url\" content=\"https://static.inshorts.com/inshorts/images/v1/variants/jpg/m/2021/04_apr/24_sat/img_1619264195833_474.jpg?\"></meta>\\n    <meta itemprop=\"width\" content=\"864\"></meta>\\n    <meta itemprop=\"height\" content=\"483\"></meta>\\n  </span>\\n  <span itemtype=\"https://schema.org/Organization\" itemscope=\"itemscope\" itemprop=\"publisher\">\\n    <span itemprop=\"url\" content=\"https://inshorts.com/\"></span>\\n    <span itemprop=\"name\" content=\"Inshorts\"></span>\\n    <span itemprop=\"logo\" itemscope itemtype=\"https://schema.org/ImageObject\">\\n      <span itemprop=\"url\" content=\"https://assets.inshorts.com/inshorts/images/v1/variants/jpg/m/2018/11_nov/21_wed/img_1542823931298_497.jpg\"></span>\\n      <meta itemprop=\"width\" content=\"400\"></meta>\\n      <meta itemprop=\"height\" content=\"60\"></meta>\\n    </span>\\n  </span>\\n  <div class=\"news-card-image\" style= \"background-image: url(\\'https://static.inshorts.com/inshorts/images/v1/variants/jpg/m/2021/04_apr/24_sat/img_1619264195833_474.jpg?\\')\">\\n  </div>\\n  <div class=\"news-card-title news-right-box\">\\n    <a class=\"clickable\" onclick=\"ga(\\'send\\', {\\'hitType\\': \\'event\\', \\'eventCategory\\': \\'TitleOfNews\\', \\'eventAction\\': \\'clicked\\', \\'eventLabel\\': \\'Radar%20to%20track%20objects%20in%20space%20from%20farm%20unveiled%20in%20Costa%20Rica%20)\\' });\"  style=\"color:#44444d!important\" href=\"/en/news/radar-to-track-objects-in-space-from-farm-unveiled-in-costa-rica-1619266171164\">\\n      <span itemprop=\"headline\">Radar to track objects in space from farm unveiled in Costa Rica </span>\\n    </a>\\n    <div class=\"news-card-author-time news-card-author-time-in-title\">\\n      <a href=\"/prev/en/news/radar-to-track-objects-in-space-from-farm-unveiled-in-costa-rica-1619266171164\"><span class=\"short\">short</span></a> by <span class=\"author\">Aishwarya Awasthi</span> / \\n      <span class=\"time\" itemprop=\"datePublished\" content=\"2021-04-24T12:09:31.000Z\">05:39 pm</span> on <span clas=\"date\">24 Apr 2021,Saturday</span>\\n    </div>\\n  </div>\\n  <div class=\"news-card-content news-right-box\">\\n    <div itemprop=\"articleBody\">A giant radar, built by LeoLabs, capable of tracking small objects in space that threaten the safety of astronauts and satellites has been unveiled in Costa Rica. Situated on a farm, it can monitor objects that transit in low Earth orbit near the planet&#39;s equator. LeoLabs said it&#39;s capable of tracking objects the size of a golf ball.</div>\\n    <div class=\"news-card-author-time news-card-author-time-in-content\">\\n      <a href=\"/prev/en/news/radar-to-track-objects-in-space-from-farm-unveiled-in-costa-rica-1619266171164\"><span class=\"short\">short</span></a> by <span class=\"author\">Aishwarya Awasthi</span> / \\n      <span class=\"time\" itemprop=\"dateModified\" content=\"2021-04-24T12:09:31.000Z\" >05:39 pm</span> on <span class=\"date\">24 Apr</span>\\n    </div>\\n  </div>\\n  \\n    <div class=\"news-card-footer news-right-box\">\\n      <div class=\"read-more\">read more at <a class=\"source\" onclick=\"ga(\\'send\\', {\\'hitType\\': \\'event\\', \\'eventCategory\\': \\'ReadMore\\', \\'eventAction\\': \\'clicked\\', \\'eventLabel\\': \\'Reuters\\' });\" target=\"_blank\" href=\"https://www.reuters.com/lifestyle/science/costa-rica-unveils-radar-that-tracks-space-objects-farm-2021-04-23/?utm_campaign=fullarticle&amp;utm_medium=referral&amp;utm_source=inshorts \">Reuters</a></div>\\n    </div>\\n  \\n\\n</div>\\n\\n  \\n</div>\\n\\n\\n\\n\\n  \\n    <div id=\\'div-gpt-ad-1536748319959-awenfoic-1\\' style=\\'height:250px; width:900px; margin: auto; margin-bottom: 2%;\\'>\\n      <script>\\n        googletag.cmd.push(function() { \\n          //News banner for desktop\\n          var slotIdWeb = \\'div-gpt-ad-1536748319959-awenfoic-1\\';\\n          var slot = googletag.defineSlot(\\'/142919096/inshorts_website_900x250\\', [900, 250], slotIdWeb)\\n          .addService(googletag.pubads())\\n          .setCollapseEmptyDiv(true,true);\\n\\n          googletag.display(\\'div-gpt-ad-1536748319959-awenfoic-1\\');\\n          googletag.pubads().refresh([slot]);\\n        });\\n      </script>\\n    </div>\\n  \\n\\n<div class=\"\">\\n<div class=\"news-card z-depth-1\" itemscope itemtype=\"http://schema.org/NewsArticle\">\\n  <span content=\"\" itemscope itemprop=\"mainEntityOfPage\" itemType=\"https://schema.org/WebPage\" itemid=\"https://inshorts.com/en/news/turkey-detains-4-people-after-crypto-exchange-ceases-operations-1619355492085\"></span>\\n  <span itemtype=\"https://schema.org/Person\" itemscope=\"itemscope\" itemprop=\"author\">\\n    <span itemprop=\"name\" content=\"Hiral Goyal\"></span>\\n  </span>\\n  <span itemprop=\"description\" content=\"Turkey detains 4 people after crypto exchange ceases operations\"></span>\\n  <span itemprop=\"image\" itemscope itemtype=\"https://schema.org/ImageObject\">\\n    <meta itemprop=\"url\" content=\"https://static.inshorts.com/inshorts/images/v1/variants/jpg/m/2021/04_apr/25_sun/img_1619353516209_447.jpg?\"></meta>\\n    <meta itemprop=\"width\" content=\"864\"></meta>\\n    <meta itemprop=\"height\" content=\"483\"></meta>\\n  </span>\\n  <span itemtype=\"https://schema.org/Organization\" itemscope=\"itemscope\" itemprop=\"publisher\">\\n    <span itemprop=\"url\" content=\"https://inshorts.com/\"></span>\\n    <span itemprop=\"name\" content=\"Inshorts\"></span>\\n    <span itemprop=\"logo\" itemscope itemtype=\"https://schema.org/ImageObject\">\\n      <span itemprop=\"url\" content=\"https://assets.inshorts.com/inshorts/images/v1/variants/jpg/m/2018/11_nov/21_wed/img_1542823931298_497.jpg\"></span>\\n      <meta itemprop=\"width\" content=\"400\"></meta>\\n      <meta itemprop=\"height\" content=\"60\"></meta>\\n    </span>\\n  </span>\\n  <div class=\"news-card-image\" style= \"background-image: url(\\'https://static.inshorts.com/inshorts/images/v1/variants/jpg/m/2021/04_apr/25_sun/img_1619353516209_447.jpg?\\')\">\\n  </div>\\n  <div class=\"news-card-title news-right-box\">\\n    <a class=\"clickable\" onclick=\"ga(\\'send\\', {\\'hitType\\': \\'event\\', \\'eventCategory\\': \\'TitleOfNews\\', \\'eventAction\\': \\'clicked\\', \\'eventLabel\\': \\'Turkey%20detains%204%20people%20after%20crypto%20exchange%20ceases%20operations)\\' });\"  style=\"color:#44444d!important\" href=\"/en/news/turkey-detains-4-people-after-crypto-exchange-ceases-operations-1619355492085\">\\n      <span itemprop=\"headline\">Turkey detains 4 people after crypto exchange ceases operations</span>\\n    </a>\\n    <div class=\"news-card-author-time news-card-author-time-in-title\">\\n      <a href=\"/prev/en/news/turkey-detains-4-people-after-crypto-exchange-ceases-operations-1619355492085\"><span class=\"short\">short</span></a> by <span class=\"author\">Hiral Goyal</span> / \\n      <span class=\"time\" itemprop=\"datePublished\" content=\"2021-04-25T12:58:12.000Z\">06:28 pm</span> on <span clas=\"date\">25 Apr 2021,Sunday</span>\\n    </div>\\n  </div>\\n  <div class=\"news-card-content news-right-box\">\\n    <div itemprop=\"articleBody\">After Turkish cryptocurrency exchange platform Vebitcoin ceased all operations citing financial strains, local authorities detained four of its employees, reportedly including the company&#39;s CEO. They also blocked the onshore bank accounts of Vebitcoin and ordered an investigation. This comes after another Turkish platform Thodex halted operations and its CEO reportedly fled the country.</div>\\n    <div class=\"news-card-author-time news-card-author-time-in-content\">\\n      <a href=\"/prev/en/news/turkey-detains-4-people-after-crypto-exchange-ceases-operations-1619355492085\"><span class=\"short\">short</span></a> by <span class=\"author\">Hiral Goyal</span> / \\n      <span class=\"time\" itemprop=\"dateModified\" content=\"2021-04-25T12:58:12.000Z\" >06:28 pm</span> on <span class=\"date\">25 Apr</span>\\n    </div>\\n  </div>\\n  \\n    <div class=\"news-card-footer news-right-box\">\\n      <div class=\"read-more\">read more at <a class=\"source\" onclick=\"ga(\\'send\\', {\\'hitType\\': \\'event\\', \\'eventCategory\\': \\'ReadMore\\', \\'eventAction\\': \\'clicked\\', \\'eventLabel\\': \\'BloombergQuint\\' });\" target=\"_blank\" href=\"https://www.bloombergquint.com/crypto/turkey-s-cryptocurrency-pain-grows-with-second-exchange-collapse?utm_campaign=fullarticle&amp;utm_medium=referral&amp;utm_source=inshorts \">BloombergQuint</a></div>\\n    </div>\\n  \\n\\n</div>\\n\\n  \\n</div>\\n\\n\\n\\n\\n<div class=\"\">\\n<div class=\"news-card z-depth-1\" itemscope itemtype=\"http://schema.org/NewsArticle\">\\n  <span content=\"\" itemscope itemprop=\"mainEntityOfPage\" itemType=\"https://schema.org/WebPage\" itemid=\"https://inshorts.com/en/news/alphabet-to-give-bonuses-tied-to-environment-social-governance\\xc2\\xa0goals-1619345958715\"></span>\\n  <span itemtype=\"https://schema.org/Person\" itemscope=\"itemscope\" itemprop=\"author\">\\n    <span itemprop=\"name\" content=\"Krishna Raj\"></span>\\n  </span>\\n  <span itemprop=\"description\" content=\"Alphabet to give bonuses tied to environment, social &amp; governance\\xc2\\xa0goals\"></span>\\n  <span itemprop=\"image\" itemscope itemtype=\"https://schema.org/ImageObject\">\\n    <meta itemprop=\"url\" content=\"https://static.inshorts.com/inshorts/images/v1/variants/jpg/m/2021/04_apr/25_sun/img_1619342864580_60.jpg?\"></meta>\\n    <meta itemprop=\"width\" content=\"864\"></meta>\\n    <meta itemprop=\"height\" content=\"483\"></meta>\\n  </span>\\n  <span itemtype=\"https://schema.org/Organization\" itemscope=\"itemscope\" itemprop=\"publisher\">\\n    <span itemprop=\"url\" content=\"https://inshorts.com/\"></span>\\n    <span itemprop=\"name\" content=\"Inshorts\"></span>\\n    <span itemprop=\"logo\" itemscope itemtype=\"https://schema.org/ImageObject\">\\n      <span itemprop=\"url\" content=\"https://assets.inshorts.com/inshorts/images/v1/variants/jpg/m/2018/11_nov/21_wed/img_1542823931298_497.jpg\"></span>\\n      <meta itemprop=\"width\" content=\"400\"></meta>\\n      <meta itemprop=\"height\" content=\"60\"></meta>\\n    </span>\\n  </span>\\n  <div class=\"news-card-image\" style= \"background-image: url(\\'https://static.inshorts.com/inshorts/images/v1/variants/jpg/m/2021/04_apr/25_sun/img_1619342864580_60.jpg?\\')\">\\n  </div>\\n  <div class=\"news-card-title news-right-box\">\\n    <a class=\"clickable\" onclick=\"ga(\\'send\\', {\\'hitType\\': \\'event\\', \\'eventCategory\\': \\'TitleOfNews\\', \\'eventAction\\': \\'clicked\\', \\'eventLabel\\': \\'Alphabet%20to%20give%20bonuses%20tied%20to%20environment%2C%20social%20%26%20governance%C2%A0goals)\\' });\"  style=\"color:#44444d!important\" href=\"/en/news/alphabet-to-give-bonuses-tied-to-environment-social-governance\\xc2\\xa0goals-1619345958715\">\\n      <span itemprop=\"headline\">Alphabet to give bonuses tied to environment, social &amp; governance\\xc2\\xa0goals</span>\\n    </a>\\n    <div class=\"news-card-author-time news-card-author-time-in-title\">\\n      <a href=\"/prev/en/news/alphabet-to-give-bonuses-tied-to-environment-social-governance\\xc2\\xa0goals-1619345958715\"><span class=\"short\">short</span></a> by <span class=\"author\">Krishna Raj</span> / \\n      <span class=\"time\" itemprop=\"datePublished\" content=\"2021-04-25T10:19:18.000Z\">03:49 pm</span> on <span clas=\"date\">25 Apr 2021,Sunday</span>\\n    </div>\\n  </div>\\n  <div class=\"news-card-content news-right-box\">\\n    <div itemprop=\"articleBody\">Google-parent Alphabet has said it will create a bonus program for senior executives that will partly be based on their performance in supporting environmental, social and governance (ESG) goals. Chairman John Hennessy, in a letter to shareholders, said that ESG goals have been a key part of Alphabet and Google&#39;s work. The program will begin in 2022, he added.</div>\\n    <div class=\"news-card-author-time news-card-author-time-in-content\">\\n      <a href=\"/prev/en/news/alphabet-to-give-bonuses-tied-to-environment-social-governance\\xc2\\xa0goals-1619345958715\"><span class=\"short\">short</span></a> by <span class=\"author\">Krishna Raj</span> / \\n      <span class=\"time\" itemprop=\"dateModified\" content=\"2021-04-25T10:19:18.000Z\" >03:49 pm</span> on <span class=\"date\">25 Apr</span>\\n    </div>\\n  </div>\\n  \\n    <div class=\"news-card-footer news-right-box\">\\n      <div class=\"read-more\">read more at <a class=\"source\" onclick=\"ga(\\'send\\', {\\'hitType\\': \\'event\\', \\'eventCategory\\': \\'ReadMore\\', \\'eventAction\\': \\'clicked\\', \\'eventLabel\\': \\'BloombergQuint\\' });\" target=\"_blank\" href=\"https://www.bloombergquint.com/business/alphabet-to-introduce-executive-bonuses-partly-tied-to-esg-goals?utm_campaign=fullarticle&amp;utm_medium=referral&amp;utm_source=inshorts \">BloombergQuint</a></div>\\n    </div>\\n  \\n\\n</div>\\n\\n  \\n</div>\\n\\n\\n\\n\\n<div class=\"\">\\n<div class=\"news-card z-depth-1\" itemscope itemtype=\"http://schema.org/NewsArticle\">\\n  <span content=\"\" itemscope itemprop=\"mainEntityOfPage\" itemType=\"https://schema.org/WebPage\" itemid=\"https://inshorts.com/en/news/bitcoin-has-potential-to-become-digital-gold-in-10-years-report-1619351182394\"></span>\\n  <span itemtype=\"https://schema.org/Person\" itemscope=\"itemscope\" itemprop=\"author\">\\n    <span itemprop=\"name\" content=\"Krishna Raj\"></span>\\n  </span>\\n  <span itemprop=\"description\" content=\"Bitcoin has potential to become &#39;digital gold&#39; in 10 years: Report\"></span>\\n  <span itemprop=\"image\" itemscope itemtype=\"https://schema.org/ImageObject\">\\n    <meta itemprop=\"url\" content=\"https://static.inshorts.com/inshorts/images/v1/variants/jpg/m/2021/04_apr/25_sun/img_1619346851306_170.jpg?\"></meta>\\n    <meta itemprop=\"width\" content=\"864\"></meta>\\n    <meta itemprop=\"height\" content=\"483\"></meta>\\n  </span>\\n  <span itemtype=\"https://schema.org/Organization\" itemscope=\"itemscope\" itemprop=\"publisher\">\\n    <span itemprop=\"url\" content=\"https://inshorts.com/\"></span>\\n    <span itemprop=\"name\" content=\"Inshorts\"></span>\\n    <span itemprop=\"logo\" itemscope itemtype=\"https://schema.org/ImageObject\">\\n      <span itemprop=\"url\" content=\"https://assets.inshorts.com/inshorts/images/v1/variants/jpg/m/2018/11_nov/21_wed/img_1542823931298_497.jpg\"></span>\\n      <meta itemprop=\"width\" content=\"400\"></meta>\\n      <meta itemprop=\"height\" content=\"60\"></meta>\\n    </span>\\n  </span>\\n  <div class=\"news-card-image\" style= \"background-image: url(\\'https://static.inshorts.com/inshorts/images/v1/variants/jpg/m/2021/04_apr/25_sun/img_1619346851306_170.jpg?\\')\">\\n  </div>\\n  <div class=\"news-card-title news-right-box\">\\n    <a class=\"clickable\" onclick=\"ga(\\'send\\', {\\'hitType\\': \\'event\\', \\'eventCategory\\': \\'TitleOfNews\\', \\'eventAction\\': \\'clicked\\', \\'eventLabel\\': \\'Bitcoin%20has%20potential%20to%20become%20&#39;digital%20gold&#39;%20in%2010%20years%3A%20Report)\\' });\"  style=\"color:#44444d!important\" href=\"/en/news/bitcoin-has-potential-to-become-digital-gold-in-10-years-report-1619351182394\">\\n      <span itemprop=\"headline\">Bitcoin has potential to become &#39;digital gold&#39; in 10 years: Report</span>\\n    </a>\\n    <div class=\"news-card-author-time news-card-author-time-in-title\">\\n      <a href=\"/prev/en/news/bitcoin-has-potential-to-become-digital-gold-in-10-years-report-1619351182394\"><span class=\"short\">short</span></a> by <span class=\"author\">Krishna Raj</span> / \\n      <span class=\"time\" itemprop=\"datePublished\" content=\"2021-04-25T11:46:22.000Z\">05:16 pm</span> on <span clas=\"date\">25 Apr 2021,Sunday</span>\\n    </div>\\n  </div>\\n  <div class=\"news-card-content news-right-box\">\\n    <div itemprop=\"articleBody\">Bitcoin has the potential to become &#34;digital gold&#34; and destabilise the bullion market over the next ten years, a report by financial services company eToro and The TIE said. The report added that the world&#39;s largest cryptocurrency could be a modernised &#34;hard asset&#34;. The NFT-mania of the last quarter shows how impactful cryptocurrencies can be, the report added.</div>\\n    <div class=\"news-card-author-time news-card-author-time-in-content\">\\n      <a href=\"/prev/en/news/bitcoin-has-potential-to-become-digital-gold-in-10-years-report-1619351182394\"><span class=\"short\">short</span></a> by <span class=\"author\">Krishna Raj</span> / \\n      <span class=\"time\" itemprop=\"dateModified\" content=\"2021-04-25T11:46:22.000Z\" >05:16 pm</span> on <span class=\"date\">25 Apr</span>\\n    </div>\\n  </div>\\n  \\n    <div class=\"news-card-footer news-right-box\">\\n      <div class=\"read-more\">read more at <a class=\"source\" onclick=\"ga(\\'send\\', {\\'hitType\\': \\'event\\', \\'eventCategory\\': \\'ReadMore\\', \\'eventAction\\': \\'clicked\\', \\'eventLabel\\': \\'Business%20Insider%20India\\' });\" target=\"_blank\" href=\"https://www.businessinsider.in/stock-market/news/nfts-are-now-a-pillar-of-the-digital-economy-and-bitcoin-could-destabilize-gold-report-says/amp_articleshow/82215387.cms?utm_campaign=fullarticle&amp;utm_medium=referral&amp;utm_source=inshorts \">Business Insider India</a></div>\\n    </div>\\n  \\n\\n</div>\\n\\n  \\n</div>\\n\\n\\n\\n\\n<div class=\"\">\\n<div class=\"news-card z-depth-1\" itemscope itemtype=\"http://schema.org/NewsArticle\">\\n  <span content=\"\" itemscope itemprop=\"mainEntityOfPage\" itemType=\"https://schema.org/WebPage\" itemid=\"https://inshorts.com/en/news/4chan-founder-chris-poole-leaves-google-after-5-years-1619195165068\"></span>\\n  <span itemtype=\"https://schema.org/Person\" itemscope=\"itemscope\" itemprop=\"author\">\\n    <span itemprop=\"name\" content=\"Aishwarya Awasthi\"></span>\\n  </span>\\n  <span itemprop=\"description\" content=\"4chan Founder Chris Poole leaves Google after 5 years\"></span>\\n  <span itemprop=\"image\" itemscope itemtype=\"https://schema.org/ImageObject\">\\n    <meta itemprop=\"url\" content=\"https://static.inshorts.com/inshorts/images/v1/variants/jpg/m/2021/04_apr/23_fri/img_1619194612807_678.jpg?\"></meta>\\n    <meta itemprop=\"width\" content=\"864\"></meta>\\n    <meta itemprop=\"height\" content=\"483\"></meta>\\n  </span>\\n  <span itemtype=\"https://schema.org/Organization\" itemscope=\"itemscope\" itemprop=\"publisher\">\\n    <span itemprop=\"url\" content=\"https://inshorts.com/\"></span>\\n    <span itemprop=\"name\" content=\"Inshorts\"></span>\\n    <span itemprop=\"logo\" itemscope itemtype=\"https://schema.org/ImageObject\">\\n      <span itemprop=\"url\" content=\"https://assets.inshorts.com/inshorts/images/v1/variants/jpg/m/2018/11_nov/21_wed/img_1542823931298_497.jpg\"></span>\\n      <meta itemprop=\"width\" content=\"400\"></meta>\\n      <meta itemprop=\"height\" content=\"60\"></meta>\\n    </span>\\n  </span>\\n  <div class=\"news-card-image\" style= \"background-image: url(\\'https://static.inshorts.com/inshorts/images/v1/variants/jpg/m/2021/04_apr/23_fri/img_1619194612807_678.jpg?\\')\">\\n  </div>\\n  <div class=\"news-card-title news-right-box\">\\n    <a class=\"clickable\" onclick=\"ga(\\'send\\', {\\'hitType\\': \\'event\\', \\'eventCategory\\': \\'TitleOfNews\\', \\'eventAction\\': \\'clicked\\', \\'eventLabel\\': \\'4chan%20Founder%20Chris%20Poole%20leaves%20Google%20after%205%20years)\\' });\"  style=\"color:#44444d!important\" href=\"/en/news/4chan-founder-chris-poole-leaves-google-after-5-years-1619195165068\">\\n      <span itemprop=\"headline\">4chan Founder Chris Poole leaves Google after 5 years</span>\\n    </a>\\n    <div class=\"news-card-author-time news-card-author-time-in-title\">\\n      <a href=\"/prev/en/news/4chan-founder-chris-poole-leaves-google-after-5-years-1619195165068\"><span class=\"short\">short</span></a> by <span class=\"author\">Aishwarya Awasthi</span> / \\n      <span class=\"time\" itemprop=\"datePublished\" content=\"2021-04-23T16:26:05.000Z\">09:56 pm</span> on <span clas=\"date\">23 Apr 2021,Friday</span>\\n    </div>\\n  </div>\\n  <div class=\"news-card-content news-right-box\">\\n    <div itemprop=\"articleBody\">Chris Poole, who founded online community 4chan before joining Google in 2016, has left the firm after moving around several groups within the company, CNBC reported citing an internal document. Poole&#39;s last official day at Google was April 13, and his last role was of a product manager. Google confirmed to CNBC that Poole is no longer its employee.</div>\\n    <div class=\"news-card-author-time news-card-author-time-in-content\">\\n      <a href=\"/prev/en/news/4chan-founder-chris-poole-leaves-google-after-5-years-1619195165068\"><span class=\"short\">short</span></a> by <span class=\"author\">Aishwarya Awasthi</span> / \\n      <span class=\"time\" itemprop=\"dateModified\" content=\"2021-04-23T16:26:05.000Z\" >09:56 pm</span> on <span class=\"date\">23 Apr</span>\\n    </div>\\n  </div>\\n  \\n    <div class=\"news-card-footer news-right-box\">\\n      <div class=\"read-more\">read more at <a class=\"source\" onclick=\"ga(\\'send\\', {\\'hitType\\': \\'event\\', \\'eventCategory\\': \\'ReadMore\\', \\'eventAction\\': \\'clicked\\', \\'eventLabel\\': \\'Business%20Insider%20India\\' });\" target=\"_blank\" href=\"https://www.businessinsider.in/tech/news/4chan-founder-chris-poole-leaves-google-after-5-years-and-several-job-changes/amp_articleshow/82215390.cms?utm_campaign=fullarticle&amp;utm_medium=referral&amp;utm_source=inshorts \">Business Insider India</a></div>\\n    </div>\\n  \\n\\n</div>\\n\\n  \\n</div>\\n\\n\\n\\n\\n<div class=\"\">\\n<div class=\"news-card z-depth-1\" itemscope itemtype=\"http://schema.org/NewsArticle\">\\n  <span content=\"\" itemscope itemprop=\"mainEntityOfPage\" itemType=\"https://schema.org/WebPage\" itemid=\"https://inshorts.com/en/news/spacex-nears-permit-to-fly-4000-satellites-in-lower-orbit-report-1619317825811\"></span>\\n  <span itemtype=\"https://schema.org/Person\" itemscope=\"itemscope\" itemprop=\"author\">\\n    <span itemprop=\"name\" content=\"Aishwarya Awasthi\"></span>\\n  </span>\\n  <span itemprop=\"description\" content=\"SpaceX nears permit to fly 4,000 satellites in lower orbit: Report\"></span>\\n  <span itemprop=\"image\" itemscope itemtype=\"https://schema.org/ImageObject\">\\n    <meta itemprop=\"url\" content=\"https://static.inshorts.com/inshorts/images/v1/variants/jpg/m/2021/04_apr/24_sat/img_1619281950326_460.jpg?\"></meta>\\n    <meta itemprop=\"width\" content=\"864\"></meta>\\n    <meta itemprop=\"height\" content=\"483\"></meta>\\n  </span>\\n  <span itemtype=\"https://schema.org/Organization\" itemscope=\"itemscope\" itemprop=\"publisher\">\\n    <span itemprop=\"url\" content=\"https://inshorts.com/\"></span>\\n    <span itemprop=\"name\" content=\"Inshorts\"></span>\\n    <span itemprop=\"logo\" itemscope itemtype=\"https://schema.org/ImageObject\">\\n      <span itemprop=\"url\" content=\"https://assets.inshorts.com/inshorts/images/v1/variants/jpg/m/2018/11_nov/21_wed/img_1542823931298_497.jpg\"></span>\\n      <meta itemprop=\"width\" content=\"400\"></meta>\\n      <meta itemprop=\"height\" content=\"60\"></meta>\\n    </span>\\n  </span>\\n  <div class=\"news-card-image\" style= \"background-image: url(\\'https://static.inshorts.com/inshorts/images/v1/variants/jpg/m/2021/04_apr/24_sat/img_1619281950326_460.jpg?\\')\">\\n  </div>\\n  <div class=\"news-card-title news-right-box\">\\n    <a class=\"clickable\" onclick=\"ga(\\'send\\', {\\'hitType\\': \\'event\\', \\'eventCategory\\': \\'TitleOfNews\\', \\'eventAction\\': \\'clicked\\', \\'eventLabel\\': \\'SpaceX%20nears%20permit%20to%20fly%204%2C000%20satellites%20in%20lower%20orbit%3A%20Report)\\' });\"  style=\"color:#44444d!important\" href=\"/en/news/spacex-nears-permit-to-fly-4000-satellites-in-lower-orbit-report-1619317825811\">\\n      <span itemprop=\"headline\">SpaceX nears permit to fly 4,000 satellites in lower orbit: Report</span>\\n    </a>\\n    <div class=\"news-card-author-time news-card-author-time-in-title\">\\n      <a href=\"/prev/en/news/spacex-nears-permit-to-fly-4000-satellites-in-lower-orbit-report-1619317825811\"><span class=\"short\">short</span></a> by <span class=\"author\">Aishwarya Awasthi</span> / \\n      <span class=\"time\" itemprop=\"datePublished\" content=\"2021-04-25T02:30:25.000Z\">08:00 am</span> on <span clas=\"date\">25 Apr 2021,Sunday</span>\\n    </div>\\n  </div>\\n  <div class=\"news-card-content news-right-box\">\\n    <div itemprop=\"articleBody\">SpaceX has moved closer to getting a permit from the US FCC to fly over 4,000 Starlink satellites at a lower orbit than initially planned, Bloomberg reported. Acting FCC Chairwoman Jessica Rosenworcel asked her colleagues to vote for the plan. SpaceX has asked to fly 2,824 satellites in the lower orbit, where it already has permission to operate 1,584 spacecraft. </div>\\n    <div class=\"news-card-author-time news-card-author-time-in-content\">\\n      <a href=\"/prev/en/news/spacex-nears-permit-to-fly-4000-satellites-in-lower-orbit-report-1619317825811\"><span class=\"short\">short</span></a> by <span class=\"author\">Aishwarya Awasthi</span> / \\n      <span class=\"time\" itemprop=\"dateModified\" content=\"2021-04-25T02:30:25.000Z\" >08:00 am</span> on <span class=\"date\">25 Apr</span>\\n    </div>\\n  </div>\\n  \\n    <div class=\"news-card-footer news-right-box\">\\n      <div class=\"read-more\">read more at <a class=\"source\" onclick=\"ga(\\'send\\', {\\'hitType\\': \\'event\\', \\'eventCategory\\': \\'ReadMore\\', \\'eventAction\\': \\'clicked\\', \\'eventLabel\\': \\'Business%20Insider%20India\\' });\" target=\"_blank\" href=\"https://www.businessinsider.in/tech/news/elon-musks-spacex-is-close-to-winning-fcc-approval-to-fly-more-than-4000-starlink-satellites-in-a-lower-orbit-but-rivals-say-it-could-increase-collision-risks-/amp_articleshow/82232302.cms?utm_campaign=fullarticle&amp;utm_medium=referral&amp;utm_source=inshorts \">Business Insider India</a></div>\\n    </div>\\n  \\n\\n</div>\\n\\n  \\n</div>\\n\\n\\n\\n\\n<div class=\"\">\\n<div class=\"news-card z-depth-1\" itemscope itemtype=\"http://schema.org/NewsArticle\">\\n  <span content=\"\" itemscope itemprop=\"mainEntityOfPage\" itemType=\"https://schema.org/WebPage\" itemid=\"https://inshorts.com/en/news/hcl-technologies-net-profit-down-256-to-\\xe2\\x82\\xb92962-cr-in-q4-1619244580519\"></span>\\n  <span itemtype=\"https://schema.org/Person\" itemscope=\"itemscope\" itemprop=\"author\">\\n    <span itemprop=\"name\" content=\"Maanya Sachdeva\"></span>\\n  </span>\\n  <span itemprop=\"description\" content=\"HCL Technologies&#39; net profit down 25.6% to \\xe2\\x82\\xb92,962 cr in Q4\"></span>\\n  <span itemprop=\"image\" itemscope itemtype=\"https://schema.org/ImageObject\">\\n    <meta itemprop=\"url\" content=\"https://static.inshorts.com/inshorts/images/v1/variants/jpg/m/2021/04_apr/24_sat/img_1619241478579_298.jpg?\"></meta>\\n    <meta itemprop=\"width\" content=\"864\"></meta>\\n    <meta itemprop=\"height\" content=\"483\"></meta>\\n  </span>\\n  <span itemtype=\"https://schema.org/Organization\" itemscope=\"itemscope\" itemprop=\"publisher\">\\n    <span itemprop=\"url\" content=\"https://inshorts.com/\"></span>\\n    <span itemprop=\"name\" content=\"Inshorts\"></span>\\n    <span itemprop=\"logo\" itemscope itemtype=\"https://schema.org/ImageObject\">\\n      <span itemprop=\"url\" content=\"https://assets.inshorts.com/inshorts/images/v1/variants/jpg/m/2018/11_nov/21_wed/img_1542823931298_497.jpg\"></span>\\n      <meta itemprop=\"width\" content=\"400\"></meta>\\n      <meta itemprop=\"height\" content=\"60\"></meta>\\n    </span>\\n  </span>\\n  <div class=\"news-card-image\" style= \"background-image: url(\\'https://static.inshorts.com/inshorts/images/v1/variants/jpg/m/2021/04_apr/24_sat/img_1619241478579_298.jpg?\\')\">\\n  </div>\\n  <div class=\"news-card-title news-right-box\">\\n    <a class=\"clickable\" onclick=\"ga(\\'send\\', {\\'hitType\\': \\'event\\', \\'eventCategory\\': \\'TitleOfNews\\', \\'eventAction\\': \\'clicked\\', \\'eventLabel\\': \\'HCL%20Technologies&#39;%20net%20profit%20down%2025.6%25%20to%20%E2%82%B92%2C962%20cr%20in%20Q4)\\' });\"  style=\"color:#44444d!important\" href=\"/en/news/hcl-technologies-net-profit-down-256-to-\\xe2\\x82\\xb92962-cr-in-q4-1619244580519\">\\n      <span itemprop=\"headline\">HCL Technologies&#39; net profit down 25.6% to \\xe2\\x82\\xb92,962 cr in Q4</span>\\n    </a>\\n    <div class=\"news-card-author-time news-card-author-time-in-title\">\\n      <a href=\"/prev/en/news/hcl-technologies-net-profit-down-256-to-\\xe2\\x82\\xb92962-cr-in-q4-1619244580519\"><span class=\"short\">short</span></a> by <span class=\"author\">Maanya Sachdeva</span> / \\n      <span class=\"time\" itemprop=\"datePublished\" content=\"2021-04-24T06:09:40.000Z\">11:39 am</span> on <span clas=\"date\">24 Apr 2021,Saturday</span>\\n    </div>\\n  </div>\\n  <div class=\"news-card-content news-right-box\">\\n    <div itemprop=\"articleBody\">India&#39;s third-largest software services firm by revenue HCL Technologies&#39; net profit fell 25.6% quarter-on-quarter (QoQ) to \\xe2\\x82\\xb92,962 crore in Q4 due to a one-time tax expense. The company said it is expecting double-digit revenue growth in constant currency terms in FY22 due to the positive demand environment and robust deal pipeline. Q4 revenue was up 1.8% QoQ to \\xe2\\x82\\xb919,642 crore. </div>\\n    <div class=\"news-card-author-time news-card-author-time-in-content\">\\n      <a href=\"/prev/en/news/hcl-technologies-net-profit-down-256-to-\\xe2\\x82\\xb92962-cr-in-q4-1619244580519\"><span class=\"short\">short</span></a> by <span class=\"author\">Maanya Sachdeva</span> / \\n      <span class=\"time\" itemprop=\"dateModified\" content=\"2021-04-24T06:09:40.000Z\" >11:39 am</span> on <span class=\"date\">24 Apr</span>\\n    </div>\\n  </div>\\n  \\n    <div class=\"news-card-footer news-right-box\">\\n      <div class=\"read-more\">read more at <a class=\"source\" onclick=\"ga(\\'send\\', {\\'hitType\\': \\'event\\', \\'eventCategory\\': \\'ReadMore\\', \\'eventAction\\': \\'clicked\\', \\'eventLabel\\': \\'Hindustan%20Times\\' });\" target=\"_blank\" href=\"https://www.hindustantimes.com/business/hcl-tech-posts-2-962-crore-q4profit-101619201967132-amp.html?utm_campaign=fullarticle&amp;utm_medium=referral&amp;utm_source=inshorts \">Hindustan Times</a></div>\\n    </div>\\n  \\n\\n</div>\\n\\n  \\n</div>\\n\\n\\n\\n\\n  \\n    <div id=\\'div-gpt-ad-1536748319959-trhucs5y-1\\' style=\\'height:250px; width:900px; margin: auto; margin-bottom: 2%;\\'>\\n      <script>\\n        googletag.cmd.push(function() { \\n          //News banner for desktop\\n          var slotIdWeb = \\'div-gpt-ad-1536748319959-trhucs5y-1\\';\\n          var slot = googletag.defineSlot(\\'/142919096/inshorts_website_900x250\\', [900, 250], slotIdWeb)\\n          .addService(googletag.pubads())\\n          .setCollapseEmptyDiv(true,true);\\n\\n          googletag.display(\\'div-gpt-ad-1536748319959-trhucs5y-1\\');\\n          googletag.pubads().refresh([slot]);\\n        });\\n      </script>\\n    </div>\\n  \\n\\n<div class=\"\">\\n<div class=\"news-card z-depth-1\" itemscope itemtype=\"http://schema.org/NewsArticle\">\\n  <span content=\"\" itemscope itemprop=\"mainEntityOfPage\" itemType=\"https://schema.org/WebPage\" itemid=\"https://inshorts.com/en/news/airdrop-bug-could-let-hackers-know-users-numbers-researchers-1619281356085\"></span>\\n  <span itemtype=\"https://schema.org/Person\" itemscope=\"itemscope\" itemprop=\"author\">\\n    <span itemprop=\"name\" content=\"Aishwarya Awasthi\"></span>\\n  </span>\\n  <span itemprop=\"description\" content=\"AirDrop bug could let hackers know users&#39; numbers: Researchers\"></span>\\n  <span itemprop=\"image\" itemscope itemtype=\"https://schema.org/ImageObject\">\\n    <meta itemprop=\"url\" content=\"https://static.inshorts.com/inshorts/images/v1/variants/jpg/m/2021/04_apr/24_sat/img_1619279720517_397.jpg?\"></meta>\\n    <meta itemprop=\"width\" content=\"864\"></meta>\\n    <meta itemprop=\"height\" content=\"483\"></meta>\\n  </span>\\n  <span itemtype=\"https://schema.org/Organization\" itemscope=\"itemscope\" itemprop=\"publisher\">\\n    <span itemprop=\"url\" content=\"https://inshorts.com/\"></span>\\n    <span itemprop=\"name\" content=\"Inshorts\"></span>\\n    <span itemprop=\"logo\" itemscope itemtype=\"https://schema.org/ImageObject\">\\n      <span itemprop=\"url\" content=\"https://assets.inshorts.com/inshorts/images/v1/variants/jpg/m/2018/11_nov/21_wed/img_1542823931298_497.jpg\"></span>\\n      <meta itemprop=\"width\" content=\"400\"></meta>\\n      <meta itemprop=\"height\" content=\"60\"></meta>\\n    </span>\\n  </span>\\n  <div class=\"news-card-image\" style= \"background-image: url(\\'https://static.inshorts.com/inshorts/images/v1/variants/jpg/m/2021/04_apr/24_sat/img_1619279720517_397.jpg?\\')\">\\n  </div>\\n  <div class=\"news-card-title news-right-box\">\\n    <a class=\"clickable\" onclick=\"ga(\\'send\\', {\\'hitType\\': \\'event\\', \\'eventCategory\\': \\'TitleOfNews\\', \\'eventAction\\': \\'clicked\\', \\'eventLabel\\': \\'AirDrop%20bug%20could%20let%20hackers%20know%20users&#39;%20numbers%3A%20Researchers)\\' });\"  style=\"color:#44444d!important\" href=\"/en/news/airdrop-bug-could-let-hackers-know-users-numbers-researchers-1619281356085\">\\n      <span itemprop=\"headline\">AirDrop bug could let hackers know users&#39; numbers: Researchers</span>\\n    </a>\\n    <div class=\"news-card-author-time news-card-author-time-in-title\">\\n      <a href=\"/prev/en/news/airdrop-bug-could-let-hackers-know-users-numbers-researchers-1619281356085\"><span class=\"short\">short</span></a> by <span class=\"author\">Aishwarya Awasthi</span> / \\n      <span class=\"time\" itemprop=\"datePublished\" content=\"2021-04-24T16:22:36.000Z\">09:52 pm</span> on <span clas=\"date\">24 Apr 2021,Saturday</span>\\n    </div>\\n  </div>\\n  <div class=\"news-card-content news-right-box\">\\n    <div itemprop=\"articleBody\">An AirDrop bug could lead an attacker to learn the phone numbers and email addresses of Apple users even as a complete stranger, making 1.5 billion users vulnerable, German security researchers reported. &#34;All they require is a Wi-Fi-capable device and physical proximity to a target that initiates the discovery process by opening...sharing pane on an iOS...device,&#34; they added.</div>\\n    <div class=\"news-card-author-time news-card-author-time-in-content\">\\n      <a href=\"/prev/en/news/airdrop-bug-could-let-hackers-know-users-numbers-researchers-1619281356085\"><span class=\"short\">short</span></a> by <span class=\"author\">Aishwarya Awasthi</span> / \\n      <span class=\"time\" itemprop=\"dateModified\" content=\"2021-04-24T16:22:36.000Z\" >09:52 pm</span> on <span class=\"date\">24 Apr</span>\\n    </div>\\n  </div>\\n  \\n    <div class=\"news-card-footer news-right-box\">\\n      <div class=\"read-more\">read more at <a class=\"source\" onclick=\"ga(\\'send\\', {\\'hitType\\': \\'event\\', \\'eventCategory\\': \\'ReadMore\\', \\'eventAction\\': \\'clicked\\', \\'eventLabel\\': \\'Hindustan%20Times\\' });\" target=\"_blank\" href=\"https://tech.hindustantimes.com/amp/tech/news/apple-bug-lets-hackers-steal-airdrop-users-phone-numbers-email-addresses-71619269346278.html?utm_campaign=fullarticle&amp;utm_medium=referral&amp;utm_source=inshorts \">Hindustan Times</a></div>\\n    </div>\\n  \\n\\n</div>\\n\\n  \\n</div>\\n\\n\\n\\n\\n<div class=\"\">\\n<div class=\"news-card z-depth-1\" itemscope itemtype=\"http://schema.org/NewsArticle\">\\n  <span content=\"\" itemscope itemprop=\"mainEntityOfPage\" itemType=\"https://schema.org/WebPage\" itemid=\"https://inshorts.com/en/news/us-model-emily-ratajkowski-to-auction-her-first-nft-1619286644009\"></span>\\n  <span itemtype=\"https://schema.org/Person\" itemscope=\"itemscope\" itemprop=\"author\">\\n    <span itemprop=\"name\" content=\"Aishwarya Awasthi\"></span>\\n  </span>\\n  <span itemprop=\"description\" content=\"US model Emily Ratajkowski to auction her first NFT\"></span>\\n  <span itemprop=\"image\" itemscope itemtype=\"https://schema.org/ImageObject\">\\n    <meta itemprop=\"url\" content=\"https://static.inshorts.com/inshorts/images/v1/variants/jpg/m/2021/04_apr/24_sat/img_1619278358310_68.jpg?\"></meta>\\n    <meta itemprop=\"width\" content=\"864\"></meta>\\n    <meta itemprop=\"height\" content=\"483\"></meta>\\n  </span>\\n  <span itemtype=\"https://schema.org/Organization\" itemscope=\"itemscope\" itemprop=\"publisher\">\\n    <span itemprop=\"url\" content=\"https://inshorts.com/\"></span>\\n    <span itemprop=\"name\" content=\"Inshorts\"></span>\\n    <span itemprop=\"logo\" itemscope itemtype=\"https://schema.org/ImageObject\">\\n      <span itemprop=\"url\" content=\"https://assets.inshorts.com/inshorts/images/v1/variants/jpg/m/2018/11_nov/21_wed/img_1542823931298_497.jpg\"></span>\\n      <meta itemprop=\"width\" content=\"400\"></meta>\\n      <meta itemprop=\"height\" content=\"60\"></meta>\\n    </span>\\n  </span>\\n  <div class=\"news-card-image\" style= \"background-image: url(\\'https://static.inshorts.com/inshorts/images/v1/variants/jpg/m/2021/04_apr/24_sat/img_1619278358310_68.jpg?\\')\">\\n  </div>\\n  <div class=\"news-card-title news-right-box\">\\n    <a class=\"clickable\" onclick=\"ga(\\'send\\', {\\'hitType\\': \\'event\\', \\'eventCategory\\': \\'TitleOfNews\\', \\'eventAction\\': \\'clicked\\', \\'eventLabel\\': \\'US%20model%20Emily%20Ratajkowski%20to%20auction%20her%20first%20NFT)\\' });\"  style=\"color:#44444d!important\" href=\"/en/news/us-model-emily-ratajkowski-to-auction-her-first-nft-1619286644009\">\\n      <span itemprop=\"headline\">US model Emily Ratajkowski to auction her first NFT</span>\\n    </a>\\n    <div class=\"news-card-author-time news-card-author-time-in-title\">\\n      <a href=\"/prev/en/news/us-model-emily-ratajkowski-to-auction-her-first-nft-1619286644009\"><span class=\"short\">short</span></a> by <span class=\"author\">Aishwarya Awasthi</span> / \\n      <span class=\"time\" itemprop=\"datePublished\" content=\"2021-04-24T17:50:44.000Z\">11:20 pm</span> on <span clas=\"date\">24 Apr 2021,Saturday</span>\\n    </div>\\n  </div>\\n  <div class=\"news-card-content news-right-box\">\\n    <div itemprop=\"articleBody\">US model Emily Ratajkowski has announced that she will be auctioning her first conceptual artwork to ever come to market, an NFT entitled &#39;Buying Myself Back: A Model for Redistribution&#39;. The image attached to the NFT is a digital composite showing Ratajkowski, photographed in her apartment, posing in front of a controversial Richard Prince&#39;s Instagram &#34;painting&#34; of herself.</div>\\n    <div class=\"news-card-author-time news-card-author-time-in-content\">\\n      <a href=\"/prev/en/news/us-model-emily-ratajkowski-to-auction-her-first-nft-1619286644009\"><span class=\"short\">short</span></a> by <span class=\"author\">Aishwarya Awasthi</span> / \\n      <span class=\"time\" itemprop=\"dateModified\" content=\"2021-04-24T17:50:44.000Z\" >11:20 pm</span> on <span class=\"date\">24 Apr</span>\\n    </div>\\n  </div>\\n  \\n    <div class=\"news-card-footer news-right-box\">\\n      <div class=\"read-more\">read more at <a class=\"source\" onclick=\"ga(\\'send\\', {\\'hitType\\': \\'event\\', \\'eventCategory\\': \\'ReadMore\\', \\'eventAction\\': \\'clicked\\', \\'eventLabel\\': \\'Twitter\\' });\" target=\"_blank\" href=\"https://twitter.com/emrata/status/1385710264050454529?utm_campaign=fullarticle&amp;utm_medium=referral&amp;utm_source=inshorts \">Twitter</a></div>\\n    </div>\\n  \\n\\n</div>\\n\\n  \\n</div>\\n\\n\\n\\n\\n<div class=\"\">\\n<div class=\"news-card z-depth-1\" itemscope itemtype=\"http://schema.org/NewsArticle\">\\n  <span content=\"\" itemscope itemprop=\"mainEntityOfPage\" itemType=\"https://schema.org/WebPage\" itemid=\"https://inshorts.com/en/news/elon-musk-to-host-upcoming-episode-of-saturday-night-live-1619344648385\"></span>\\n  <span itemtype=\"https://schema.org/Person\" itemscope=\"itemscope\" itemprop=\"author\">\\n    <span itemprop=\"name\" content=\"Hiral Goyal\"></span>\\n  </span>\\n  <span itemprop=\"description\" content=\"Elon Musk to host upcoming episode of &#39;Saturday Night Live&#39;\"></span>\\n  <span itemprop=\"image\" itemscope itemtype=\"https://schema.org/ImageObject\">\\n    <meta itemprop=\"url\" content=\"https://static.inshorts.com/inshorts/images/v1/variants/jpg/m/2021/04_apr/25_sun/img_1619343952415_895.jpg?\"></meta>\\n    <meta itemprop=\"width\" content=\"864\"></meta>\\n    <meta itemprop=\"height\" content=\"483\"></meta>\\n  </span>\\n  <span itemtype=\"https://schema.org/Organization\" itemscope=\"itemscope\" itemprop=\"publisher\">\\n    <span itemprop=\"url\" content=\"https://inshorts.com/\"></span>\\n    <span itemprop=\"name\" content=\"Inshorts\"></span>\\n    <span itemprop=\"logo\" itemscope itemtype=\"https://schema.org/ImageObject\">\\n      <span itemprop=\"url\" content=\"https://assets.inshorts.com/inshorts/images/v1/variants/jpg/m/2018/11_nov/21_wed/img_1542823931298_497.jpg\"></span>\\n      <meta itemprop=\"width\" content=\"400\"></meta>\\n      <meta itemprop=\"height\" content=\"60\"></meta>\\n    </span>\\n  </span>\\n  <div class=\"news-card-image\" style= \"background-image: url(\\'https://static.inshorts.com/inshorts/images/v1/variants/jpg/m/2021/04_apr/25_sun/img_1619343952415_895.jpg?\\')\">\\n  </div>\\n  <div class=\"news-card-title news-right-box\">\\n    <a class=\"clickable\" onclick=\"ga(\\'send\\', {\\'hitType\\': \\'event\\', \\'eventCategory\\': \\'TitleOfNews\\', \\'eventAction\\': \\'clicked\\', \\'eventLabel\\': \\'Elon%20Musk%20to%20host%20upcoming%20episode%20of%20&#39;Saturday%20Night%20Live&#39;)\\' });\"  style=\"color:#44444d!important\" href=\"/en/news/elon-musk-to-host-upcoming-episode-of-saturday-night-live-1619344648385\">\\n      <span itemprop=\"headline\">Elon Musk to host upcoming episode of &#39;Saturday Night Live&#39;</span>\\n    </a>\\n    <div class=\"news-card-author-time news-card-author-time-in-title\">\\n      <a href=\"/prev/en/news/elon-musk-to-host-upcoming-episode-of-saturday-night-live-1619344648385\"><span class=\"short\">short</span></a> by <span class=\"author\">Hiral Goyal</span> / \\n      <span class=\"time\" itemprop=\"datePublished\" content=\"2021-04-25T09:57:28.000Z\">03:27 pm</span> on <span clas=\"date\">25 Apr 2021,Sunday</span>\\n    </div>\\n  </div>\\n  <div class=\"news-card-content news-right-box\">\\n    <div itemprop=\"articleBody\">Tesla and SpaceX CEO Elon Musk will be hosting the upcoming episode of &#39;Saturday Night Live&#39; on May 8, the American late-night comedy showcase has announced. This will mark Musk&#39;s first time hosting the show. He will be joined by Singer Miley Cyrus who will perform as the musical guest on the show.</div>\\n    <div class=\"news-card-author-time news-card-author-time-in-content\">\\n      <a href=\"/prev/en/news/elon-musk-to-host-upcoming-episode-of-saturday-night-live-1619344648385\"><span class=\"short\">short</span></a> by <span class=\"author\">Hiral Goyal</span> / \\n      <span class=\"time\" itemprop=\"dateModified\" content=\"2021-04-25T09:57:28.000Z\" >03:27 pm</span> on <span class=\"date\">25 Apr</span>\\n    </div>\\n  </div>\\n  \\n    <div class=\"news-card-footer news-right-box\">\\n      <div class=\"read-more\">read more at <a class=\"source\" onclick=\"ga(\\'send\\', {\\'hitType\\': \\'event\\', \\'eventCategory\\': \\'ReadMore\\', \\'eventAction\\': \\'clicked\\', \\'eventLabel\\': \\'Business%20Insider%20India\\' });\" target=\"_blank\" href=\"https://www.businessinsider.in/international/news/tesla-and-spacex-ceo-elon-musk-to-host-an-upcoming-episode-of-saturday-night-live/amp_articleshow/82236003.cms?utm_campaign=fullarticle&amp;utm_medium=referral&amp;utm_source=inshorts \">Business Insider India</a></div>\\n    </div>\\n  \\n\\n</div>\\n\\n  \\n</div>\\n\\n      </div>\\n      \\n      \\n      <div class=\"load-more-wrapper\">\\n        <div id=\"load-more-btn\" onclick=\"loadMoreNews()\" class=\"clickable unselectable load-more z-depth-1 hoverable\">Load More</div>\\n        <div id=\"load-more-gif\" style=\"display:none;\" class=\"clickable unselectable load-more\"><img id=\"load-more-gif\" src=\"https://assets.inshorts.com/website_assets/images/ajax-loader.gif\"/></div>\\n      </div>\\n      \\n\\n      \\n      <div class=\"my-red app-download-pane  hide-on-large-only\">\\n        <div class=\"container\">\\n          <div class=\"row\">\\n            <div class=\"col s12 center\" style=\"color:white;font-weight: 300;font-size:14px;margin-top: 28px;margin-bottom: 18px;\">\\n              For the best experience use <a target=\"_blank\" href=\"/mobile\" style=\"color:white;appearance: none;font-weight: 500;\">inshorts</a> app on your smartphone\\n            </div>\\n            \\n            \\n          </div>\\n        </div>\\n      </div>\\n      \\n\\n    </div>\\n  </div>\\n  <!-- BODY END -->\\n  <footer class=\"page-footer teals\"> \\n  <div class=\"container\">\\n    <div class=\"row\" style=\"margin-bottom: 0px; padding-bottom: 5px;\">\\n\\n      <div class=\"col offset-l3 l3 m4 s12 right social-admin\">\\n        <div class=\"social-share\"><a onclick=\"ga(\\'send\\', {\\'hitType\\': \\'event\\', \\'eventCategory\\': \\'LinkToFaceBookPage\\', \\'eventAction\\': \\'clicked\\', \\'eventLabel\\': \\'RedirectedToFaceBook\\' });\" target=\"_blank\" href=\"https://www.facebook.com/inshortsapp\"><img src=\"https://assets.inshorts.com/website_assets/images/facebook.png\"/></a></div>\\n        <div class=\"social-share\"><a onclick=\"ga(\\'send\\', {\\'hitType\\': \\'event\\', \\'eventCategory\\': \\'LinkToTwitterPage\\', \\'eventAction\\': \\'clicked\\', \\'eventLabel\\': \\'RedirectedToTwitter\\' });\" target=\"_blank\" href=\"https://twitter.com/inshorts\"><img src=\"https://assets.inshorts.com/website_assets/images/twitter.png\"/></a></div>\\n        <div class=\"social-share\"><a onclick=\"ga(\\'send\\', {\\'hitType\\': \\'event\\', \\'eventCategory\\': \\'LinkToLinkedinPage\\', \\'eventAction\\': \\'clicked\\', \\'eventLabel\\': \\'RedirectedToLinkedin\\' });\" target=\"_blank\" href=\"https://www.linkedin.com/company/news-in-shorts\"><img src=\"https://assets.inshorts.com/website_assets/images/linkedin.png\"/></a></div>\\n      </div>\\n\\n\\n      <div class=\"col m4 l3 s6 footer-left-pane\">\\n        <div class=\"right\"><img width=\"160px\" height=\"48px\" src=\"https://assets.inshorts.com/website_assets/images/logo_footer.png\"/></div>\\n\\n        <div class=\"copy-text\" >\\n          <span><span style=\"color:#cfcfcf;font-family: \\'Conv_ClanPro-Bold\\'\">inshorts</span> medialabs pvt. ltd.</span><br/>\\n          &copy;<span style=\"font-size:12px\">COPYRIGHT 2021</span>\\n        </div>\\n      </div>\\n      <div class=\"col m4 l3 s6 footer-right-pane\">\\n        <div id=\"contactUsBtn\" class=\"left clickable\" style=\"margin-top: -5px;\"><img width=\"132px\" height=\"48px\" src=\"https://assets.inshorts.com/website_assets/images/contact_icon.png\"/></div>              \\n        <div class=\"terms-text\">\\n          <a class=\"tnc\" style=\"color: #fff;\" onclick=\"ga(\\'send\\', {\\'hitType\\': \\'event\\', \\'eventCategory\\': \\'LinkToTermsAndConditionsAndPP\\', \\'eventAction\\': \\'clicked\\', \\'eventLabel\\': \\'RedirectedToTermsAndConditions\\' });\" target=\"_blank\" href=\"/tnc\"><span>Terms &amp; conditions</span><br/>\\n          <span>Privacy Policies</span>\\n          </a>\\n          <br/>\\n          <a class=\"tnc\" style=\"color: #fff;\" onclick=\"ga(\\'send\\', {\\'hitType\\': \\'event\\', \\'eventCategory\\': \\'LinkToSitemap\\', \\'eventAction\\': \\'clicked\\', \\'eventLabel\\': \\'RedirectedToSitemap\\' });\" target=\"_blank\" href=\"/editorial_policy\">\\n          <span>Editorial Policy</span>\\n          </a>\\n        </div>\\n      </div>\\n    </div>\\n  </div>\\n  <div id=\"contactUsModal\" class=\"modal_contact row\">\\n    <!-- Modal content -->\\n      <div class=\"modal-content col l4 m4 s8 offset-s2 offset-l4 offset-m4\">\\n        <span class=\"close\">&times;</span>\\n        <div class=\"contact\">\\n          <a target=\"_blank\" href=\"mailto:careers@inshorts.com?subject=Inshorts%20website%20contact%20form\">\\n            <button id=\"myBtn\">Contact Hiring Team</button>\\n          </a>\\n        </div>\\n        <div class=\"contact\">\\n          <a target=\"_blank\" href=\"mailto:Admin@inshorts.com?subject=Inshorts%20website%20contact%20form\">\\n            <button id=\"myBtn\">Contact Admin Team</button>\\n          </a>\\n        </div>\\n        <div class=\"contact\">\\n          <a target=\"_blank\" href=\"mailto:Marketing@inshorts.com?subject=Inshorts%20website%20contact%20form\">\\n            <button id=\"myBtn\">Contact Marketing Team</button>\\n          </a>\\n        </div>\\n        <div class=\"contact\">\\n          <a target=\"_blank\" href=\"mailto:Editorial@inshorts.com?subject=Inshorts%20website%20contact%20form\">\\n            <button id=\"myBtn\">Contact Editorial Team</button>\\n          </a>\\n        </div>\\n        <div class=\"contact\">\\n          <a target=\"_blank\" href=\"mailto:Sales@inshorts.com?subject=Inshorts%20website%20contact%20form\">\\n            <button id=\"myBtn\">Contact Sales Team</button>\\n          </a>\\n        </div>\\n        <div class=\"contact\">\\n          <a target=\"_blank\" href=\"mailto:Contact@inshorts.com?subject=Inshorts%20website%20contact%20form\">\\n            <button id=\"myBtn\">Contact For Any Other Query</button>\\n          </a>\\n        </div>\\n      </div>\\n  </div>\\n</footer>\\n<script>\\nvar modal = document.getElementById(\\'contactUsModal\\');\\n\\n// Get the button that opens the modal\\nvar btn = document.getElementById(\"contactUsBtn\");\\n\\n// Get the <span> element that closes the modal\\nvar span = document.getElementsByClassName(\"close\")[0];\\n\\n// When the user clicks on the button, open the modal \\nbtn.onclick = function() {\\n    modal.style.display = \"block\";\\n}\\n\\n// When the user clicks on <span> (x), close the modal\\nspan.onclick = function() {\\n    modal.style.display = \"none\";\\n}\\n\\n// When the user clicks anywhere outside of the modal, close it\\nwindow.onclick = function(event) {\\n    if (event.target == modal) {\\n        modal.style.display = \"none\";\\n    }\\n}\\n</script>\\n\\n\\n  <!-- Eliminate render-blocking JavaScript and CSS in above-the-fold content -->\\n  <script src=\"https://ajax.googleapis.com/ajax/libs/jquery/1.8/jquery.min.js\"></script>\\n  <script src=\"https://cdnjs.cloudflare.com/ajax/libs/materialize/0.97.0/js/materialize.min.js\"></script>\\n  \\n  <script type=\"text/javascript\" src=\"/dist/scripts/index.js\"></script>\\n  <script type=\"text/javascript\" src=\"/dist/scripts/read.js\"></script>\\n  <script src=\"/dist/scripts/jquery.scrolldepth.min.js\"></script>\\n  <script type=\"text/javascript\">\\n\\n    var min_news_id = \"swnwthen-1\";\\n    function loadMoreNews(){\\n      $(\"#load-more-btn\").hide();\\n      $(\"#load-more-gif\").show();\\n      $.post(\"/en/ajax/more_news\",{\\'category\\':\\'technology\\',\\'news_offset\\':min_news_id},function(data){\\n          data = JSON.parse(data);\\n          min_news_id = data.min_news_id||min_news_id;\\n          $(\".card-stack\").append(data.html);\\n      })\\n      .fail(function(){alert(\"Error : unable to load more news\");})\\n      .always(function(){$(\"#load-more-btn\").show();$(\"#load-more-gif\").hide();});\\n    }\\n    jQuery.scrollDepth();\\n  </script>\\n\\n  <!-- Eliminate render-blocking JavaScript and CSS in above-the-fold content -->\\n\\n</body>\\n</html>\\n'"
      ]
     },
     "execution_count": 6,
     "metadata": {},
     "output_type": "execute_result"
    }
   ],
   "source": [
    "data = requests.get(url)\n",
    "data.content"
   ]
  },
  {
   "cell_type": "code",
   "execution_count": 7,
   "metadata": {},
   "outputs": [],
   "source": [
    "soup = BeautifulSoup(data.content, 'html.parser')"
   ]
  },
  {
   "cell_type": "code",
   "execution_count": 8,
   "metadata": {},
   "outputs": [],
   "source": [
    "news_articles = [{'news_headline': headline.find('span', attrs={'itemprop': 'headline'}).string,\n",
    "                  'news_article': article.find('div', attrs={'itemprop': 'articleBody'}).string,\n",
    "                  'news_category': news_category} \n",
    "                 for headline, article in zip(soup.find_all('div', \n",
    "                                                            class_ = ['news-card-title news-right-box']), \n",
    "                                              soup.find_all('div', class_=['news-card-content news-right-box']))]"
   ]
  },
  {
   "cell_type": "code",
   "execution_count": 9,
   "metadata": {},
   "outputs": [
    {
     "data": {
      "text/plain": [
       "[{'news_headline': 'Govt got social media posts on COVID-19 removed due to misinformation: Reports',\n",
       "  'news_article': 'The Centre has reportedly said that the removal of around 100 coronavirus-related posts on social media was due to \"misinformation\" and not because of criticism of the government. According to reports, the Ministry of Electronics and Information Technology (MeitY) has said that some people were \"misusing\" social media to create panic over the COVID-19 pandemic.',\n",
       "  'news_category': 'technology'},\n",
       " {'news_headline': \"I'm fine with only being known as Serena's husband: Reddit Co-founder\",\n",
       "  'news_article': 'Reddit Co-founder Alexis Ohanian said it\\'s \"fine\" for him to be only known as tennis player Serena Williams\\' husband. \"I\\'ll be a self-made billionaire one day and most people will still know me as Serena\\'s husband (or Olympia\\'s dad) and that\\'s fine by me,\" the 38-year-old tech entrepreneur tweeted. Alexis and Serena married in 2017 and have a daughter together.',\n",
       "  'news_category': 'technology'},\n",
       " {'news_headline': 'Zuckerberg says he lost 4.5 kg as he forgot to eat meals; father responds',\n",
       "  'news_article': 'Facebook\\'s CEO Mark Zuckerberg posted on Facebook that he\\'s lost 4.5 kg because he forgot to eat meals due to the excitement over his work. His father Edward Zuckerberg in a comment asked, \"Do you need Mom and I to deliver meals?\" The response went viral with one user commenting, \"That\\'s what most Indian parents do and I love it.\"',\n",
       "  'news_category': 'technology'},\n",
       " {'news_headline': \"Twitter removes 52 tweets criticising govt's handling of pandemic after Centre's request\",\n",
       "  'news_article': \"Twitter has taken down 52 tweets, most of which criticised India's handling of coronavirus pandemic, after the Centre's request. The censored tweets include posts by MP Revanth Reddy, filmmakers Vinod Kapri and Avinash Das, actor Vineet Kumar Singh and West Bengal minister Moloy Ghatak. Vineet had posted a tweet criticising political rallies amid the pandemic and the shortage of medicines.\",\n",
       "  'news_category': 'technology'},\n",
       " {'news_headline': \"Elon Musk trolled with big 'Mars sucks' billboard outside SpaceX headquarters\",\n",
       "  'news_article': 'Elon Musk was trolled with a big billboard outside his SpaceX headquarters in US\\' California that read \\'Mars sucks\\' on the occasion of Earth Day. The billboard was set up by Los Angeles agency Activista for Earth Day and was live for 30 hours. \"What doesn\\'t suck? Earth But the way we treat it frankly, sucks,\" Activista tweeted.',\n",
       "  'news_category': 'technology'},\n",
       " {'news_headline': \"SpaceX's Falcon 9 rocket soars past Disney World; theme park shares pics\",\n",
       "  'news_article': \"The Walt Disney World Resort has shared pictures of SpaceX's Falcon 9 rocket, with Crew Dragon atop, that soared past the theme park on April 23. The rocket was launched from NASA's Kennedy Space Centre in Florida, carrying four astronauts from three nations in SpaceX Dragon capsule. It left a silhouette vapour trail in the skies above the theme park.\",\n",
       "  'news_category': 'technology'},\n",
       " {'news_headline': 'DoT to ask SpaceX to seek permits for Starlink internet: Report',\n",
       "  'news_article': 'The government will ask Elon Musk-led SpaceX to apply for relevant permits before offering its Starlink satellite internet services in the country, ET reported citing a government official. The Department of Telecommunications (DoT) has no objections but SpaceX must comply with laws of the land, the official said. It will reportedly write to SpaceX seeking to understand its India plans.',\n",
       "  'news_category': 'technology'},\n",
       " {'news_headline': '4-yr-old Pak girl becomes youngest Microsoft Certified Professional: Pak govt',\n",
       "  'news_article': \"Pakistan's government has announced that a four-year-old Pakistani girl made history by becoming the youngest Microsoft Certified Professional. Areesh Fatima scored 831 marks in the MCP exam. Her father, who reportedly accomplished the milestone at a very young age, said he saw his daughter's interest in IT and helped her with the test during COVID-19 lockdown.\",\n",
       "  'news_category': 'technology'},\n",
       " {'news_headline': 'Ethereum Co-founder donates ₹1.6 cr for COVID-19 relief in India',\n",
       "  'news_article': \"Cryptocurrency Ethereum Co-founder Vitalik Buterin has donated 100 Ethereum worth about ₹1.6 crore towards COVID-19 relief in India. Tweeting the proof of transaction, Buterin thanked Polygon Co-founder Sandeep Nailwal for organising the 'India Covid-Crypto Relief Fund'. Nailwal said the donations will be converted to fiat money and used to procure oxygen, food and vaccines for those in need.\",\n",
       "  'news_category': 'technology'},\n",
       " {'news_headline': 'Apple to launch programme for staff to get vaccines at its offices',\n",
       "  'news_article': \"Apple has said that it is starting a programme to help employees get voluntary COVID-19 vaccinations at its offices. It is working with drugstore chain Walgreens Boots Alliance as its vendor and will open a website for its employees to sign up for appointments. The programme doesn't require an immediate return of the employees to the offices.\\n \\n\",\n",
       "  'news_category': 'technology'},\n",
       " {'news_headline': 'Man who claims he created Bitcoin allowed to serve copyright claim',\n",
       "  'news_article': 'Australian scientist Craig Wright has been allowed by a London court to serve a copyright infringement lawsuit against the owners of bitcoin.org website who are identified as \"Cobra\". Wright has claimed that he wrote the Bitcoin white paper which was published under the pseudonym Satoshi Nakamoto in 2008. Wright has demanded that \"Cobra\" remove the white paper from its website.',\n",
       "  'news_category': 'technology'},\n",
       " {'news_headline': \"Indian artist to auction world's '1st' physically-linked NFT collection\",\n",
       "  'news_article': 'Globally renowned Indian artist Kanthraj N will be auctioning \\'\\'My Life\\'s Work\", world\\'s \"first\" physically-linked NFT collection of his 12 original, globally recognised, and award-winning paintings. He will be using the NFT platform called RubiX, that will enable him to tokenise the physical paintings. The auction will also be the world\\'s first on-chain NFT.',\n",
       "  'news_category': 'technology'},\n",
       " {'news_headline': 'No immediate plans for an IPO: TikTok-owner ByteDance',\n",
       "  'news_article': 'Beijing-based TikTok-parent ByteDance has said it has no imminent plans for an initial public offering (IPO). \"We believe the company doesn\\'t meet the public listing requirements for now,\" ByteDance said in a statement. Reuters had earlier reported ByteDance has been exploring possibilities to list Douyin, the Chinese version of TikTok, in New York or Hong Kong.',\n",
       "  'news_category': 'technology'},\n",
       " {'news_headline': \"ByteDance's IPO plans put on hold by regulatory demands: Report\",\n",
       "  'news_article': \"TikTok-parent ByteDance's plans for an initial public offering (IPO) have been reportedly put on hold as the company seeks to comply with regulatory demands from both China and US. The company has done so because of the US-China geopolitical tensions, the SCMP reported, citing an unnamed Beijing-based government official. On Friday, ByteDance said it had no plans for an IPO.\",\n",
       "  'news_category': 'technology'},\n",
       " {'news_headline': 'Ellen DeGeneres to auction her first-ever NFT on April 26',\n",
       "  'news_article': 'Ellen DeGeneres will be auctioning her first-ever NFT on April 26. She will be auctioning a selfie of her holding original artwork of a cat, which she\\'s calling \"Woman With Stick Cat\". Ellen announced the drop in a monologue from the sets of \"The Ellen DeGeneres Show\", which itself will be up for auction as an NFT.',\n",
       "  'news_category': 'technology'},\n",
       " {'news_headline': 'Radar to track objects in space from farm unveiled in Costa Rica ',\n",
       "  'news_article': \"A giant radar, built by LeoLabs, capable of tracking small objects in space that threaten the safety of astronauts and satellites has been unveiled in Costa Rica. Situated on a farm, it can monitor objects that transit in low Earth orbit near the planet's equator. LeoLabs said it's capable of tracking objects the size of a golf ball.\",\n",
       "  'news_category': 'technology'},\n",
       " {'news_headline': 'Turkey detains 4 people after crypto exchange ceases operations',\n",
       "  'news_article': \"After Turkish cryptocurrency exchange platform Vebitcoin ceased all operations citing financial strains, local authorities detained four of its employees, reportedly including the company's CEO. They also blocked the onshore bank accounts of Vebitcoin and ordered an investigation. This comes after another Turkish platform Thodex halted operations and its CEO reportedly fled the country.\",\n",
       "  'news_category': 'technology'},\n",
       " {'news_headline': 'Alphabet to give bonuses tied to environment, social & governance\\xa0goals',\n",
       "  'news_article': \"Google-parent Alphabet has said it will create a bonus program for senior executives that will partly be based on their performance in supporting environmental, social and governance (ESG) goals. Chairman John Hennessy, in a letter to shareholders, said that ESG goals have been a key part of Alphabet and Google's work. The program will begin in 2022, he added.\",\n",
       "  'news_category': 'technology'},\n",
       " {'news_headline': \"Bitcoin has potential to become 'digital gold' in 10 years: Report\",\n",
       "  'news_article': 'Bitcoin has the potential to become \"digital gold\" and destabilise the bullion market over the next ten years, a report by financial services company eToro and The TIE said. The report added that the world\\'s largest cryptocurrency could be a modernised \"hard asset\". The NFT-mania of the last quarter shows how impactful cryptocurrencies can be, the report added.',\n",
       "  'news_category': 'technology'},\n",
       " {'news_headline': '4chan Founder Chris Poole leaves Google after 5 years',\n",
       "  'news_article': \"Chris Poole, who founded online community 4chan before joining Google in 2016, has left the firm after moving around several groups within the company, CNBC reported citing an internal document. Poole's last official day at Google was April 13, and his last role was of a product manager. Google confirmed to CNBC that Poole is no longer its employee.\",\n",
       "  'news_category': 'technology'},\n",
       " {'news_headline': 'SpaceX nears permit to fly 4,000 satellites in lower orbit: Report',\n",
       "  'news_article': 'SpaceX has moved closer to getting a permit from the US FCC to fly over 4,000 Starlink satellites at a lower orbit than initially planned, Bloomberg reported. Acting FCC Chairwoman Jessica Rosenworcel asked her colleagues to vote for the plan. SpaceX has asked to fly 2,824 satellites in the lower orbit, where it already has permission to operate 1,584 spacecraft. ',\n",
       "  'news_category': 'technology'},\n",
       " {'news_headline': \"HCL Technologies' net profit down 25.6% to ₹2,962 cr in Q4\",\n",
       "  'news_article': \"India's third-largest software services firm by revenue HCL Technologies' net profit fell 25.6% quarter-on-quarter (QoQ) to ₹2,962 crore in Q4 due to a one-time tax expense. The company said it is expecting double-digit revenue growth in constant currency terms in FY22 due to the positive demand environment and robust deal pipeline. Q4 revenue was up 1.8% QoQ to ₹19,642 crore. \",\n",
       "  'news_category': 'technology'},\n",
       " {'news_headline': \"AirDrop bug could let hackers know users' numbers: Researchers\",\n",
       "  'news_article': 'An AirDrop bug could lead an attacker to learn the phone numbers and email addresses of Apple users even as a complete stranger, making 1.5 billion users vulnerable, German security researchers reported. \"All they require is a Wi-Fi-capable device and physical proximity to a target that initiates the discovery process by opening...sharing pane on an iOS...device,\" they added.',\n",
       "  'news_category': 'technology'},\n",
       " {'news_headline': 'US model Emily Ratajkowski to auction her first NFT',\n",
       "  'news_article': 'US model Emily Ratajkowski has announced that she will be auctioning her first conceptual artwork to ever come to market, an NFT entitled \\'Buying Myself Back: A Model for Redistribution\\'. The image attached to the NFT is a digital composite showing Ratajkowski, photographed in her apartment, posing in front of a controversial Richard Prince\\'s Instagram \"painting\" of herself.',\n",
       "  'news_category': 'technology'},\n",
       " {'news_headline': \"Elon Musk to host upcoming episode of 'Saturday Night Live'\",\n",
       "  'news_article': \"Tesla and SpaceX CEO Elon Musk will be hosting the upcoming episode of 'Saturday Night Live' on May 8, the American late-night comedy showcase has announced. This will mark Musk's first time hosting the show. He will be joined by Singer Miley Cyrus who will perform as the musical guest on the show.\",\n",
       "  'news_category': 'technology'}]"
      ]
     },
     "execution_count": 9,
     "metadata": {},
     "output_type": "execute_result"
    }
   ],
   "source": [
    "news_data.extend(news_articles)\n",
    "news_data"
   ]
  },
  {
   "cell_type": "code",
   "execution_count": 10,
   "metadata": {},
   "outputs": [],
   "source": [
    "df = pd.DataFrame(news_data)"
   ]
  },
  {
   "cell_type": "code",
   "execution_count": 11,
   "metadata": {},
   "outputs": [],
   "source": [
    "df = df[['news_headline', 'news_article', 'news_category']]"
   ]
  },
  {
   "cell_type": "code",
   "execution_count": 12,
   "metadata": {},
   "outputs": [
    {
     "data": {
      "text/html": [
       "<div>\n",
       "<style scoped>\n",
       "    .dataframe tbody tr th:only-of-type {\n",
       "        vertical-align: middle;\n",
       "    }\n",
       "\n",
       "    .dataframe tbody tr th {\n",
       "        vertical-align: top;\n",
       "    }\n",
       "\n",
       "    .dataframe thead th {\n",
       "        text-align: right;\n",
       "    }\n",
       "</style>\n",
       "<table border=\"1\" class=\"dataframe\">\n",
       "  <thead>\n",
       "    <tr style=\"text-align: right;\">\n",
       "      <th></th>\n",
       "      <th>news_headline</th>\n",
       "      <th>news_article</th>\n",
       "      <th>news_category</th>\n",
       "    </tr>\n",
       "  </thead>\n",
       "  <tbody>\n",
       "    <tr>\n",
       "      <th>0</th>\n",
       "      <td>Govt got social media posts on COVID-19 remove...</td>\n",
       "      <td>The Centre has reportedly said that the remova...</td>\n",
       "      <td>technology</td>\n",
       "    </tr>\n",
       "    <tr>\n",
       "      <th>1</th>\n",
       "      <td>I'm fine with only being known as Serena's hus...</td>\n",
       "      <td>Reddit Co-founder Alexis Ohanian said it's \"fi...</td>\n",
       "      <td>technology</td>\n",
       "    </tr>\n",
       "    <tr>\n",
       "      <th>2</th>\n",
       "      <td>Zuckerberg says he lost 4.5 kg as he forgot to...</td>\n",
       "      <td>Facebook's CEO Mark Zuckerberg posted on Faceb...</td>\n",
       "      <td>technology</td>\n",
       "    </tr>\n",
       "  </tbody>\n",
       "</table>\n",
       "</div>"
      ],
      "text/plain": [
       "                                       news_headline  \\\n",
       "0  Govt got social media posts on COVID-19 remove...   \n",
       "1  I'm fine with only being known as Serena's hus...   \n",
       "2  Zuckerberg says he lost 4.5 kg as he forgot to...   \n",
       "\n",
       "                                        news_article news_category  \n",
       "0  The Centre has reportedly said that the remova...    technology  \n",
       "1  Reddit Co-founder Alexis Ohanian said it's \"fi...    technology  \n",
       "2  Facebook's CEO Mark Zuckerberg posted on Faceb...    technology  "
      ]
     },
     "execution_count": 12,
     "metadata": {},
     "output_type": "execute_result"
    }
   ],
   "source": [
    "df.head(3)"
   ]
  },
  {
   "cell_type": "markdown",
   "metadata": {},
   "source": [
    "# Prepare user defined function to extract data from inshorts.com"
   ]
  },
  {
   "cell_type": "code",
   "execution_count": 13,
   "metadata": {},
   "outputs": [],
   "source": [
    "urls_list = ['https://inshorts.com/en/read/technology',\n",
    "             'https://inshorts.com/en/read/sports',\n",
    "             'https://inshorts.com/en/read/world']"
   ]
  },
  {
   "cell_type": "code",
   "execution_count": 14,
   "metadata": {},
   "outputs": [],
   "source": [
    "def datasetPrepare(urls_list):\n",
    "    news_data = []\n",
    "    for url in urls_list:\n",
    "        news_category = url.split('/')[-1]\n",
    "        data = requests.get(url)\n",
    "        soup = BeautifulSoup(data.content, 'html.parser')\n",
    "        news_articles = [{'news_headline': headline.find('span', attrs={\"itemprop\": \"headline\"}).string,\n",
    "                          'news_article': article.find('div', attrs={\"itemprop\": \"articleBody\"}).string,\n",
    "                          'news_category': news_category}\n",
    "                         \n",
    "                            for headline, article in \n",
    "                             zip(soup.find_all('div', class_=[\"news-card-title news-right-box\"]),\n",
    "                                 soup.find_all('div', class_=[\"news-card-content news-right-box\"]))\n",
    "                        ]\n",
    "        news_data.extend(news_articles) \n",
    "    df =  pd.DataFrame(news_data)\n",
    "    df = df[['news_headline', 'news_article', 'news_category']]\n",
    "    return df    "
   ]
  },
  {
   "cell_type": "code",
   "execution_count": 15,
   "metadata": {},
   "outputs": [],
   "source": [
    "news_df = datasetPrepare(urls_list)"
   ]
  },
  {
   "cell_type": "code",
   "execution_count": 16,
   "metadata": {},
   "outputs": [
    {
     "name": "stdout",
     "output_type": "stream",
     "text": [
      "<class 'pandas.core.frame.DataFrame'>\n",
      "RangeIndex: 75 entries, 0 to 74\n",
      "Data columns (total 3 columns):\n",
      "news_headline    75 non-null object\n",
      "news_article     75 non-null object\n",
      "news_category    75 non-null object\n",
      "dtypes: object(3)\n",
      "memory usage: 1.9+ KB\n"
     ]
    }
   ],
   "source": [
    "news_df.info()"
   ]
  },
  {
   "cell_type": "code",
   "execution_count": 17,
   "metadata": {},
   "outputs": [
    {
     "data": {
      "text/html": [
       "<div>\n",
       "<style scoped>\n",
       "    .dataframe tbody tr th:only-of-type {\n",
       "        vertical-align: middle;\n",
       "    }\n",
       "\n",
       "    .dataframe tbody tr th {\n",
       "        vertical-align: top;\n",
       "    }\n",
       "\n",
       "    .dataframe thead th {\n",
       "        text-align: right;\n",
       "    }\n",
       "</style>\n",
       "<table border=\"1\" class=\"dataframe\">\n",
       "  <thead>\n",
       "    <tr style=\"text-align: right;\">\n",
       "      <th></th>\n",
       "      <th>news_headline</th>\n",
       "      <th>news_article</th>\n",
       "      <th>news_category</th>\n",
       "    </tr>\n",
       "  </thead>\n",
       "  <tbody>\n",
       "    <tr>\n",
       "      <th>0</th>\n",
       "      <td>Govt got social media posts on COVID-19 remove...</td>\n",
       "      <td>The Centre has reportedly said that the remova...</td>\n",
       "      <td>technology</td>\n",
       "    </tr>\n",
       "    <tr>\n",
       "      <th>1</th>\n",
       "      <td>I'm fine with only being known as Serena's hus...</td>\n",
       "      <td>Reddit Co-founder Alexis Ohanian said it's \"fi...</td>\n",
       "      <td>technology</td>\n",
       "    </tr>\n",
       "    <tr>\n",
       "      <th>2</th>\n",
       "      <td>Elon Musk trolled with big 'Mars sucks' billbo...</td>\n",
       "      <td>Elon Musk was trolled with a big billboard out...</td>\n",
       "      <td>technology</td>\n",
       "    </tr>\n",
       "    <tr>\n",
       "      <th>3</th>\n",
       "      <td>4-yr-old Pak girl becomes youngest Microsoft C...</td>\n",
       "      <td>Pakistan's government has announced that a fou...</td>\n",
       "      <td>technology</td>\n",
       "    </tr>\n",
       "    <tr>\n",
       "      <th>4</th>\n",
       "      <td>Zuckerberg says he lost 4.5 kg as he forgot to...</td>\n",
       "      <td>Facebook's CEO Mark Zuckerberg posted on Faceb...</td>\n",
       "      <td>technology</td>\n",
       "    </tr>\n",
       "  </tbody>\n",
       "</table>\n",
       "</div>"
      ],
      "text/plain": [
       "                                       news_headline  \\\n",
       "0  Govt got social media posts on COVID-19 remove...   \n",
       "1  I'm fine with only being known as Serena's hus...   \n",
       "2  Elon Musk trolled with big 'Mars sucks' billbo...   \n",
       "3  4-yr-old Pak girl becomes youngest Microsoft C...   \n",
       "4  Zuckerberg says he lost 4.5 kg as he forgot to...   \n",
       "\n",
       "                                        news_article news_category  \n",
       "0  The Centre has reportedly said that the remova...    technology  \n",
       "1  Reddit Co-founder Alexis Ohanian said it's \"fi...    technology  \n",
       "2  Elon Musk was trolled with a big billboard out...    technology  \n",
       "3  Pakistan's government has announced that a fou...    technology  \n",
       "4  Facebook's CEO Mark Zuckerberg posted on Faceb...    technology  "
      ]
     },
     "execution_count": 17,
     "metadata": {},
     "output_type": "execute_result"
    }
   ],
   "source": [
    "news_df.head(5)"
   ]
  },
  {
   "cell_type": "code",
   "execution_count": 18,
   "metadata": {},
   "outputs": [
    {
     "data": {
      "text/plain": [
       "sports        25\n",
       "technology    25\n",
       "world         25\n",
       "Name: news_category, dtype: int64"
      ]
     },
     "execution_count": 18,
     "metadata": {},
     "output_type": "execute_result"
    }
   ],
   "source": [
    "news_df.news_category.value_counts()"
   ]
  },
  {
   "cell_type": "markdown",
   "metadata": {},
   "source": [
    "# Text Wrangling and Pre-processing"
   ]
  },
  {
   "cell_type": "code",
   "execution_count": 19,
   "metadata": {},
   "outputs": [],
   "source": [
    "#!pip install spacy\n",
    "import spacy\n",
    "import nltk\n",
    "from nltk.tokenize.toktok import ToktokTokenizer\n",
    "import re\n",
    "import unicodedata"
   ]
  },
  {
   "cell_type": "code",
   "execution_count": 20,
   "metadata": {},
   "outputs": [],
   "source": [
    "#python -m spacy download en\n",
    "nlp = spacy.load(\"en_core_web_sm\")"
   ]
  },
  {
   "cell_type": "code",
   "execution_count": 21,
   "metadata": {},
   "outputs": [
    {
     "name": "stderr",
     "output_type": "stream",
     "text": [
      "[nltk_data] Downloading package stopwords to\n",
      "[nltk_data]     C:\\Users\\Sanjana\\AppData\\Roaming\\nltk_data...\n",
      "[nltk_data]   Package stopwords is already up-to-date!\n"
     ]
    },
    {
     "data": {
      "text/plain": [
       "True"
      ]
     },
     "execution_count": 21,
     "metadata": {},
     "output_type": "execute_result"
    }
   ],
   "source": [
    "nltk.download('stopwords')"
   ]
  },
  {
   "cell_type": "code",
   "execution_count": 22,
   "metadata": {},
   "outputs": [],
   "source": [
    "tokenizer = ToktokTokenizer()\n",
    "stopword_list = nltk.corpus.stopwords.words('english')\n",
    "stopword_list.remove('no')\n",
    "stopword_list.remove('not')"
   ]
  },
  {
   "cell_type": "markdown",
   "metadata": {},
   "source": [
    "## Remove HTML tags"
   ]
  },
  {
   "cell_type": "code",
   "execution_count": 23,
   "metadata": {},
   "outputs": [
    {
     "data": {
      "text/plain": [
       "'Some important text'"
      ]
     },
     "execution_count": 23,
     "metadata": {},
     "output_type": "execute_result"
    }
   ],
   "source": [
    "def strip_html_tags(text):\n",
    "    soup = BeautifulSoup(text, \"html.parser\")\n",
    "    stripped_text = soup.get_text()\n",
    "    return stripped_text\n",
    "\n",
    "strip_html_tags('<html><h2>Some important text</h2></html>')"
   ]
  },
  {
   "cell_type": "markdown",
   "metadata": {},
   "source": [
    "## Remove accented characters"
   ]
  },
  {
   "cell_type": "code",
   "execution_count": 24,
   "metadata": {},
   "outputs": [
    {
     "data": {
      "text/plain": [
       "'Some Accented text'"
      ]
     },
     "execution_count": 24,
     "metadata": {},
     "output_type": "execute_result"
    }
   ],
   "source": [
    "def remove_accented_chars(text):\n",
    "    text = unicodedata.normalize('NFKD', text).encode('ascii', 'ignore').decode('utf-8', 'ignore')\n",
    "    return text\n",
    "\n",
    "remove_accented_chars('Sómě Áccěntěd těxt')"
   ]
  },
  {
   "cell_type": "markdown",
   "metadata": {},
   "source": [
    "## Remove special characters"
   ]
  },
  {
   "cell_type": "code",
   "execution_count": 25,
   "metadata": {},
   "outputs": [],
   "source": [
    "def remove_special_characters(text, remove_digits=False):\n",
    "    pattern = r'[^a-zA-z0-9\\s]' if not remove_digits else r'[^a-zA-z\\s]'\n",
    "    text = re.sub(pattern, '', text)\n",
    "    return text"
   ]
  },
  {
   "cell_type": "code",
   "execution_count": 26,
   "metadata": {},
   "outputs": [
    {
     "data": {
      "text/plain": [
       "'Well this was fun What do you think '"
      ]
     },
     "execution_count": 26,
     "metadata": {},
     "output_type": "execute_result"
    }
   ],
   "source": [
    "remove_special_characters(\"Well this was fun! What do you think? 123#@!\", remove_digits=True)"
   ]
  },
  {
   "cell_type": "markdown",
   "metadata": {},
   "source": [
    "## Text lemmatization"
   ]
  },
  {
   "cell_type": "code",
   "execution_count": 27,
   "metadata": {},
   "outputs": [],
   "source": [
    "def lemmatize_text(text):\n",
    "    text = nlp(text)\n",
    "    text = ' '.join([word.lemma_ if word.lemma_ != '-PRON-' else word.text for word in text])\n",
    "    return text"
   ]
  },
  {
   "cell_type": "code",
   "execution_count": 28,
   "metadata": {},
   "outputs": [
    {
     "data": {
      "text/plain": [
       "'my system keep crash ! his crashed yesterday , ours crash daily'"
      ]
     },
     "execution_count": 28,
     "metadata": {},
     "output_type": "execute_result"
    }
   ],
   "source": [
    "lemmatize_text(\"My system keeps crashing! his crashed yesterday, ours crashes daily\")"
   ]
  },
  {
   "cell_type": "markdown",
   "metadata": {},
   "source": [
    "## Text stemming"
   ]
  },
  {
   "cell_type": "code",
   "execution_count": 29,
   "metadata": {},
   "outputs": [
    {
     "data": {
      "text/plain": [
       "'My system keep crash hi crash yesterday, our crash daili'"
      ]
     },
     "execution_count": 29,
     "metadata": {},
     "output_type": "execute_result"
    }
   ],
   "source": [
    "def simple_stemmer(text):\n",
    "    ps = nltk.porter.PorterStemmer()\n",
    "    text = ' '.join([ps.stem(word) for word in text.split()])\n",
    "    return text\n",
    "\n",
    "simple_stemmer(\"My system keeps crashing his crashed yesterday, ours crashes daily\")"
   ]
  },
  {
   "cell_type": "markdown",
   "metadata": {},
   "source": [
    "## Remove stopwords"
   ]
  },
  {
   "cell_type": "code",
   "execution_count": 30,
   "metadata": {},
   "outputs": [
    {
     "data": {
      "text/plain": [
       "', , stopwords , computer not'"
      ]
     },
     "execution_count": 30,
     "metadata": {},
     "output_type": "execute_result"
    }
   ],
   "source": [
    "def remove_stopwords(text, is_lower_case=False):\n",
    "    tokens = tokenizer.tokenize(text)\n",
    "    tokens = [token.strip() for token in tokens]\n",
    "    if is_lower_case:\n",
    "        filtered_tokens = [token for token in tokens if token not in stopword_list]\n",
    "    else:\n",
    "        filtered_tokens = [token for token in tokens if token.lower() not in stopword_list]\n",
    "    filtered_text = ' '.join(filtered_tokens)    \n",
    "    return filtered_text\n",
    "\n",
    "remove_stopwords(\"The, and, if are stopwords, computer is not\")"
   ]
  },
  {
   "cell_type": "markdown",
   "metadata": {},
   "source": [
    "## Building a text normalizer"
   ]
  },
  {
   "cell_type": "code",
   "execution_count": 31,
   "metadata": {},
   "outputs": [],
   "source": [
    "def normalize_corpus(corpus, html_stripping=True, contraction_expansion=True,\n",
    "                     accented_char_removal=True, text_lower_case=True, \n",
    "                     text_lemmatization=True, special_char_removal=True, \n",
    "                     stopword_removal=True, remove_digits=True):\n",
    "    \n",
    "    normalized_corpus = []\n",
    "    # normalize each document in the corpus\n",
    "    for doc in corpus:\n",
    "        # strip HTML\n",
    "        if html_stripping:\n",
    "            doc = strip_html_tags(doc)\n",
    "        # remove accented characters\n",
    "        if accented_char_removal:\n",
    "            doc = remove_accented_chars(doc)\n",
    "        # lowercase the text    \n",
    "        if text_lower_case:\n",
    "            doc = doc.lower()\n",
    "        # remove extra newlines\n",
    "        doc = re.sub(r'[\\r|\\n|\\r\\n]+', ' ',doc)\n",
    "        # lemmatize text\n",
    "        if text_lemmatization:\n",
    "            doc = lemmatize_text(doc)\n",
    "        # remove special characters and\\or digits    \n",
    "        if special_char_removal:\n",
    "            # insert spaces between special characters to isolate them    \n",
    "            special_char_pattern = re.compile(r'([{.(-)!}])')\n",
    "            doc = special_char_pattern.sub(\" \\\\1 \", doc)\n",
    "            doc = remove_special_characters(doc, remove_digits=remove_digits)  \n",
    "        # remove extra whitespace\n",
    "        doc = re.sub(' +', ' ', doc)\n",
    "        # remove stopwords\n",
    "        if stopword_removal:\n",
    "            doc = remove_stopwords(doc, is_lower_case=text_lower_case)\n",
    "            \n",
    "        normalized_corpus.append(doc)\n",
    "        \n",
    "    return normalized_corpus"
   ]
  },
  {
   "cell_type": "markdown",
   "metadata": {},
   "source": [
    "## Pre-process and normalize news articles"
   ]
  },
  {
   "cell_type": "code",
   "execution_count": 32,
   "metadata": {},
   "outputs": [],
   "source": [
    "news_df['full_text'] = news_df[\"news_headline\"].map(str)+ '. ' + news_df[\"news_article\"]"
   ]
  },
  {
   "cell_type": "code",
   "execution_count": 33,
   "metadata": {},
   "outputs": [
    {
     "data": {
      "text/plain": [
       "{'full_text': 'I\\'m fine with only being known as Serena\\'s husband: Reddit Co-founder. Reddit Co-founder Alexis Ohanian said it\\'s \"fine\" for him to be only known as tennis player Serena Williams\\' husband. \"I\\'ll be a self-made billionaire one day and most people will still know me as Serena\\'s husband (or Olympia\\'s dad) and that\\'s fine by me,\" the 38-year-old tech entrepreneur tweeted. Alexis and Serena married in 2017 and have a daughter together.',\n",
       " 'clean_text': 'I fine know serena husband reddit co founder reddit co founder alexis ohanian say fine know tennis player serena william husband I self make billionaire one day people still know I serena husband olympia dad fine I year old tech entrepreneur tweet alexis serena marry daughter together'}"
      ]
     },
     "execution_count": 33,
     "metadata": {},
     "output_type": "execute_result"
    }
   ],
   "source": [
    "news_df['clean_text'] = normalize_corpus(news_df['full_text'])\n",
    "norm_corpus = list(news_df['clean_text'])\n",
    "news_df.iloc[1][['full_text', 'clean_text']].to_dict()"
   ]
  },
  {
   "cell_type": "markdown",
   "metadata": {},
   "source": [
    "# Save the news articles"
   ]
  },
  {
   "cell_type": "code",
   "execution_count": 34,
   "metadata": {},
   "outputs": [],
   "source": [
    "news_df.to_csv('news.csv', index=False, encoding='utf-8')"
   ]
  },
  {
   "cell_type": "markdown",
   "metadata": {},
   "source": [
    "# Tagging Parts of Speech"
   ]
  },
  {
   "cell_type": "code",
   "execution_count": 35,
   "metadata": {},
   "outputs": [],
   "source": [
    "news_df = pd.read_csv('news.csv')"
   ]
  },
  {
   "cell_type": "code",
   "execution_count": 36,
   "metadata": {},
   "outputs": [],
   "source": [
    "corpus = normalize_corpus(news_df['full_text'], text_lower_case=False, \n",
    "                          text_lemmatization=False, special_char_removal=False)\n",
    "\n",
    "sentence = str(news_df.iloc[1].news_headline)\n",
    "sentence_nlp = nlp(sentence)"
   ]
  },
  {
   "cell_type": "code",
   "execution_count": 37,
   "metadata": {},
   "outputs": [
    {
     "data": {
      "text/html": [
       "<div>\n",
       "<style scoped>\n",
       "    .dataframe tbody tr th:only-of-type {\n",
       "        vertical-align: middle;\n",
       "    }\n",
       "\n",
       "    .dataframe tbody tr th {\n",
       "        vertical-align: top;\n",
       "    }\n",
       "\n",
       "    .dataframe thead th {\n",
       "        text-align: right;\n",
       "    }\n",
       "</style>\n",
       "<table border=\"1\" class=\"dataframe\">\n",
       "  <thead>\n",
       "    <tr style=\"text-align: right;\">\n",
       "      <th></th>\n",
       "      <th>Word</th>\n",
       "      <th>POS tag</th>\n",
       "      <th>Tag type</th>\n",
       "    </tr>\n",
       "  </thead>\n",
       "  <tbody>\n",
       "    <tr>\n",
       "      <th>0</th>\n",
       "      <td>I</td>\n",
       "      <td>PRP</td>\n",
       "      <td>PRON</td>\n",
       "    </tr>\n",
       "    <tr>\n",
       "      <th>1</th>\n",
       "      <td>'m</td>\n",
       "      <td>VBP</td>\n",
       "      <td>VERB</td>\n",
       "    </tr>\n",
       "    <tr>\n",
       "      <th>2</th>\n",
       "      <td>fine</td>\n",
       "      <td>JJ</td>\n",
       "      <td>ADJ</td>\n",
       "    </tr>\n",
       "    <tr>\n",
       "      <th>3</th>\n",
       "      <td>with</td>\n",
       "      <td>IN</td>\n",
       "      <td>ADP</td>\n",
       "    </tr>\n",
       "    <tr>\n",
       "      <th>4</th>\n",
       "      <td>only</td>\n",
       "      <td>RB</td>\n",
       "      <td>ADV</td>\n",
       "    </tr>\n",
       "    <tr>\n",
       "      <th>5</th>\n",
       "      <td>being</td>\n",
       "      <td>VBG</td>\n",
       "      <td>AUX</td>\n",
       "    </tr>\n",
       "    <tr>\n",
       "      <th>6</th>\n",
       "      <td>known</td>\n",
       "      <td>VBN</td>\n",
       "      <td>VERB</td>\n",
       "    </tr>\n",
       "    <tr>\n",
       "      <th>7</th>\n",
       "      <td>as</td>\n",
       "      <td>IN</td>\n",
       "      <td>ADP</td>\n",
       "    </tr>\n",
       "    <tr>\n",
       "      <th>8</th>\n",
       "      <td>Serena</td>\n",
       "      <td>NNP</td>\n",
       "      <td>PROPN</td>\n",
       "    </tr>\n",
       "    <tr>\n",
       "      <th>9</th>\n",
       "      <td>'s</td>\n",
       "      <td>POS</td>\n",
       "      <td>PART</td>\n",
       "    </tr>\n",
       "    <tr>\n",
       "      <th>10</th>\n",
       "      <td>husband</td>\n",
       "      <td>NN</td>\n",
       "      <td>NOUN</td>\n",
       "    </tr>\n",
       "    <tr>\n",
       "      <th>11</th>\n",
       "      <td>:</td>\n",
       "      <td>:</td>\n",
       "      <td>PUNCT</td>\n",
       "    </tr>\n",
       "    <tr>\n",
       "      <th>12</th>\n",
       "      <td>Reddit</td>\n",
       "      <td>NNP</td>\n",
       "      <td>PROPN</td>\n",
       "    </tr>\n",
       "    <tr>\n",
       "      <th>13</th>\n",
       "      <td>Co</td>\n",
       "      <td>NNP</td>\n",
       "      <td>PROPN</td>\n",
       "    </tr>\n",
       "    <tr>\n",
       "      <th>14</th>\n",
       "      <td>-</td>\n",
       "      <td>NN</td>\n",
       "      <td>NOUN</td>\n",
       "    </tr>\n",
       "    <tr>\n",
       "      <th>15</th>\n",
       "      <td>founder</td>\n",
       "      <td>NN</td>\n",
       "      <td>NOUN</td>\n",
       "    </tr>\n",
       "  </tbody>\n",
       "</table>\n",
       "</div>"
      ],
      "text/plain": [
       "       Word POS tag Tag type\n",
       "0         I     PRP     PRON\n",
       "1        'm     VBP     VERB\n",
       "2      fine      JJ      ADJ\n",
       "3      with      IN      ADP\n",
       "4      only      RB      ADV\n",
       "5     being     VBG      AUX\n",
       "6     known     VBN     VERB\n",
       "7        as      IN      ADP\n",
       "8    Serena     NNP    PROPN\n",
       "9        's     POS     PART\n",
       "10  husband      NN     NOUN\n",
       "11        :       :    PUNCT\n",
       "12   Reddit     NNP    PROPN\n",
       "13       Co     NNP    PROPN\n",
       "14        -      NN     NOUN\n",
       "15  founder      NN     NOUN"
      ]
     },
     "execution_count": 37,
     "metadata": {},
     "output_type": "execute_result"
    }
   ],
   "source": [
    "spacy_pos_tagged = [(word, word.tag_, word.pos_) for word in sentence_nlp]\n",
    "pd.DataFrame(spacy_pos_tagged, columns=['Word', 'POS tag', 'Tag type'])"
   ]
  },
  {
   "cell_type": "code",
   "execution_count": 38,
   "metadata": {},
   "outputs": [
    {
     "name": "stderr",
     "output_type": "stream",
     "text": [
      "[nltk_data] Downloading package punkt to\n",
      "[nltk_data]     C:\\Users\\Sanjana\\AppData\\Roaming\\nltk_data...\n",
      "[nltk_data]   Package punkt is already up-to-date!\n"
     ]
    },
    {
     "data": {
      "text/plain": [
       "True"
      ]
     },
     "execution_count": 38,
     "metadata": {},
     "output_type": "execute_result"
    }
   ],
   "source": [
    "nltk.download('punkt')"
   ]
  },
  {
   "cell_type": "code",
   "execution_count": 39,
   "metadata": {},
   "outputs": [
    {
     "name": "stderr",
     "output_type": "stream",
     "text": [
      "[nltk_data] Downloading package maxent_treebank_pos_tagger to\n",
      "[nltk_data]     C:\\Users\\Sanjana\\AppData\\Roaming\\nltk_data...\n",
      "[nltk_data]   Package maxent_treebank_pos_tagger is already up-to-\n",
      "[nltk_data]       date!\n"
     ]
    },
    {
     "data": {
      "text/plain": [
       "True"
      ]
     },
     "execution_count": 39,
     "metadata": {},
     "output_type": "execute_result"
    }
   ],
   "source": [
    "nltk.download('maxent_treebank_pos_tagger')"
   ]
  },
  {
   "cell_type": "code",
   "execution_count": 40,
   "metadata": {},
   "outputs": [
    {
     "name": "stderr",
     "output_type": "stream",
     "text": [
      "[nltk_data] Downloading package averaged_perceptron_tagger to\n",
      "[nltk_data]     C:\\Users\\Sanjana\\AppData\\Roaming\\nltk_data...\n",
      "[nltk_data]   Package averaged_perceptron_tagger is already up-to-\n",
      "[nltk_data]       date!\n"
     ]
    },
    {
     "data": {
      "text/plain": [
       "True"
      ]
     },
     "execution_count": 40,
     "metadata": {},
     "output_type": "execute_result"
    }
   ],
   "source": [
    "nltk.download('averaged_perceptron_tagger')"
   ]
  },
  {
   "cell_type": "code",
   "execution_count": 41,
   "metadata": {},
   "outputs": [],
   "source": [
    "nltk_pos_tagged = nltk.pos_tag(sentence.split())"
   ]
  },
  {
   "cell_type": "code",
   "execution_count": 42,
   "metadata": {},
   "outputs": [
    {
     "data": {
      "text/html": [
       "<div>\n",
       "<style scoped>\n",
       "    .dataframe tbody tr th:only-of-type {\n",
       "        vertical-align: middle;\n",
       "    }\n",
       "\n",
       "    .dataframe tbody tr th {\n",
       "        vertical-align: top;\n",
       "    }\n",
       "\n",
       "    .dataframe thead th {\n",
       "        text-align: right;\n",
       "    }\n",
       "</style>\n",
       "<table border=\"1\" class=\"dataframe\">\n",
       "  <thead>\n",
       "    <tr style=\"text-align: right;\">\n",
       "      <th></th>\n",
       "      <th>Word</th>\n",
       "      <th>POS tag</th>\n",
       "    </tr>\n",
       "  </thead>\n",
       "  <tbody>\n",
       "    <tr>\n",
       "      <th>0</th>\n",
       "      <td>I'm</td>\n",
       "      <td>NNP</td>\n",
       "    </tr>\n",
       "    <tr>\n",
       "      <th>1</th>\n",
       "      <td>fine</td>\n",
       "      <td>NN</td>\n",
       "    </tr>\n",
       "    <tr>\n",
       "      <th>2</th>\n",
       "      <td>with</td>\n",
       "      <td>IN</td>\n",
       "    </tr>\n",
       "    <tr>\n",
       "      <th>3</th>\n",
       "      <td>only</td>\n",
       "      <td>JJ</td>\n",
       "    </tr>\n",
       "    <tr>\n",
       "      <th>4</th>\n",
       "      <td>being</td>\n",
       "      <td>VBG</td>\n",
       "    </tr>\n",
       "    <tr>\n",
       "      <th>5</th>\n",
       "      <td>known</td>\n",
       "      <td>VBN</td>\n",
       "    </tr>\n",
       "    <tr>\n",
       "      <th>6</th>\n",
       "      <td>as</td>\n",
       "      <td>IN</td>\n",
       "    </tr>\n",
       "    <tr>\n",
       "      <th>7</th>\n",
       "      <td>Serena's</td>\n",
       "      <td>NNP</td>\n",
       "    </tr>\n",
       "    <tr>\n",
       "      <th>8</th>\n",
       "      <td>husband:</td>\n",
       "      <td>VBD</td>\n",
       "    </tr>\n",
       "    <tr>\n",
       "      <th>9</th>\n",
       "      <td>Reddit</td>\n",
       "      <td>NNP</td>\n",
       "    </tr>\n",
       "    <tr>\n",
       "      <th>10</th>\n",
       "      <td>Co-founder</td>\n",
       "      <td>NNP</td>\n",
       "    </tr>\n",
       "  </tbody>\n",
       "</table>\n",
       "</div>"
      ],
      "text/plain": [
       "          Word POS tag\n",
       "0          I'm     NNP\n",
       "1         fine      NN\n",
       "2         with      IN\n",
       "3         only      JJ\n",
       "4        being     VBG\n",
       "5        known     VBN\n",
       "6           as      IN\n",
       "7     Serena's     NNP\n",
       "8     husband:     VBD\n",
       "9       Reddit     NNP\n",
       "10  Co-founder     NNP"
      ]
     },
     "execution_count": 42,
     "metadata": {},
     "output_type": "execute_result"
    }
   ],
   "source": [
    "pd.DataFrame(nltk_pos_tagged, columns=['Word', 'POS tag'])"
   ]
  },
  {
   "cell_type": "markdown",
   "metadata": {},
   "source": [
    "# Named Entity Recognition"
   ]
  },
  {
   "cell_type": "code",
   "execution_count": 43,
   "metadata": {},
   "outputs": [],
   "source": [
    "sentence = str(news_df.iloc[1].full_text)"
   ]
  },
  {
   "cell_type": "code",
   "execution_count": 44,
   "metadata": {},
   "outputs": [
    {
     "data": {
      "text/plain": [
       "'I\\'m fine with only being known as Serena\\'s husband: Reddit Co-founder. Reddit Co-founder Alexis Ohanian said it\\'s \"fine\" for him to be only known as tennis player Serena Williams\\' husband. \"I\\'ll be a self-made billionaire one day and most people will still know me as Serena\\'s husband (or Olympia\\'s dad) and that\\'s fine by me,\" the 38-year-old tech entrepreneur tweeted. Alexis and Serena married in 2017 and have a daughter together.'"
      ]
     },
     "execution_count": 44,
     "metadata": {},
     "output_type": "execute_result"
    }
   ],
   "source": [
    "sentence"
   ]
  },
  {
   "cell_type": "code",
   "execution_count": 45,
   "metadata": {},
   "outputs": [],
   "source": [
    "sentence_nlp = nlp(sentence)"
   ]
  },
  {
   "cell_type": "code",
   "execution_count": 46,
   "metadata": {},
   "outputs": [
    {
     "data": {
      "text/plain": [
       "I'm fine with only being known as Serena's husband: Reddit Co-founder. Reddit Co-founder Alexis Ohanian said it's \"fine\" for him to be only known as tennis player Serena Williams' husband. \"I'll be a self-made billionaire one day and most people will still know me as Serena's husband (or Olympia's dad) and that's fine by me,\" the 38-year-old tech entrepreneur tweeted. Alexis and Serena married in 2017 and have a daughter together."
      ]
     },
     "execution_count": 46,
     "metadata": {},
     "output_type": "execute_result"
    }
   ],
   "source": [
    "sentence_nlp"
   ]
  },
  {
   "cell_type": "code",
   "execution_count": 47,
   "metadata": {},
   "outputs": [
    {
     "name": "stdout",
     "output_type": "stream",
     "text": [
      "[(Serena, 'PERSON'), (Reddit, 'PERSON'), (Co, 'PERSON'), (-, 'PERSON'), (founder, 'PERSON'), (Reddit, 'PERSON'), (Co, 'PERSON'), (-, 'PERSON'), (founder, 'PERSON'), (Alexis, 'PERSON'), (Ohanian, 'PERSON'), (Serena, 'PERSON'), (Williams, 'PERSON'), (', 'PERSON'), (one, 'DATE'), (day, 'DATE'), (Serena, 'PERSON'), (Olympia, 'PERSON'), (38, 'DATE'), (-, 'DATE'), (year, 'DATE'), (-, 'DATE'), (old, 'DATE'), (Serena, 'PERSON'), (2017, 'DATE')]\n"
     ]
    }
   ],
   "source": [
    "print([(word, word.ent_type_) for word in sentence_nlp if word.ent_type_])"
   ]
  },
  {
   "cell_type": "code",
   "execution_count": 48,
   "metadata": {},
   "outputs": [],
   "source": [
    "named_entities = []\n",
    "for sentence in corpus:\n",
    "    temp_entity_name = ''\n",
    "    temp_named_entity = None\n",
    "    sentence = nlp(sentence)\n",
    "    for word in sentence:\n",
    "        term = word.text \n",
    "        tag = word.ent_type_\n",
    "        if tag:\n",
    "            temp_entity_name = ' '.join([temp_entity_name, term]).strip()\n",
    "            temp_named_entity = (temp_entity_name, tag)\n",
    "        else:\n",
    "            if temp_named_entity:\n",
    "                named_entities.append(temp_named_entity)\n",
    "                temp_entity_name = ''\n",
    "                temp_named_entity = None\n",
    "\n",
    "entity_frame = pd.DataFrame(named_entities, \n",
    "                            columns=['Entity Name', 'Entity Type'])"
   ]
  },
  {
   "cell_type": "code",
   "execution_count": 49,
   "metadata": {},
   "outputs": [
    {
     "data": {
      "text/html": [
       "<div>\n",
       "<style scoped>\n",
       "    .dataframe tbody tr th:only-of-type {\n",
       "        vertical-align: middle;\n",
       "    }\n",
       "\n",
       "    .dataframe tbody tr th {\n",
       "        vertical-align: top;\n",
       "    }\n",
       "\n",
       "    .dataframe thead th {\n",
       "        text-align: right;\n",
       "    }\n",
       "</style>\n",
       "<table border=\"1\" class=\"dataframe\">\n",
       "  <thead>\n",
       "    <tr style=\"text-align: right;\">\n",
       "      <th></th>\n",
       "      <th>0</th>\n",
       "      <th>1</th>\n",
       "      <th>2</th>\n",
       "      <th>3</th>\n",
       "      <th>4</th>\n",
       "      <th>5</th>\n",
       "      <th>6</th>\n",
       "      <th>7</th>\n",
       "      <th>8</th>\n",
       "      <th>9</th>\n",
       "      <th>10</th>\n",
       "      <th>11</th>\n",
       "      <th>12</th>\n",
       "      <th>13</th>\n",
       "      <th>14</th>\n",
       "    </tr>\n",
       "  </thead>\n",
       "  <tbody>\n",
       "    <tr>\n",
       "      <th>Entity Name</th>\n",
       "      <td>India</td>\n",
       "      <td>first</td>\n",
       "      <td>COVID-19</td>\n",
       "      <td>China</td>\n",
       "      <td>four</td>\n",
       "      <td>US</td>\n",
       "      <td>NFT</td>\n",
       "      <td>KKR</td>\n",
       "      <td>Pakistan</td>\n",
       "      <td>Indian</td>\n",
       "      <td>Saturday</td>\n",
       "      <td>COVID-19</td>\n",
       "      <td>Sehwag</td>\n",
       "      <td>Sunday</td>\n",
       "      <td>Chinese</td>\n",
       "    </tr>\n",
       "    <tr>\n",
       "      <th>Entity Type</th>\n",
       "      <td>GPE</td>\n",
       "      <td>ORDINAL</td>\n",
       "      <td>PERSON</td>\n",
       "      <td>GPE</td>\n",
       "      <td>CARDINAL</td>\n",
       "      <td>GPE</td>\n",
       "      <td>ORG</td>\n",
       "      <td>ORG</td>\n",
       "      <td>GPE</td>\n",
       "      <td>NORP</td>\n",
       "      <td>DATE</td>\n",
       "      <td>PRODUCT</td>\n",
       "      <td>PERSON</td>\n",
       "      <td>DATE</td>\n",
       "      <td>NORP</td>\n",
       "    </tr>\n",
       "    <tr>\n",
       "      <th>Frequency</th>\n",
       "      <td>41</td>\n",
       "      <td>12</td>\n",
       "      <td>12</td>\n",
       "      <td>8</td>\n",
       "      <td>8</td>\n",
       "      <td>8</td>\n",
       "      <td>8</td>\n",
       "      <td>8</td>\n",
       "      <td>7</td>\n",
       "      <td>6</td>\n",
       "      <td>6</td>\n",
       "      <td>5</td>\n",
       "      <td>5</td>\n",
       "      <td>4</td>\n",
       "      <td>4</td>\n",
       "    </tr>\n",
       "  </tbody>\n",
       "</table>\n",
       "</div>"
      ],
      "text/plain": [
       "                 0        1         2      3         4    5    6    7  \\\n",
       "Entity Name  India    first  COVID-19  China      four   US  NFT  KKR   \n",
       "Entity Type    GPE  ORDINAL    PERSON    GPE  CARDINAL  GPE  ORG  ORG   \n",
       "Frequency       41       12        12      8         8    8    8    8   \n",
       "\n",
       "                    8       9        10        11      12      13       14  \n",
       "Entity Name  Pakistan  Indian  Saturday  COVID-19  Sehwag  Sunday  Chinese  \n",
       "Entity Type       GPE    NORP      DATE   PRODUCT  PERSON    DATE     NORP  \n",
       "Frequency           7       6         6         5       5       4        4  "
      ]
     },
     "execution_count": 49,
     "metadata": {},
     "output_type": "execute_result"
    }
   ],
   "source": [
    "top_entities = (entity_frame.groupby(by=['Entity Name', 'Entity Type'])\n",
    "                           .size()\n",
    "                           .sort_values(ascending=False)\n",
    "                           .reset_index().rename(columns={0 : 'Frequency'}))\n",
    "top_entities.T.iloc[:,:15]"
   ]
  },
  {
   "cell_type": "code",
   "execution_count": 50,
   "metadata": {},
   "outputs": [
    {
     "data": {
      "text/html": [
       "<div>\n",
       "<style scoped>\n",
       "    .dataframe tbody tr th:only-of-type {\n",
       "        vertical-align: middle;\n",
       "    }\n",
       "\n",
       "    .dataframe tbody tr th {\n",
       "        vertical-align: top;\n",
       "    }\n",
       "\n",
       "    .dataframe thead th {\n",
       "        text-align: right;\n",
       "    }\n",
       "</style>\n",
       "<table border=\"1\" class=\"dataframe\">\n",
       "  <thead>\n",
       "    <tr style=\"text-align: right;\">\n",
       "      <th></th>\n",
       "      <th>0</th>\n",
       "      <th>1</th>\n",
       "      <th>2</th>\n",
       "      <th>3</th>\n",
       "      <th>4</th>\n",
       "      <th>5</th>\n",
       "      <th>6</th>\n",
       "      <th>7</th>\n",
       "      <th>8</th>\n",
       "      <th>9</th>\n",
       "      <th>10</th>\n",
       "      <th>11</th>\n",
       "      <th>12</th>\n",
       "      <th>13</th>\n",
       "      <th>14</th>\n",
       "    </tr>\n",
       "  </thead>\n",
       "  <tbody>\n",
       "    <tr>\n",
       "      <th>Entity Type</th>\n",
       "      <td>PERSON</td>\n",
       "      <td>ORG</td>\n",
       "      <td>GPE</td>\n",
       "      <td>CARDINAL</td>\n",
       "      <td>DATE</td>\n",
       "      <td>NORP</td>\n",
       "      <td>ORDINAL</td>\n",
       "      <td>LOC</td>\n",
       "      <td>PRODUCT</td>\n",
       "      <td>WORK_OF_ART</td>\n",
       "      <td>TIME</td>\n",
       "      <td>PERCENT</td>\n",
       "      <td>QUANTITY</td>\n",
       "      <td>FAC</td>\n",
       "      <td>EVENT</td>\n",
       "    </tr>\n",
       "    <tr>\n",
       "      <th>Frequency</th>\n",
       "      <td>154</td>\n",
       "      <td>126</td>\n",
       "      <td>121</td>\n",
       "      <td>91</td>\n",
       "      <td>53</td>\n",
       "      <td>41</td>\n",
       "      <td>28</td>\n",
       "      <td>12</td>\n",
       "      <td>10</td>\n",
       "      <td>8</td>\n",
       "      <td>6</td>\n",
       "      <td>5</td>\n",
       "      <td>4</td>\n",
       "      <td>3</td>\n",
       "      <td>1</td>\n",
       "    </tr>\n",
       "  </tbody>\n",
       "</table>\n",
       "</div>"
      ],
      "text/plain": [
       "                  0    1    2         3     4     5        6    7        8  \\\n",
       "Entity Type  PERSON  ORG  GPE  CARDINAL  DATE  NORP  ORDINAL  LOC  PRODUCT   \n",
       "Frequency       154  126  121        91    53    41       28   12       10   \n",
       "\n",
       "                       9    10       11        12   13     14  \n",
       "Entity Type  WORK_OF_ART  TIME  PERCENT  QUANTITY  FAC  EVENT  \n",
       "Frequency              8     6        5         4    3      1  "
      ]
     },
     "execution_count": 50,
     "metadata": {},
     "output_type": "execute_result"
    }
   ],
   "source": [
    "top_entities = (entity_frame.groupby(by=['Entity Type'])\n",
    "                           .size()\n",
    "                           .sort_values(ascending=False)\n",
    "                           .reset_index().rename(columns={0 : 'Frequency'}))\n",
    "top_entities.T.iloc[:,:15]"
   ]
  },
  {
   "cell_type": "markdown",
   "metadata": {},
   "source": [
    "# Emotion and Sentiment Analysis"
   ]
  },
  {
   "cell_type": "code",
   "execution_count": 51,
   "metadata": {},
   "outputs": [],
   "source": [
    "#!pip install afinn\n",
    "from afinn import Afinn"
   ]
  },
  {
   "cell_type": "code",
   "execution_count": 52,
   "metadata": {},
   "outputs": [],
   "source": [
    "af = Afinn()"
   ]
  },
  {
   "cell_type": "code",
   "execution_count": 53,
   "metadata": {},
   "outputs": [],
   "source": [
    "sentiment_scores = [af.score(article) for article in corpus]"
   ]
  },
  {
   "cell_type": "code",
   "execution_count": 54,
   "metadata": {},
   "outputs": [],
   "source": [
    "sentiment_category = ['positive' if score > 0 \n",
    "                          else 'negative' if score < 0 \n",
    "                              else 'neutral' \n",
    "                                  for score in sentiment_scores]"
   ]
  },
  {
   "cell_type": "code",
   "execution_count": 55,
   "metadata": {},
   "outputs": [],
   "source": [
    "df = pd.DataFrame([list(news_df['news_category']), sentiment_scores, sentiment_category]).T"
   ]
  },
  {
   "cell_type": "code",
   "execution_count": 56,
   "metadata": {},
   "outputs": [],
   "source": [
    "df.columns = ['news_category', 'sentiment_score', 'sentiment_category']"
   ]
  },
  {
   "cell_type": "code",
   "execution_count": 57,
   "metadata": {},
   "outputs": [],
   "source": [
    "df['sentiment_score'] = df.sentiment_score.astype('float')"
   ]
  },
  {
   "cell_type": "code",
   "execution_count": 58,
   "metadata": {},
   "outputs": [
    {
     "data": {
      "text/html": [
       "<div>\n",
       "<style scoped>\n",
       "    .dataframe tbody tr th:only-of-type {\n",
       "        vertical-align: middle;\n",
       "    }\n",
       "\n",
       "    .dataframe tbody tr th {\n",
       "        vertical-align: top;\n",
       "    }\n",
       "\n",
       "    .dataframe thead tr th {\n",
       "        text-align: left;\n",
       "    }\n",
       "\n",
       "    .dataframe thead tr:last-of-type th {\n",
       "        text-align: right;\n",
       "    }\n",
       "</style>\n",
       "<table border=\"1\" class=\"dataframe\">\n",
       "  <thead>\n",
       "    <tr>\n",
       "      <th></th>\n",
       "      <th colspan=\"8\" halign=\"left\">sentiment_score</th>\n",
       "    </tr>\n",
       "    <tr>\n",
       "      <th></th>\n",
       "      <th>count</th>\n",
       "      <th>mean</th>\n",
       "      <th>std</th>\n",
       "      <th>min</th>\n",
       "      <th>25%</th>\n",
       "      <th>50%</th>\n",
       "      <th>75%</th>\n",
       "      <th>max</th>\n",
       "    </tr>\n",
       "    <tr>\n",
       "      <th>news_category</th>\n",
       "      <th></th>\n",
       "      <th></th>\n",
       "      <th></th>\n",
       "      <th></th>\n",
       "      <th></th>\n",
       "      <th></th>\n",
       "      <th></th>\n",
       "      <th></th>\n",
       "    </tr>\n",
       "  </thead>\n",
       "  <tbody>\n",
       "    <tr>\n",
       "      <th>sports</th>\n",
       "      <td>25.0</td>\n",
       "      <td>0.64</td>\n",
       "      <td>6.454198</td>\n",
       "      <td>-10.0</td>\n",
       "      <td>-5.0</td>\n",
       "      <td>0.0</td>\n",
       "      <td>5.0</td>\n",
       "      <td>18.0</td>\n",
       "    </tr>\n",
       "    <tr>\n",
       "      <th>technology</th>\n",
       "      <td>25.0</td>\n",
       "      <td>-0.28</td>\n",
       "      <td>5.111425</td>\n",
       "      <td>-11.0</td>\n",
       "      <td>-2.0</td>\n",
       "      <td>-1.0</td>\n",
       "      <td>3.0</td>\n",
       "      <td>9.0</td>\n",
       "    </tr>\n",
       "    <tr>\n",
       "      <th>world</th>\n",
       "      <td>25.0</td>\n",
       "      <td>-5.68</td>\n",
       "      <td>7.098826</td>\n",
       "      <td>-20.0</td>\n",
       "      <td>-10.0</td>\n",
       "      <td>-5.0</td>\n",
       "      <td>0.0</td>\n",
       "      <td>5.0</td>\n",
       "    </tr>\n",
       "  </tbody>\n",
       "</table>\n",
       "</div>"
      ],
      "text/plain": [
       "              sentiment_score                                            \n",
       "                        count  mean       std   min   25%  50%  75%   max\n",
       "news_category                                                            \n",
       "sports                   25.0  0.64  6.454198 -10.0  -5.0  0.0  5.0  18.0\n",
       "technology               25.0 -0.28  5.111425 -11.0  -2.0 -1.0  3.0   9.0\n",
       "world                    25.0 -5.68  7.098826 -20.0 -10.0 -5.0  0.0   5.0"
      ]
     },
     "execution_count": 58,
     "metadata": {},
     "output_type": "execute_result"
    }
   ],
   "source": [
    "df.groupby(by=['news_category']).describe()"
   ]
  },
  {
   "cell_type": "code",
   "execution_count": 59,
   "metadata": {},
   "outputs": [
    {
     "data": {
      "image/png": "[encoded data removed]",
      "text/plain": [
       "<Figure size 1008x288 with 2 Axes>"
      ]
     },
     "metadata": {
      "needs_background": "light"
     },
     "output_type": "display_data"
    }
   ],
   "source": [
    "f, (ax1, ax2) = plt.subplots(1, 2, figsize=(14, 4))\n",
    "sp = sns.stripplot(x='news_category', y=\"sentiment_score\",  hue='news_category', data=df, ax=ax1)\n",
    "bp = sns.boxplot(x='news_category', y=\"sentiment_score\", hue='news_category', data=df, palette=\"Set2\", ax=ax2)\n",
    "t = f.suptitle('Visualizing News Sentiment', fontsize=14)"
   ]
  },
  {
   "cell_type": "code",
   "execution_count": 60,
   "metadata": {},
   "outputs": [
    {
     "name": "stderr",
     "output_type": "stream",
     "text": [
      "C:\\Users\\Sanjana\\anaconda3\\lib\\site-packages\\seaborn\\categorical.py:3704: UserWarning: The `factorplot` function has been renamed to `catplot`. The original name will be removed in a future release. Please update your code. Note that the default `kind` in `factorplot` (`'point'`) has changed `'strip'` in `catplot`.\n",
      "  warnings.warn(msg)\n"
     ]
    },
    {
     "data": {
      "image/png": "[encoded data removed]",
      "text/plain": [
       "<Figure size 467.5x360 with 1 Axes>"
      ]
     },
     "metadata": {
      "needs_background": "light"
     },
     "output_type": "display_data"
    }
   ],
   "source": [
    "fc = sns.factorplot(x=\"news_category\", hue=\"sentiment_category\", \n",
    "                    data=df, kind=\"count\", \n",
    "                    palette={\"negative\": \"#FE2020\", \n",
    "                             \"positive\": \"#BADD07\", \n",
    "                             \"neutral\": \"#68BFF5\"})"
   ]
  },
  {
   "cell_type": "code",
   "execution_count": 61,
   "metadata": {},
   "outputs": [],
   "source": [
    "pos_idx = df[(df.news_category=='technology') & (df.sentiment_score == 2)].index[0]"
   ]
  },
  {
   "cell_type": "code",
   "execution_count": 62,
   "metadata": {},
   "outputs": [],
   "source": [
    "neg_idx = df[(df.news_category=='technology') & (df.sentiment_score == -2)].index[0]"
   ]
  },
  {
   "cell_type": "code",
   "execution_count": 63,
   "metadata": {},
   "outputs": [
    {
     "name": "stdout",
     "output_type": "stream",
     "text": [
      "Most Negative Tech News Article: Facebook's CEO Mark Zuckerberg posted on Facebook that he's lost 4.5 kg because he forgot to eat meals due to the excitement over his work. His father Edward Zuckerberg in a comment asked, \"Do you need Mom and I to deliver meals?\" The response went viral with one user commenting, \"That's what most Indian parents do and I love it.\"\n",
      "\n",
      "Most Positive Tech News Article: Apple has said that it is starting a programme to help employees get voluntary COVID-19 vaccinations at its offices. It is working with drugstore chain Walgreens Boots Alliance as its vendor and will open a website for its employees to sign up for appointments. The programme doesn't require an immediate return of the employees to the offices.\n",
      " \n",
      "\n"
     ]
    }
   ],
   "source": [
    "print('Most Negative Tech News Article:', news_df.iloc[neg_idx][['news_article']][0])\n",
    "print()\n",
    "print('Most Positive Tech News Article:', news_df.iloc[pos_idx][['news_article']][0])"
   ]
  },
  {
   "cell_type": "code",
   "execution_count": 64,
   "metadata": {},
   "outputs": [
    {
     "data": {
      "text/plain": [
       "array([-15.,  -2.,  -9.,   3., -18.,  -4., -12., -14.,   2.,  -1.,   5.,\n",
       "         0.,  -5., -10., -20.,   4.,  -7.,  -8.])"
      ]
     },
     "execution_count": 64,
     "metadata": {},
     "output_type": "execute_result"
    }
   ],
   "source": [
    "df1 = df[df.news_category=='world']\n",
    "pd.unique(df1.sentiment_score)"
   ]
  },
  {
   "cell_type": "code",
   "execution_count": 65,
   "metadata": {},
   "outputs": [
    {
     "name": "stdout",
     "output_type": "stream",
     "text": [
      "Most Negative World News Article: The United States is \"deeply concerned by the severe COVID-19 outbreak in India\", White House National Security Advisor Jake Sullivan said on Sunday. \"We are working round the clock to deploy more supplies and support to our friends and partners in India as they bravely battle this pandemic,\" said Sullivan.\n",
      "\n",
      "Most Positive World News Article: Joe Biden has become the first US President to recognise the massacres of an estimated 15 lakh Armenians under the Ottoman Empire during WWI as genocide. Biden's move is being welcomed by Armenians with \"great enthusiasm\", Armenia's PM Nikol Pashinyan said. Turkish Foreign Minister Mevlüt Çavuşoğlu said that Turkey \"entirely rejects\" the US decision which is based \"solely on populism\".\n"
     ]
    }
   ],
   "source": [
    "pos_idx = df[(df.news_category=='world') & (df.sentiment_score == 4)].index[0]\n",
    "neg_idx = df[(df.news_category=='world') & (df.sentiment_score == -4.)].index[0]\n",
    "\n",
    "print('Most Negative World News Article:', news_df.iloc[neg_idx][['news_article']][0])\n",
    "print()\n",
    "print('Most Positive World News Article:', news_df.iloc[pos_idx][['news_article']][0])"
   ]
  },
  {
   "cell_type": "code",
   "execution_count": 66,
   "metadata": {},
   "outputs": [],
   "source": [
    "from textblob import TextBlob"
   ]
  },
  {
   "cell_type": "code",
   "execution_count": 67,
   "metadata": {},
   "outputs": [],
   "source": [
    "sentiment_scores_tb = [round(TextBlob(article).sentiment.polarity, 3) for article in news_df['clean_text']]"
   ]
  },
  {
   "cell_type": "code",
   "execution_count": 68,
   "metadata": {},
   "outputs": [],
   "source": [
    "sentiment_category_tb = ['positive' if score > 0 \n",
    "                             else 'negative' if score < 0 \n",
    "                                 else 'neutral' \n",
    "                                     for score in sentiment_scores_tb]"
   ]
  },
  {
   "cell_type": "code",
   "execution_count": 69,
   "metadata": {},
   "outputs": [
    {
     "data": {
      "text/html": [
       "<div>\n",
       "<style scoped>\n",
       "    .dataframe tbody tr th:only-of-type {\n",
       "        vertical-align: middle;\n",
       "    }\n",
       "\n",
       "    .dataframe tbody tr th {\n",
       "        vertical-align: top;\n",
       "    }\n",
       "\n",
       "    .dataframe thead tr th {\n",
       "        text-align: left;\n",
       "    }\n",
       "\n",
       "    .dataframe thead tr:last-of-type th {\n",
       "        text-align: right;\n",
       "    }\n",
       "</style>\n",
       "<table border=\"1\" class=\"dataframe\">\n",
       "  <thead>\n",
       "    <tr>\n",
       "      <th></th>\n",
       "      <th colspan=\"8\" halign=\"left\">sentiment_score</th>\n",
       "    </tr>\n",
       "    <tr>\n",
       "      <th></th>\n",
       "      <th>count</th>\n",
       "      <th>mean</th>\n",
       "      <th>std</th>\n",
       "      <th>min</th>\n",
       "      <th>25%</th>\n",
       "      <th>50%</th>\n",
       "      <th>75%</th>\n",
       "      <th>max</th>\n",
       "    </tr>\n",
       "    <tr>\n",
       "      <th>news_category</th>\n",
       "      <th></th>\n",
       "      <th></th>\n",
       "      <th></th>\n",
       "      <th></th>\n",
       "      <th></th>\n",
       "      <th></th>\n",
       "      <th></th>\n",
       "      <th></th>\n",
       "    </tr>\n",
       "  </thead>\n",
       "  <tbody>\n",
       "    <tr>\n",
       "      <th>sports</th>\n",
       "      <td>25.0</td>\n",
       "      <td>0.10668</td>\n",
       "      <td>0.189826</td>\n",
       "      <td>-0.287</td>\n",
       "      <td>-0.012</td>\n",
       "      <td>0.100</td>\n",
       "      <td>0.228</td>\n",
       "      <td>0.5</td>\n",
       "    </tr>\n",
       "    <tr>\n",
       "      <th>technology</th>\n",
       "      <td>25.0</td>\n",
       "      <td>0.06200</td>\n",
       "      <td>0.177411</td>\n",
       "      <td>-0.267</td>\n",
       "      <td>-0.029</td>\n",
       "      <td>0.000</td>\n",
       "      <td>0.188</td>\n",
       "      <td>0.4</td>\n",
       "    </tr>\n",
       "    <tr>\n",
       "      <th>world</th>\n",
       "      <td>25.0</td>\n",
       "      <td>-0.02928</td>\n",
       "      <td>0.275397</td>\n",
       "      <td>-1.000</td>\n",
       "      <td>-0.100</td>\n",
       "      <td>0.034</td>\n",
       "      <td>0.140</td>\n",
       "      <td>0.3</td>\n",
       "    </tr>\n",
       "  </tbody>\n",
       "</table>\n",
       "</div>"
      ],
      "text/plain": [
       "              sentiment_score                                                 \\\n",
       "                        count     mean       std    min    25%    50%    75%   \n",
       "news_category                                                                  \n",
       "sports                   25.0  0.10668  0.189826 -0.287 -0.012  0.100  0.228   \n",
       "technology               25.0  0.06200  0.177411 -0.267 -0.029  0.000  0.188   \n",
       "world                    25.0 -0.02928  0.275397 -1.000 -0.100  0.034  0.140   \n",
       "\n",
       "                    \n",
       "               max  \n",
       "news_category       \n",
       "sports         0.5  \n",
       "technology     0.4  \n",
       "world          0.3  "
      ]
     },
     "execution_count": 69,
     "metadata": {},
     "output_type": "execute_result"
    }
   ],
   "source": [
    "df = pd.DataFrame([list(news_df['news_category']), sentiment_scores_tb, sentiment_category_tb]).T\n",
    "df.columns = ['news_category', 'sentiment_score', 'sentiment_category']\n",
    "df['sentiment_score'] = df.sentiment_score.astype('float')\n",
    "df.groupby(by=['news_category']).describe()"
   ]
  },
  {
   "cell_type": "code",
   "execution_count": 70,
   "metadata": {},
   "outputs": [
    {
     "data": {
      "text/html": [
       "<div>\n",
       "<style scoped>\n",
       "    .dataframe tbody tr th:only-of-type {\n",
       "        vertical-align: middle;\n",
       "    }\n",
       "\n",
       "    .dataframe tbody tr th {\n",
       "        vertical-align: top;\n",
       "    }\n",
       "\n",
       "    .dataframe thead th {\n",
       "        text-align: right;\n",
       "    }\n",
       "</style>\n",
       "<table border=\"1\" class=\"dataframe\">\n",
       "  <thead>\n",
       "    <tr style=\"text-align: right;\">\n",
       "      <th></th>\n",
       "      <th>news_category</th>\n",
       "      <th>sentiment_score</th>\n",
       "      <th>sentiment_category</th>\n",
       "    </tr>\n",
       "  </thead>\n",
       "  <tbody>\n",
       "    <tr>\n",
       "      <th>0</th>\n",
       "      <td>technology</td>\n",
       "      <td>-0.030</td>\n",
       "      <td>negative</td>\n",
       "    </tr>\n",
       "    <tr>\n",
       "      <th>1</th>\n",
       "      <td>technology</td>\n",
       "      <td>0.338</td>\n",
       "      <td>positive</td>\n",
       "    </tr>\n",
       "    <tr>\n",
       "      <th>2</th>\n",
       "      <td>technology</td>\n",
       "      <td>0.027</td>\n",
       "      <td>positive</td>\n",
       "    </tr>\n",
       "    <tr>\n",
       "      <th>3</th>\n",
       "      <td>technology</td>\n",
       "      <td>0.100</td>\n",
       "      <td>positive</td>\n",
       "    </tr>\n",
       "    <tr>\n",
       "      <th>4</th>\n",
       "      <td>technology</td>\n",
       "      <td>0.188</td>\n",
       "      <td>positive</td>\n",
       "    </tr>\n",
       "  </tbody>\n",
       "</table>\n",
       "</div>"
      ],
      "text/plain": [
       "  news_category  sentiment_score sentiment_category\n",
       "0    technology           -0.030           negative\n",
       "1    technology            0.338           positive\n",
       "2    technology            0.027           positive\n",
       "3    technology            0.100           positive\n",
       "4    technology            0.188           positive"
      ]
     },
     "execution_count": 70,
     "metadata": {},
     "output_type": "execute_result"
    }
   ],
   "source": [
    "df.head()"
   ]
  },
  {
   "cell_type": "code",
   "execution_count": 71,
   "metadata": {},
   "outputs": [
    {
     "name": "stderr",
     "output_type": "stream",
     "text": [
      "C:\\Users\\Sanjana\\anaconda3\\lib\\site-packages\\seaborn\\categorical.py:3704: UserWarning: The `factorplot` function has been renamed to `catplot`. The original name will be removed in a future release. Please update your code. Note that the default `kind` in `factorplot` (`'point'`) has changed `'strip'` in `catplot`.\n",
      "  warnings.warn(msg)\n"
     ]
    },
    {
     "data": {
      "image/png": "[encoded data removed]",
      "text/plain": [
       "<Figure size 467.5x360 with 1 Axes>"
      ]
     },
     "metadata": {
      "needs_background": "light"
     },
     "output_type": "display_data"
    }
   ],
   "source": [
    "fc = sns.factorplot(x=\"news_category\", hue=\"sentiment_category\", \n",
    "                    data=df, kind=\"count\", \n",
    "                    palette={\"negative\": \"#FE2020\", \n",
    "                             \"positive\": \"#BADD07\", \n",
    "                             \"neutral\": \"#68BFF5\"})"
   ]
  },
  {
   "cell_type": "code",
   "execution_count": 72,
   "metadata": {},
   "outputs": [
    {
     "name": "stdout",
     "output_type": "stream",
     "text": [
      "Most Negative World News Article: A man in Spain's Mallorca has been arrested after infecting 22 people with COVID-19. The man allegedly went to work and gym with 104-degree fever while waiting for his coronavirus test result. He even walked around his workplace, saying, \"I am going to infect you all with coronavirus.\" Three of the 22 people he infected were babies.\n",
      "\n",
      "Most Positive World News Article: Swedish climate activist Greta Thunberg on Saturday said, \"Heartbreaking to follow the recent developments in India. The global community must step up and immediately offer the assistance needed.\" She tweeted a news report about India's ongoing COVID-19 crisis, wherein the video shows COVID-19 patients lying on stretchers outside hospital and many waiting for medical oxygen.\n"
     ]
    }
   ],
   "source": [
    "pos_idx = df[(df.news_category=='world') & (df.sentiment_score > 0.)].index[0]\n",
    "neg_idx = df[(df.news_category=='world') & (df.sentiment_score < -0.)].index[0]\n",
    "\n",
    "print('Most Negative World News Article:', news_df.iloc[neg_idx][['news_article']][0])\n",
    "print()\n",
    "print('Most Positive World News Article:', news_df.iloc[pos_idx][['news_article']][0])"
   ]
  },
  {
   "cell_type": "code",
   "execution_count": 73,
   "metadata": {},
   "outputs": [
    {
     "name": "stdout",
     "output_type": "stream",
     "text": [
      "                 Predicted:                 \n",
      "                   negative neutral positive\n",
      "Actual: negative         19       5       17\n",
      "        neutral           2       1        4\n",
      "        positive          6       1       20\n"
     ]
    },
    {
     "name": "stderr",
     "output_type": "stream",
     "text": [
      "C:\\Users\\Sanjana\\Downloads\\Residency\\NLP_Artifacts\\NLP_Artifacts\\model_evaluation_utils.py:61: FutureWarning: the 'labels' keyword is deprecated, use 'codes' instead\n",
      "  columns=pd.MultiIndex(levels=[['Predicted:'], classes],\n",
      "C:\\Users\\Sanjana\\Downloads\\Residency\\NLP_Artifacts\\NLP_Artifacts\\model_evaluation_utils.py:63: FutureWarning: the 'labels' keyword is deprecated, use 'codes' instead\n",
      "  index=pd.MultiIndex(levels=[['Actual:'], classes],\n"
     ]
    }
   ],
   "source": [
    "#install model_evaluation_utils using model_evaluation_utils.py link:- notebooks/Ch05_Building_Tuning_and_Deploying_Models/model_evaluation_utils.py\n",
    "import model_evaluation_utils as meu\n",
    "meu.display_confusion_matrix(true_labels=sentiment_category, \n",
    "                                    predicted_labels=sentiment_category_tb, \n",
    "                                    classes=['negative', 'neutral', 'positive'])"
   ]
  },
  {
   "cell_type": "code",
   "execution_count": null,
   "metadata": {},
   "outputs": [],
   "source": []
  }
 ],
 "metadata": {
  "anaconda-cloud": {},
  "kernelspec": {
   "display_name": "Python 3",
   "language": "python",
   "name": "python3"
  },
  "language_info": {
   "codemirror_mode": {
    "name": "ipython",
    "version": 3
   },
   "file_extension": ".py",
   "mimetype": "text/x-python",
   "name": "python",
   "nbconvert_exporter": "python",
   "pygments_lexer": "ipython3",
   "version": "3.8.5"
  }
 },
 "nbformat": 4,
 "nbformat_minor": 2
}
