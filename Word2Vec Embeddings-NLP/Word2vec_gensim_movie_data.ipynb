{
 "cells": [
  {
   "cell_type": "markdown",
   "metadata": {
    "colab_type": "text",
    "id": "C2WAFZueaivk"
   },
   "source": [
    "### Load Gensim Library"
   ]
  },
  {
   "cell_type": "code",
   "execution_count": 1,
   "metadata": {
    "colab": {
     "base_uri": "https://localhost:8080/",
     "height": 326
    },
    "colab_type": "code",
    "executionInfo": {
     "elapsed": 6809,
     "status": "ok",
     "timestamp": 1575679076699,
     "user": {
      "displayName": "D. Narayana",
      "photoUrl": "",
      "userId": "17572554762277395202"
     },
     "user_tz": -330
    },
    "id": "WWg3i_ryddsA",
    "outputId": "0a78216c-d84e-4baa-94c3-ab210cd6525d"
   },
   "outputs": [],
   "source": [
    "#!pip install gensim"
   ]
  },
  {
   "cell_type": "code",
   "execution_count": 2,
   "metadata": {
    "colab": {},
    "colab_type": "code",
    "id": "iSrla7q8aivn"
   },
   "outputs": [
    {
     "name": "stderr",
     "output_type": "stream",
     "text": [
      "C:\\Users\\Sanjana\\anaconda3\\lib\\site-packages\\gensim\\similarities\\__init__.py:15: UserWarning: The gensim.similarities.levenshtein submodule is disabled, because the optional Levenshtein package <https://pypi.org/project/python-Levenshtein/> is unavailable. Install Levenhstein (e.g. `pip install python-Levenshtein`) to suppress this warning.\n",
      "  warnings.warn(msg)\n"
     ]
    }
   ],
   "source": [
    "import gensim"
   ]
  },
  {
   "cell_type": "code",
   "execution_count": 3,
   "metadata": {
    "colab": {},
    "colab_type": "code",
    "id": "D6HqQQL4aivq"
   },
   "outputs": [],
   "source": [
    "import logging\n",
    "logging.basicConfig(format='%(asctime)s : %(levelname)s : %(message)s', \n",
    "                    level=logging.INFO)"
   ]
  },
  {
   "cell_type": "code",
   "execution_count": 4,
   "metadata": {
    "colab": {
     "base_uri": "https://localhost:8080/",
     "height": 34
    },
    "colab_type": "code",
    "executionInfo": {
     "elapsed": 3477,
     "status": "ok",
     "timestamp": 1575679184169,
     "user": {
      "displayName": "D. Narayana",
      "photoUrl": "",
      "userId": "17572554762277395202"
     },
     "user_tz": -330
    },
    "id": "T0LeRKkvePqI",
    "outputId": "0346955e-0174-490f-db1b-09892e20a748"
   },
   "outputs": [
    {
     "name": "stderr",
     "output_type": "stream",
     "text": [
      "'ls' is not recognized as an internal or external command,\n",
      "operable program or batch file.\n"
     ]
    }
   ],
   "source": [
    "!ls"
   ]
  },
  {
   "cell_type": "markdown",
   "metadata": {
    "colab_type": "text",
    "id": "rOTbE9ZPaivu"
   },
   "source": [
    "### Load Text Data\n",
    "\n",
    "Data can be downloaded from https://www.kaggle.com/c/word2vec-nlp-tutorial/data"
   ]
  },
  {
   "cell_type": "code",
   "execution_count": 5,
   "metadata": {
    "colab": {
     "base_uri": "https://localhost:8080/",
     "height": 221
    },
    "colab_type": "code",
    "executionInfo": {
     "elapsed": 3557,
     "status": "ok",
     "timestamp": 1575679330844,
     "user": {
      "displayName": "D. Narayana",
      "photoUrl": "",
      "userId": "17572554762277395202"
     },
     "user_tz": -330
    },
    "id": "sxDRNQv9aivw",
    "outputId": "c5e8f654-07f7-4bf8-8b29-259ad8cb75dc"
   },
   "outputs": [
    {
     "name": "stdout",
     "output_type": "stream",
     "text": [
      "Number of examples in Dataset:  (50000, 2)\n"
     ]
    },
    {
     "data": {
      "text/html": [
       "<div>\n",
       "<style scoped>\n",
       "    .dataframe tbody tr th:only-of-type {\n",
       "        vertical-align: middle;\n",
       "    }\n",
       "\n",
       "    .dataframe tbody tr th {\n",
       "        vertical-align: top;\n",
       "    }\n",
       "\n",
       "    .dataframe thead th {\n",
       "        text-align: right;\n",
       "    }\n",
       "</style>\n",
       "<table border=\"1\" class=\"dataframe\">\n",
       "  <thead>\n",
       "    <tr style=\"text-align: right;\">\n",
       "      <th></th>\n",
       "      <th>id</th>\n",
       "      <th>review</th>\n",
       "    </tr>\n",
       "  </thead>\n",
       "  <tbody>\n",
       "    <tr>\n",
       "      <th>0</th>\n",
       "      <td>\"9999_0\"</td>\n",
       "      <td>\"Watching Time Chasers, it obvious that it was...</td>\n",
       "    </tr>\n",
       "    <tr>\n",
       "      <th>1</th>\n",
       "      <td>\"45057_0\"</td>\n",
       "      <td>\"I saw this film about 20 years ago and rememb...</td>\n",
       "    </tr>\n",
       "    <tr>\n",
       "      <th>2</th>\n",
       "      <td>\"15561_0\"</td>\n",
       "      <td>\"Minor Spoilers&lt;br /&gt;&lt;br /&gt;In New York, Joan B...</td>\n",
       "    </tr>\n",
       "    <tr>\n",
       "      <th>3</th>\n",
       "      <td>\"7161_0\"</td>\n",
       "      <td>\"I went to see this film with a great deal of ...</td>\n",
       "    </tr>\n",
       "    <tr>\n",
       "      <th>4</th>\n",
       "      <td>\"43971_0\"</td>\n",
       "      <td>\"Yes, I agree with everyone on this site this ...</td>\n",
       "    </tr>\n",
       "  </tbody>\n",
       "</table>\n",
       "</div>"
      ],
      "text/plain": [
       "          id                                             review\n",
       "0   \"9999_0\"  \"Watching Time Chasers, it obvious that it was...\n",
       "1  \"45057_0\"  \"I saw this film about 20 years ago and rememb...\n",
       "2  \"15561_0\"  \"Minor Spoilers<br /><br />In New York, Joan B...\n",
       "3   \"7161_0\"  \"I went to see this film with a great deal of ...\n",
       "4  \"43971_0\"  \"Yes, I agree with everyone on this site this ..."
      ]
     },
     "execution_count": 5,
     "metadata": {},
     "output_type": "execute_result"
    }
   ],
   "source": [
    "import pandas as pd\n",
    "\n",
    "#change file path to point to where you have stored the zip file.\n",
    "df = pd.read_csv('unlabeledTrainData.tsv', header=0, delimiter=\"\\t\", quoting=3)\n",
    "\n",
    "print('Number of examples in Dataset: ', df.shape)\n",
    "df.head()"
   ]
  },
  {
   "cell_type": "markdown",
   "metadata": {
    "colab_type": "text",
    "id": "j1DHNFNsaivy"
   },
   "source": [
    "### Function to Clean up data"
   ]
  },
  {
   "cell_type": "code",
   "execution_count": 6,
   "metadata": {
    "colab": {},
    "colab_type": "code",
    "id": "PJf9rUeLaiv0"
   },
   "outputs": [],
   "source": [
    "import re, string\n",
    "\n",
    "def clean_str(string):\n",
    "  \"\"\"\n",
    "  String cleaning before vectorization\n",
    "  \"\"\"\n",
    "  try:    \n",
    "    string = re.sub(r'^https?:\\/\\/<>.*[\\r\\n]*', '', string, flags=re.MULTILINE)\n",
    "    string = re.sub(r\"[^A-Za-z]\", \" \", string)         \n",
    "    words = string.strip().lower().split()    \n",
    "    words = [w for w in words if len(w)>=1]\n",
    "    return \" \".join(words)\t\n",
    "  except:\n",
    "    return \"\""
   ]
  },
  {
   "cell_type": "markdown",
   "metadata": {
    "colab_type": "text",
    "id": "ON-JT9fPaiv2"
   },
   "source": [
    "### Clean the Data using routine above"
   ]
  },
  {
   "cell_type": "code",
   "execution_count": 7,
   "metadata": {
    "colab": {
     "base_uri": "https://localhost:8080/",
     "height": 204
    },
    "colab_type": "code",
    "executionInfo": {
     "elapsed": 6338,
     "status": "ok",
     "timestamp": 1575679501412,
     "user": {
      "displayName": "D. Narayana",
      "photoUrl": "",
      "userId": "17572554762277395202"
     },
     "user_tz": -330
    },
    "id": "iVOxnQg3aiv4",
    "outputId": "b454f9b8-65fd-4261-9d98-371ba85cc0c2",
    "scrolled": true
   },
   "outputs": [
    {
     "data": {
      "text/html": [
       "<div>\n",
       "<style scoped>\n",
       "    .dataframe tbody tr th:only-of-type {\n",
       "        vertical-align: middle;\n",
       "    }\n",
       "\n",
       "    .dataframe tbody tr th {\n",
       "        vertical-align: top;\n",
       "    }\n",
       "\n",
       "    .dataframe thead th {\n",
       "        text-align: right;\n",
       "    }\n",
       "</style>\n",
       "<table border=\"1\" class=\"dataframe\">\n",
       "  <thead>\n",
       "    <tr style=\"text-align: right;\">\n",
       "      <th></th>\n",
       "      <th>id</th>\n",
       "      <th>review</th>\n",
       "      <th>clean_review</th>\n",
       "    </tr>\n",
       "  </thead>\n",
       "  <tbody>\n",
       "    <tr>\n",
       "      <th>0</th>\n",
       "      <td>\"9999_0\"</td>\n",
       "      <td>\"Watching Time Chasers, it obvious that it was...</td>\n",
       "      <td>watching time chasers it obvious that it was m...</td>\n",
       "    </tr>\n",
       "    <tr>\n",
       "      <th>1</th>\n",
       "      <td>\"45057_0\"</td>\n",
       "      <td>\"I saw this film about 20 years ago and rememb...</td>\n",
       "      <td>i saw this film about years ago and remember i...</td>\n",
       "    </tr>\n",
       "    <tr>\n",
       "      <th>2</th>\n",
       "      <td>\"15561_0\"</td>\n",
       "      <td>\"Minor Spoilers&lt;br /&gt;&lt;br /&gt;In New York, Joan B...</td>\n",
       "      <td>minor spoilers br br in new york joan barnard ...</td>\n",
       "    </tr>\n",
       "    <tr>\n",
       "      <th>3</th>\n",
       "      <td>\"7161_0\"</td>\n",
       "      <td>\"I went to see this film with a great deal of ...</td>\n",
       "      <td>i went to see this film with a great deal of e...</td>\n",
       "    </tr>\n",
       "    <tr>\n",
       "      <th>4</th>\n",
       "      <td>\"43971_0\"</td>\n",
       "      <td>\"Yes, I agree with everyone on this site this ...</td>\n",
       "      <td>yes i agree with everyone on this site this mo...</td>\n",
       "    </tr>\n",
       "  </tbody>\n",
       "</table>\n",
       "</div>"
      ],
      "text/plain": [
       "          id                                             review  \\\n",
       "0   \"9999_0\"  \"Watching Time Chasers, it obvious that it was...   \n",
       "1  \"45057_0\"  \"I saw this film about 20 years ago and rememb...   \n",
       "2  \"15561_0\"  \"Minor Spoilers<br /><br />In New York, Joan B...   \n",
       "3   \"7161_0\"  \"I went to see this film with a great deal of ...   \n",
       "4  \"43971_0\"  \"Yes, I agree with everyone on this site this ...   \n",
       "\n",
       "                                        clean_review  \n",
       "0  watching time chasers it obvious that it was m...  \n",
       "1  i saw this film about years ago and remember i...  \n",
       "2  minor spoilers br br in new york joan barnard ...  \n",
       "3  i went to see this film with a great deal of e...  \n",
       "4  yes i agree with everyone on this site this mo...  "
      ]
     },
     "execution_count": 7,
     "metadata": {},
     "output_type": "execute_result"
    }
   ],
   "source": [
    "df['clean_review'] = df['review'].apply(clean_str)\n",
    "df.head()"
   ]
  },
  {
   "cell_type": "code",
   "execution_count": 8,
   "metadata": {
    "colab": {
     "base_uri": "https://localhost:8080/",
     "height": 204
    },
    "colab_type": "code",
    "executionInfo": {
     "elapsed": 1007,
     "status": "ok",
     "timestamp": 1575679517252,
     "user": {
      "displayName": "D. Narayana",
      "photoUrl": "",
      "userId": "17572554762277395202"
     },
     "user_tz": -330
    },
    "id": "x32-x6FeLTTo",
    "outputId": "2ef4bb44-8d8b-4144-f8ba-71eb6a65ecbe"
   },
   "outputs": [
    {
     "data": {
      "text/html": [
       "<div>\n",
       "<style scoped>\n",
       "    .dataframe tbody tr th:only-of-type {\n",
       "        vertical-align: middle;\n",
       "    }\n",
       "\n",
       "    .dataframe tbody tr th {\n",
       "        vertical-align: top;\n",
       "    }\n",
       "\n",
       "    .dataframe thead th {\n",
       "        text-align: right;\n",
       "    }\n",
       "</style>\n",
       "<table border=\"1\" class=\"dataframe\">\n",
       "  <thead>\n",
       "    <tr style=\"text-align: right;\">\n",
       "      <th></th>\n",
       "      <th>id</th>\n",
       "      <th>review</th>\n",
       "      <th>clean_review</th>\n",
       "    </tr>\n",
       "  </thead>\n",
       "  <tbody>\n",
       "    <tr>\n",
       "      <th>0</th>\n",
       "      <td>\"9999_0\"</td>\n",
       "      <td>\"Watching Time Chasers, it obvious that it was...</td>\n",
       "      <td>watching time chasers it obvious that it was m...</td>\n",
       "    </tr>\n",
       "    <tr>\n",
       "      <th>1</th>\n",
       "      <td>\"45057_0\"</td>\n",
       "      <td>\"I saw this film about 20 years ago and rememb...</td>\n",
       "      <td>i saw this film about years ago and remember i...</td>\n",
       "    </tr>\n",
       "    <tr>\n",
       "      <th>2</th>\n",
       "      <td>\"15561_0\"</td>\n",
       "      <td>\"Minor Spoilers&lt;br /&gt;&lt;br /&gt;In New York, Joan B...</td>\n",
       "      <td>minor spoilers br br in new york joan barnard ...</td>\n",
       "    </tr>\n",
       "    <tr>\n",
       "      <th>3</th>\n",
       "      <td>\"7161_0\"</td>\n",
       "      <td>\"I went to see this film with a great deal of ...</td>\n",
       "      <td>i went to see this film with a great deal of e...</td>\n",
       "    </tr>\n",
       "    <tr>\n",
       "      <th>4</th>\n",
       "      <td>\"43971_0\"</td>\n",
       "      <td>\"Yes, I agree with everyone on this site this ...</td>\n",
       "      <td>yes i agree with everyone on this site this mo...</td>\n",
       "    </tr>\n",
       "  </tbody>\n",
       "</table>\n",
       "</div>"
      ],
      "text/plain": [
       "          id                                             review  \\\n",
       "0   \"9999_0\"  \"Watching Time Chasers, it obvious that it was...   \n",
       "1  \"45057_0\"  \"I saw this film about 20 years ago and rememb...   \n",
       "2  \"15561_0\"  \"Minor Spoilers<br /><br />In New York, Joan B...   \n",
       "3   \"7161_0\"  \"I went to see this film with a great deal of ...   \n",
       "4  \"43971_0\"  \"Yes, I agree with everyone on this site this ...   \n",
       "\n",
       "                                        clean_review  \n",
       "0  watching time chasers it obvious that it was m...  \n",
       "1  i saw this film about years ago and remember i...  \n",
       "2  minor spoilers br br in new york joan barnard ...  \n",
       "3  i went to see this film with a great deal of e...  \n",
       "4  yes i agree with everyone on this site this mo...  "
      ]
     },
     "execution_count": 8,
     "metadata": {},
     "output_type": "execute_result"
    }
   ],
   "source": [
    "df.head()"
   ]
  },
  {
   "cell_type": "markdown",
   "metadata": {
    "colab_type": "text",
    "id": "LJJyLx1Vaiv7"
   },
   "source": [
    "### Convert Review to a Word List"
   ]
  },
  {
   "cell_type": "code",
   "execution_count": 9,
   "metadata": {
    "colab": {
     "base_uri": "https://localhost:8080/",
     "height": 71
    },
    "colab_type": "code",
    "executionInfo": {
     "elapsed": 2493,
     "status": "ok",
     "timestamp": 1575679522750,
     "user": {
      "displayName": "D. Narayana",
      "photoUrl": "",
      "userId": "17572554762277395202"
     },
     "user_tz": -330
    },
    "id": "5jEV1hl0aiv8",
    "outputId": "b3343483-a436-4653-eb8f-61e527201ef9"
   },
   "outputs": [
    {
     "name": "stdout",
     "output_type": "stream",
     "text": [
      "50000\n",
      "['watching', 'time', 'chasers', 'it', 'obvious', 'that', 'it', 'was', 'made', 'by', 'a', 'bunch', 'of', 'friends', 'maybe', 'they', 'were', 'sitting', 'around', 'one', 'day', 'in', 'film', 'school', 'and', 'said', 'hey', 'let', 's', 'pool', 'our', 'money', 'together', 'and', 'make', 'a', 'really', 'bad', 'movie', 'or', 'something', 'like', 'that', 'what', 'ever', 'they', 'said', 'they', 'still', 'ended', 'up', 'making', 'a', 'really', 'bad', 'movie', 'dull', 'story', 'bad', 'script', 'lame', 'acting', 'poor', 'cinematography', 'bottom', 'of', 'the', 'barrel', 'stock', 'music', 'etc', 'all', 'corners', 'were', 'cut', 'except', 'the', 'one', 'that', 'would', 'have', 'prevented', 'this', 'film', 's', 'release', 'life', 's', 'like', 'that']\n"
     ]
    }
   ],
   "source": [
    "#List to hold all words in each review\n",
    "documents = []\n",
    "\n",
    "#Iterate over each review\n",
    "for doc in df['clean_review']:\n",
    "    documents.append(doc.split(' '))\n",
    "\n",
    "print(len(documents))\n",
    "print(documents[0])"
   ]
  },
  {
   "cell_type": "code",
   "execution_count": 10,
   "metadata": {
    "colab": {
     "base_uri": "https://localhost:8080/",
     "height": 34
    },
    "colab_type": "code",
    "executionInfo": {
     "elapsed": 985,
     "status": "ok",
     "timestamp": 1575679557204,
     "user": {
      "displayName": "D. Narayana",
      "photoUrl": "",
      "userId": "17572554762277395202"
     },
     "user_tz": -330
    },
    "id": "O3D6hiEAcRkf",
    "outputId": "a64fb7ef-e5f2-4718-bc26-89912c19d9bc"
   },
   "outputs": [
    {
     "data": {
      "text/plain": [
       "121"
      ]
     },
     "execution_count": 10,
     "metadata": {},
     "output_type": "execute_result"
    }
   ],
   "source": [
    "len(documents[108])"
   ]
  },
  {
   "cell_type": "markdown",
   "metadata": {
    "colab_type": "text",
    "id": "EHhZ8ncUaiv_"
   },
   "source": [
    "### Build the Model"
   ]
  },
  {
   "cell_type": "code",
   "execution_count": 11,
   "metadata": {
    "colab": {
     "base_uri": "https://localhost:8080/",
     "height": 1000
    },
    "colab_type": "code",
    "executionInfo": {
     "elapsed": 187743,
     "status": "ok",
     "timestamp": 1575679749931,
     "user": {
      "displayName": "D. Narayana",
      "photoUrl": "",
      "userId": "17572554762277395202"
     },
     "user_tz": -330
    },
    "id": "KsB8HpGwaiwA",
    "outputId": "b15150bb-97b5-4cbd-a82c-68c1e4881dda"
   },
   "outputs": [
    {
     "name": "stderr",
     "output_type": "stream",
     "text": [
      "2021-04-25 23:27:24,112 : INFO : collecting all words and their counts\n",
      "2021-04-25 23:27:24,120 : INFO : PROGRESS: at sentence #0, processed 0 words, keeping 0 word types\n",
      "2021-04-25 23:27:25,111 : INFO : PROGRESS: at sentence #10000, processed 2399440 words, keeping 51654 word types\n",
      "2021-04-25 23:27:26,065 : INFO : PROGRESS: at sentence #20000, processed 4835846 words, keeping 69077 word types\n",
      "2021-04-25 23:27:26,982 : INFO : PROGRESS: at sentence #30000, processed 7267977 words, keeping 81515 word types\n",
      "2021-04-25 23:27:28,125 : INFO : PROGRESS: at sentence #40000, processed 9669772 words, keeping 91685 word types\n",
      "2021-04-25 23:27:29,102 : INFO : collected 100479 word types from a corpus of 12084660 raw words and 50000 sentences\n",
      "2021-04-25 23:27:29,102 : INFO : Creating a fresh vocabulary\n",
      "2021-04-25 23:27:29,375 : INFO : Word2Vec lifecycle event {'msg': 'effective_min_count=10 retains 28322 unique words (28.18698434498751%% of original 100479, drops 72157)', 'datetime': '2021-04-25T23:27:29.375006', 'gensim': '4.0.1', 'python': '3.8.5 (default, Sep  3 2020, 21:29:08) [MSC v.1916 64 bit (AMD64)]', 'platform': 'Windows-10-10.0.18362-SP0', 'event': 'prepare_vocab'}\n",
      "2021-04-25 23:27:29,375 : INFO : Word2Vec lifecycle event {'msg': 'effective_min_count=10 leaves 11910457 word corpus (98.55847826914452%% of original 12084660, drops 174203)', 'datetime': '2021-04-25T23:27:29.375006', 'gensim': '4.0.1', 'python': '3.8.5 (default, Sep  3 2020, 21:29:08) [MSC v.1916 64 bit (AMD64)]', 'platform': 'Windows-10-10.0.18362-SP0', 'event': 'prepare_vocab'}\n",
      "2021-04-25 23:27:29,728 : INFO : deleting the raw counts dictionary of 100479 items\n",
      "2021-04-25 23:27:29,744 : INFO : sample=0.001 downsamples 49 most-common words\n",
      "2021-04-25 23:27:29,752 : INFO : Word2Vec lifecycle event {'msg': 'downsampling leaves estimated 8817283.007502444 word corpus (74.0%% of prior 11910457)', 'datetime': '2021-04-25T23:27:29.752149', 'gensim': '4.0.1', 'python': '3.8.5 (default, Sep  3 2020, 21:29:08) [MSC v.1916 64 bit (AMD64)]', 'platform': 'Windows-10-10.0.18362-SP0', 'event': 'prepare_vocab'}\n",
      "2021-04-25 23:27:30,586 : INFO : estimated required memory for 28322 words and 100 dimensions: 36818600 bytes\n",
      "2021-04-25 23:27:30,586 : INFO : resetting layer weights\n",
      "2021-04-25 23:27:30,672 : INFO : Word2Vec lifecycle event {'update': False, 'trim_rule': 'None', 'datetime': '2021-04-25T23:27:30.672938', 'gensim': '4.0.1', 'python': '3.8.5 (default, Sep  3 2020, 21:29:08) [MSC v.1916 64 bit (AMD64)]', 'platform': 'Windows-10-10.0.18362-SP0', 'event': 'build_vocab'}\n",
      "2021-04-25 23:27:30,675 : INFO : Word2Vec lifecycle event {'msg': 'training model with 4 workers on 28322 vocabulary and 100 features, using sg=0 hs=0 sample=0.001 negative=5 window=5', 'datetime': '2021-04-25T23:27:30.675935', 'gensim': '4.0.1', 'python': '3.8.5 (default, Sep  3 2020, 21:29:08) [MSC v.1916 64 bit (AMD64)]', 'platform': 'Windows-10-10.0.18362-SP0', 'event': 'train'}\n",
      "2021-04-25 23:27:31,736 : INFO : EPOCH 1 - PROGRESS: at 1.17% examples, 96258 words/s, in_qsize 7, out_qsize 0\n",
      "2021-04-25 23:27:32,769 : INFO : EPOCH 1 - PROGRESS: at 3.36% examples, 144836 words/s, in_qsize 8, out_qsize 1\n",
      "2021-04-25 23:27:33,770 : INFO : EPOCH 1 - PROGRESS: at 6.17% examples, 176843 words/s, in_qsize 7, out_qsize 0\n",
      "2021-04-25 23:27:34,779 : INFO : EPOCH 1 - PROGRESS: at 9.01% examples, 192825 words/s, in_qsize 7, out_qsize 0\n",
      "2021-04-25 23:27:35,791 : INFO : EPOCH 1 - PROGRESS: at 14.13% examples, 242234 words/s, in_qsize 7, out_qsize 0\n",
      "2021-04-25 23:27:36,799 : INFO : EPOCH 1 - PROGRESS: at 19.10% examples, 273578 words/s, in_qsize 8, out_qsize 1\n",
      "2021-04-25 23:27:37,807 : INFO : EPOCH 1 - PROGRESS: at 23.70% examples, 290945 words/s, in_qsize 7, out_qsize 0\n",
      "2021-04-25 23:27:38,811 : INFO : EPOCH 1 - PROGRESS: at 28.15% examples, 303589 words/s, in_qsize 6, out_qsize 1\n",
      "2021-04-25 23:27:39,823 : INFO : EPOCH 1 - PROGRESS: at 32.55% examples, 313189 words/s, in_qsize 7, out_qsize 0\n",
      "2021-04-25 23:27:40,843 : INFO : EPOCH 1 - PROGRESS: at 36.31% examples, 314146 words/s, in_qsize 7, out_qsize 0\n",
      "2021-04-25 23:27:41,859 : INFO : EPOCH 1 - PROGRESS: at 40.29% examples, 318144 words/s, in_qsize 5, out_qsize 2\n",
      "2021-04-25 23:27:42,897 : INFO : EPOCH 1 - PROGRESS: at 44.73% examples, 323374 words/s, in_qsize 8, out_qsize 0\n",
      "2021-04-25 23:27:43,899 : INFO : EPOCH 1 - PROGRESS: at 48.03% examples, 321090 words/s, in_qsize 7, out_qsize 0\n",
      "2021-04-25 23:27:44,912 : INFO : EPOCH 1 - PROGRESS: at 52.73% examples, 327032 words/s, in_qsize 7, out_qsize 0\n",
      "2021-04-25 23:27:45,924 : INFO : EPOCH 1 - PROGRESS: at 57.14% examples, 331264 words/s, in_qsize 6, out_qsize 1\n",
      "2021-04-25 23:27:46,939 : INFO : EPOCH 1 - PROGRESS: at 61.81% examples, 336218 words/s, in_qsize 7, out_qsize 0\n",
      "2021-04-25 23:27:47,952 : INFO : EPOCH 1 - PROGRESS: at 66.53% examples, 340808 words/s, in_qsize 7, out_qsize 0\n",
      "2021-04-25 23:27:48,972 : INFO : EPOCH 1 - PROGRESS: at 71.57% examples, 345761 words/s, in_qsize 7, out_qsize 0\n",
      "2021-04-25 23:27:49,981 : INFO : EPOCH 1 - PROGRESS: at 75.92% examples, 347450 words/s, in_qsize 7, out_qsize 0\n",
      "2021-04-25 23:27:50,983 : INFO : EPOCH 1 - PROGRESS: at 80.48% examples, 349679 words/s, in_qsize 8, out_qsize 0\n",
      "2021-04-25 23:27:51,990 : INFO : EPOCH 1 - PROGRESS: at 84.98% examples, 351930 words/s, in_qsize 7, out_qsize 0\n",
      "2021-04-25 23:27:52,995 : INFO : EPOCH 1 - PROGRESS: at 89.71% examples, 354434 words/s, in_qsize 7, out_qsize 0\n",
      "2021-04-25 23:27:54,024 : INFO : EPOCH 1 - PROGRESS: at 94.42% examples, 356890 words/s, in_qsize 7, out_qsize 0\n",
      "2021-04-25 23:27:55,024 : INFO : EPOCH 1 - PROGRESS: at 99.06% examples, 358887 words/s, in_qsize 7, out_qsize 0\n",
      "2021-04-25 23:27:55,148 : INFO : worker thread finished; awaiting finish of 3 more threads\n",
      "2021-04-25 23:27:55,172 : INFO : worker thread finished; awaiting finish of 2 more threads\n",
      "2021-04-25 23:27:55,180 : INFO : worker thread finished; awaiting finish of 1 more threads\n",
      "2021-04-25 23:27:55,228 : INFO : worker thread finished; awaiting finish of 0 more threads\n",
      "2021-04-25 23:27:55,228 : INFO : EPOCH - 1 : training on 12084660 raw words (8816257 effective words) took 24.5s, 359195 effective words/s\n",
      "2021-04-25 23:27:56,261 : INFO : EPOCH 2 - PROGRESS: at 4.51% examples, 396207 words/s, in_qsize 7, out_qsize 0\n",
      "2021-04-25 23:27:57,277 : INFO : EPOCH 2 - PROGRESS: at 9.51% examples, 410365 words/s, in_qsize 7, out_qsize 0\n",
      "2021-04-25 23:27:58,297 : INFO : EPOCH 2 - PROGRESS: at 14.30% examples, 409688 words/s, in_qsize 8, out_qsize 0\n",
      "2021-04-25 23:27:59,304 : INFO : EPOCH 2 - PROGRESS: at 19.02% examples, 410099 words/s, in_qsize 7, out_qsize 0\n",
      "2021-04-25 23:28:00,308 : INFO : EPOCH 2 - PROGRESS: at 23.68% examples, 409590 words/s, in_qsize 7, out_qsize 0\n",
      "2021-04-25 23:28:01,333 : INFO : EPOCH 2 - PROGRESS: at 28.45% examples, 409973 words/s, in_qsize 8, out_qsize 0\n",
      "2021-04-25 23:28:02,331 : INFO : EPOCH 2 - PROGRESS: at 32.99% examples, 408727 words/s, in_qsize 8, out_qsize 0\n",
      "2021-04-25 23:28:03,337 : INFO : EPOCH 2 - PROGRESS: at 37.76% examples, 410952 words/s, in_qsize 7, out_qsize 0\n",
      "2021-04-25 23:28:04,361 : INFO : EPOCH 2 - PROGRESS: at 42.32% examples, 409538 words/s, in_qsize 7, out_qsize 0\n",
      "2021-04-25 23:28:05,388 : INFO : EPOCH 2 - PROGRESS: at 47.03% examples, 409784 words/s, in_qsize 8, out_qsize 1\n",
      "2021-04-25 23:28:06,389 : INFO : EPOCH 2 - PROGRESS: at 51.98% examples, 411647 words/s, in_qsize 7, out_qsize 0\n",
      "2021-04-25 23:28:07,405 : INFO : EPOCH 2 - PROGRESS: at 56.59% examples, 410979 words/s, in_qsize 7, out_qsize 0\n",
      "2021-04-25 23:28:08,414 : INFO : EPOCH 2 - PROGRESS: at 61.32% examples, 411652 words/s, in_qsize 8, out_qsize 0\n",
      "2021-04-25 23:28:09,451 : INFO : EPOCH 2 - PROGRESS: at 65.77% examples, 409343 words/s, in_qsize 6, out_qsize 1\n",
      "2021-04-25 23:28:10,464 : INFO : EPOCH 2 - PROGRESS: at 70.80% examples, 410845 words/s, in_qsize 7, out_qsize 0\n",
      "2021-04-25 23:28:11,480 : INFO : EPOCH 2 - PROGRESS: at 75.51% examples, 410686 words/s, in_qsize 7, out_qsize 0\n",
      "2021-04-25 23:28:12,516 : INFO : EPOCH 2 - PROGRESS: at 80.47% examples, 410946 words/s, in_qsize 5, out_qsize 2\n",
      "2021-04-25 23:28:13,519 : INFO : EPOCH 2 - PROGRESS: at 84.81% examples, 409606 words/s, in_qsize 7, out_qsize 0\n",
      "2021-04-25 23:28:14,536 : INFO : EPOCH 2 - PROGRESS: at 89.71% examples, 409917 words/s, in_qsize 8, out_qsize 0\n"
     ]
    },
    {
     "name": "stderr",
     "output_type": "stream",
     "text": [
      "2021-04-25 23:28:15,541 : INFO : EPOCH 2 - PROGRESS: at 94.49% examples, 410745 words/s, in_qsize 7, out_qsize 0\n",
      "2021-04-25 23:28:16,562 : INFO : EPOCH 2 - PROGRESS: at 98.99% examples, 409519 words/s, in_qsize 7, out_qsize 0\n",
      "2021-04-25 23:28:16,727 : INFO : worker thread finished; awaiting finish of 3 more threads\n",
      "2021-04-25 23:28:16,735 : INFO : worker thread finished; awaiting finish of 2 more threads\n",
      "2021-04-25 23:28:16,777 : INFO : worker thread finished; awaiting finish of 1 more threads\n",
      "2021-04-25 23:28:16,806 : INFO : worker thread finished; awaiting finish of 0 more threads\n",
      "2021-04-25 23:28:16,808 : INFO : EPOCH - 2 : training on 12084660 raw words (8817243 effective words) took 21.6s, 408959 effective words/s\n",
      "2021-04-25 23:28:17,836 : INFO : EPOCH 3 - PROGRESS: at 4.43% examples, 388702 words/s, in_qsize 7, out_qsize 0\n",
      "2021-04-25 23:28:18,866 : INFO : EPOCH 3 - PROGRESS: at 9.42% examples, 403637 words/s, in_qsize 8, out_qsize 0\n",
      "2021-04-25 23:28:19,872 : INFO : EPOCH 3 - PROGRESS: at 14.12% examples, 404885 words/s, in_qsize 8, out_qsize 0\n",
      "2021-04-25 23:28:20,872 : INFO : EPOCH 3 - PROGRESS: at 18.67% examples, 403880 words/s, in_qsize 7, out_qsize 0\n",
      "2021-04-25 23:28:21,889 : INFO : EPOCH 3 - PROGRESS: at 23.46% examples, 404699 words/s, in_qsize 8, out_qsize 1\n",
      "2021-04-25 23:28:22,891 : INFO : EPOCH 3 - PROGRESS: at 28.15% examples, 406362 words/s, in_qsize 7, out_qsize 0\n",
      "2021-04-25 23:28:23,901 : INFO : EPOCH 3 - PROGRESS: at 32.63% examples, 405047 words/s, in_qsize 7, out_qsize 0\n",
      "2021-04-25 23:28:24,939 : INFO : EPOCH 3 - PROGRESS: at 37.44% examples, 406102 words/s, in_qsize 7, out_qsize 0\n",
      "2021-04-25 23:28:25,948 : INFO : EPOCH 3 - PROGRESS: at 42.07% examples, 406668 words/s, in_qsize 8, out_qsize 1\n",
      "2021-04-25 23:28:26,953 : INFO : EPOCH 3 - PROGRESS: at 46.76% examples, 407871 words/s, in_qsize 7, out_qsize 0\n",
      "2021-04-25 23:28:27,977 : INFO : EPOCH 3 - PROGRESS: at 51.65% examples, 408428 words/s, in_qsize 7, out_qsize 0\n",
      "2021-04-25 23:28:28,978 : INFO : EPOCH 3 - PROGRESS: at 56.32% examples, 409166 words/s, in_qsize 7, out_qsize 0\n",
      "2021-04-25 23:28:29,985 : INFO : EPOCH 3 - PROGRESS: at 61.00% examples, 409558 words/s, in_qsize 7, out_qsize 0\n",
      "2021-04-25 23:28:31,003 : INFO : EPOCH 3 - PROGRESS: at 65.76% examples, 410001 words/s, in_qsize 7, out_qsize 0\n",
      "2021-04-25 23:28:32,019 : INFO : EPOCH 3 - PROGRESS: at 70.72% examples, 410886 words/s, in_qsize 7, out_qsize 0\n",
      "2021-04-25 23:28:33,027 : INFO : EPOCH 3 - PROGRESS: at 75.32% examples, 410532 words/s, in_qsize 6, out_qsize 1\n",
      "2021-04-25 23:28:34,035 : INFO : EPOCH 3 - PROGRESS: at 80.23% examples, 410857 words/s, in_qsize 6, out_qsize 1\n",
      "2021-04-25 23:28:35,079 : INFO : EPOCH 3 - PROGRESS: at 84.98% examples, 410659 words/s, in_qsize 6, out_qsize 1\n",
      "2021-04-25 23:28:36,079 : INFO : EPOCH 3 - PROGRESS: at 89.85% examples, 411258 words/s, in_qsize 7, out_qsize 0\n",
      "2021-04-25 23:28:37,079 : INFO : EPOCH 3 - PROGRESS: at 94.42% examples, 411043 words/s, in_qsize 7, out_qsize 0\n",
      "2021-04-25 23:28:38,134 : INFO : EPOCH 3 - PROGRESS: at 99.47% examples, 411480 words/s, in_qsize 7, out_qsize 0\n",
      "2021-04-25 23:28:38,190 : INFO : worker thread finished; awaiting finish of 3 more threads\n",
      "2021-04-25 23:28:38,206 : INFO : worker thread finished; awaiting finish of 2 more threads\n",
      "2021-04-25 23:28:38,222 : INFO : worker thread finished; awaiting finish of 1 more threads\n",
      "2021-04-25 23:28:38,230 : INFO : worker thread finished; awaiting finish of 0 more threads\n",
      "2021-04-25 23:28:38,238 : INFO : EPOCH - 3 : training on 12084660 raw words (8817486 effective words) took 21.4s, 411684 effective words/s\n",
      "2021-04-25 23:28:39,270 : INFO : EPOCH 4 - PROGRESS: at 4.69% examples, 407196 words/s, in_qsize 7, out_qsize 0\n",
      "2021-04-25 23:28:40,278 : INFO : EPOCH 4 - PROGRESS: at 9.51% examples, 410670 words/s, in_qsize 7, out_qsize 0\n",
      "2021-04-25 23:28:41,298 : INFO : EPOCH 4 - PROGRESS: at 14.47% examples, 414858 words/s, in_qsize 8, out_qsize 0\n",
      "2021-04-25 23:28:42,304 : INFO : EPOCH 4 - PROGRESS: at 19.28% examples, 415956 words/s, in_qsize 7, out_qsize 0\n",
      "2021-04-25 23:28:43,321 : INFO : EPOCH 4 - PROGRESS: at 24.13% examples, 416907 words/s, in_qsize 7, out_qsize 0\n",
      "2021-04-25 23:28:44,340 : INFO : EPOCH 4 - PROGRESS: at 28.83% examples, 415307 words/s, in_qsize 7, out_qsize 0\n",
      "2021-04-25 23:28:45,356 : INFO : EPOCH 4 - PROGRESS: at 33.69% examples, 416863 words/s, in_qsize 7, out_qsize 0\n",
      "2021-04-25 23:28:46,361 : INFO : EPOCH 4 - PROGRESS: at 38.49% examples, 417729 words/s, in_qsize 7, out_qsize 0\n",
      "2021-04-25 23:28:47,380 : INFO : EPOCH 4 - PROGRESS: at 43.30% examples, 418345 words/s, in_qsize 7, out_qsize 0\n",
      "2021-04-25 23:28:48,428 : INFO : EPOCH 4 - PROGRESS: at 48.09% examples, 417482 words/s, in_qsize 7, out_qsize 0\n",
      "2021-04-25 23:28:49,452 : INFO : EPOCH 4 - PROGRESS: at 53.06% examples, 417628 words/s, in_qsize 7, out_qsize 0\n",
      "2021-04-25 23:28:50,459 : INFO : EPOCH 4 - PROGRESS: at 57.90% examples, 418611 words/s, in_qsize 7, out_qsize 0\n",
      "2021-04-25 23:28:51,499 : INFO : EPOCH 4 - PROGRESS: at 62.59% examples, 417730 words/s, in_qsize 7, out_qsize 1\n",
      "2021-04-25 23:28:52,526 : INFO : EPOCH 4 - PROGRESS: at 67.48% examples, 417744 words/s, in_qsize 8, out_qsize 0\n",
      "2021-04-25 23:28:53,593 : INFO : EPOCH 4 - PROGRESS: at 70.62% examples, 406439 words/s, in_qsize 7, out_qsize 0\n",
      "2021-04-25 23:28:54,609 : INFO : EPOCH 4 - PROGRESS: at 73.64% examples, 397507 words/s, in_qsize 8, out_qsize 0\n",
      "2021-04-25 23:28:55,623 : INFO : EPOCH 4 - PROGRESS: at 78.18% examples, 397381 words/s, in_qsize 7, out_qsize 0\n",
      "2021-04-25 23:28:56,641 : INFO : EPOCH 4 - PROGRESS: at 82.79% examples, 397250 words/s, in_qsize 8, out_qsize 0\n",
      "2021-04-25 23:28:57,652 : INFO : EPOCH 4 - PROGRESS: at 87.52% examples, 397653 words/s, in_qsize 7, out_qsize 0\n",
      "2021-04-25 23:28:58,670 : INFO : EPOCH 4 - PROGRESS: at 91.01% examples, 392843 words/s, in_qsize 7, out_qsize 0\n",
      "2021-04-25 23:28:59,675 : INFO : EPOCH 4 - PROGRESS: at 95.09% examples, 391410 words/s, in_qsize 7, out_qsize 0\n",
      "2021-04-25 23:29:00,686 : INFO : EPOCH 4 - PROGRESS: at 99.38% examples, 390689 words/s, in_qsize 8, out_qsize 0\n",
      "2021-04-25 23:29:00,750 : INFO : worker thread finished; awaiting finish of 3 more threads\n",
      "2021-04-25 23:29:00,766 : INFO : worker thread finished; awaiting finish of 2 more threads\n",
      "2021-04-25 23:29:00,798 : INFO : worker thread finished; awaiting finish of 1 more threads\n",
      "2021-04-25 23:29:00,814 : INFO : worker thread finished; awaiting finish of 0 more threads\n",
      "2021-04-25 23:29:00,814 : INFO : EPOCH - 4 : training on 12084660 raw words (8816735 effective words) took 22.6s, 390739 effective words/s\n",
      "2021-04-25 23:29:01,855 : INFO : EPOCH 5 - PROGRESS: at 4.52% examples, 392011 words/s, in_qsize 7, out_qsize 0\n",
      "2021-04-25 23:29:02,890 : INFO : EPOCH 5 - PROGRESS: at 9.51% examples, 404712 words/s, in_qsize 7, out_qsize 0\n",
      "2021-04-25 23:29:03,890 : INFO : EPOCH 5 - PROGRESS: at 14.21% examples, 405885 words/s, in_qsize 7, out_qsize 0\n",
      "2021-04-25 23:29:04,903 : INFO : EPOCH 5 - PROGRESS: at 18.93% examples, 407240 words/s, in_qsize 8, out_qsize 0\n",
      "2021-04-25 23:29:05,906 : INFO : EPOCH 5 - PROGRESS: at 23.60% examples, 406940 words/s, in_qsize 7, out_qsize 0\n",
      "2021-04-25 23:29:06,914 : INFO : EPOCH 5 - PROGRESS: at 28.22% examples, 406761 words/s, in_qsize 7, out_qsize 0\n",
      "2021-04-25 23:29:07,930 : INFO : EPOCH 5 - PROGRESS: at 33.06% examples, 409225 words/s, in_qsize 8, out_qsize 0\n",
      "2021-04-25 23:29:08,930 : INFO : EPOCH 5 - PROGRESS: at 37.76% examples, 410566 words/s, in_qsize 7, out_qsize 0\n",
      "2021-04-25 23:29:09,938 : INFO : EPOCH 5 - PROGRESS: at 42.49% examples, 411743 words/s, in_qsize 7, out_qsize 0\n",
      "2021-04-25 23:29:10,946 : INFO : EPOCH 5 - PROGRESS: at 47.10% examples, 411602 words/s, in_qsize 7, out_qsize 1\n",
      "2021-04-25 23:29:11,994 : INFO : EPOCH 5 - PROGRESS: at 52.21% examples, 412653 words/s, in_qsize 6, out_qsize 1\n",
      "2021-04-25 23:29:13,002 : INFO : EPOCH 5 - PROGRESS: at 56.98% examples, 413624 words/s, in_qsize 7, out_qsize 0\n",
      "2021-04-25 23:29:14,012 : INFO : EPOCH 5 - PROGRESS: at 61.59% examples, 413035 words/s, in_qsize 6, out_qsize 1\n",
      "2021-04-25 23:29:15,016 : INFO : EPOCH 5 - PROGRESS: at 66.29% examples, 413555 words/s, in_qsize 5, out_qsize 0\n",
      "2021-04-25 23:29:16,025 : INFO : EPOCH 5 - PROGRESS: at 71.08% examples, 413491 words/s, in_qsize 8, out_qsize 0\n"
     ]
    },
    {
     "name": "stderr",
     "output_type": "stream",
     "text": [
      "2021-04-25 23:29:17,034 : INFO : EPOCH 5 - PROGRESS: at 75.85% examples, 413230 words/s, in_qsize 7, out_qsize 1\n",
      "2021-04-25 23:29:18,050 : INFO : EPOCH 5 - PROGRESS: at 80.78% examples, 413771 words/s, in_qsize 7, out_qsize 0\n",
      "2021-04-25 23:29:19,066 : INFO : EPOCH 5 - PROGRESS: at 85.69% examples, 414409 words/s, in_qsize 7, out_qsize 0\n",
      "2021-04-25 23:29:20,082 : INFO : EPOCH 5 - PROGRESS: at 90.53% examples, 414597 words/s, in_qsize 7, out_qsize 0\n",
      "2021-04-25 23:29:21,082 : INFO : EPOCH 5 - PROGRESS: at 94.42% examples, 411297 words/s, in_qsize 8, out_qsize 0\n",
      "2021-04-25 23:29:22,087 : INFO : EPOCH 5 - PROGRESS: at 98.40% examples, 408432 words/s, in_qsize 7, out_qsize 0\n",
      "2021-04-25 23:29:22,409 : INFO : worker thread finished; awaiting finish of 3 more threads\n",
      "2021-04-25 23:29:22,428 : INFO : worker thread finished; awaiting finish of 2 more threads\n",
      "2021-04-25 23:29:22,434 : INFO : worker thread finished; awaiting finish of 1 more threads\n",
      "2021-04-25 23:29:22,447 : INFO : worker thread finished; awaiting finish of 0 more threads\n",
      "2021-04-25 23:29:22,453 : INFO : EPOCH - 5 : training on 12084660 raw words (8818812 effective words) took 21.6s, 407914 effective words/s\n",
      "2021-04-25 23:29:23,512 : INFO : EPOCH 6 - PROGRESS: at 3.76% examples, 322135 words/s, in_qsize 8, out_qsize 0\n",
      "2021-04-25 23:29:24,534 : INFO : EPOCH 6 - PROGRESS: at 7.34% examples, 312547 words/s, in_qsize 8, out_qsize 0\n",
      "2021-04-25 23:29:25,541 : INFO : EPOCH 6 - PROGRESS: at 11.48% examples, 327111 words/s, in_qsize 8, out_qsize 0\n",
      "2021-04-25 23:29:26,548 : INFO : EPOCH 6 - PROGRESS: at 16.08% examples, 345036 words/s, in_qsize 8, out_qsize 0\n",
      "2021-04-25 23:29:27,554 : INFO : EPOCH 6 - PROGRESS: at 20.62% examples, 355340 words/s, in_qsize 8, out_qsize 0\n",
      "2021-04-25 23:29:28,557 : INFO : EPOCH 6 - PROGRESS: at 25.24% examples, 363822 words/s, in_qsize 7, out_qsize 0\n",
      "2021-04-25 23:29:29,596 : INFO : EPOCH 6 - PROGRESS: at 30.07% examples, 370213 words/s, in_qsize 8, out_qsize 0\n",
      "2021-04-25 23:29:30,621 : INFO : EPOCH 6 - PROGRESS: at 34.97% examples, 377157 words/s, in_qsize 7, out_qsize 0\n",
      "2021-04-25 23:29:31,621 : INFO : EPOCH 6 - PROGRESS: at 39.41% examples, 379597 words/s, in_qsize 6, out_qsize 1\n",
      "2021-04-25 23:29:32,646 : INFO : EPOCH 6 - PROGRESS: at 44.27% examples, 383566 words/s, in_qsize 8, out_qsize 0\n",
      "2021-04-25 23:29:33,663 : INFO : EPOCH 6 - PROGRESS: at 49.18% examples, 387687 words/s, in_qsize 7, out_qsize 0\n",
      "2021-04-25 23:29:34,696 : INFO : EPOCH 6 - PROGRESS: at 53.92% examples, 389166 words/s, in_qsize 7, out_qsize 0\n",
      "2021-04-25 23:29:35,696 : INFO : EPOCH 6 - PROGRESS: at 58.65% examples, 391667 words/s, in_qsize 7, out_qsize 0\n",
      "2021-04-25 23:29:36,713 : INFO : EPOCH 6 - PROGRESS: at 63.47% examples, 393905 words/s, in_qsize 7, out_qsize 0\n",
      "2021-04-25 23:29:37,739 : INFO : EPOCH 6 - PROGRESS: at 68.31% examples, 395313 words/s, in_qsize 7, out_qsize 0\n",
      "2021-04-25 23:29:38,749 : INFO : EPOCH 6 - PROGRESS: at 73.24% examples, 397238 words/s, in_qsize 7, out_qsize 0\n",
      "2021-04-25 23:29:39,750 : INFO : EPOCH 6 - PROGRESS: at 77.75% examples, 397462 words/s, in_qsize 7, out_qsize 0\n",
      "2021-04-25 23:29:40,786 : INFO : EPOCH 6 - PROGRESS: at 82.69% examples, 398353 words/s, in_qsize 8, out_qsize 1\n",
      "2021-04-25 23:29:41,801 : INFO : EPOCH 6 - PROGRESS: at 87.61% examples, 399384 words/s, in_qsize 7, out_qsize 0\n",
      "2021-04-25 23:29:42,817 : INFO : EPOCH 6 - PROGRESS: at 92.28% examples, 399882 words/s, in_qsize 6, out_qsize 1\n",
      "2021-04-25 23:29:43,837 : INFO : EPOCH 6 - PROGRESS: at 97.14% examples, 401137 words/s, in_qsize 8, out_qsize 0\n",
      "2021-04-25 23:29:44,388 : INFO : worker thread finished; awaiting finish of 3 more threads\n",
      "2021-04-25 23:29:44,400 : INFO : worker thread finished; awaiting finish of 2 more threads\n",
      "2021-04-25 23:29:44,431 : INFO : worker thread finished; awaiting finish of 1 more threads\n",
      "2021-04-25 23:29:44,439 : INFO : worker thread finished; awaiting finish of 0 more threads\n",
      "2021-04-25 23:29:44,445 : INFO : EPOCH - 6 : training on 12084660 raw words (8817969 effective words) took 22.0s, 401232 effective words/s\n",
      "2021-04-25 23:29:45,467 : INFO : EPOCH 7 - PROGRESS: at 4.60% examples, 404682 words/s, in_qsize 7, out_qsize 0\n",
      "2021-04-25 23:29:46,473 : INFO : EPOCH 7 - PROGRESS: at 9.42% examples, 409594 words/s, in_qsize 7, out_qsize 0\n",
      "2021-04-25 23:29:47,491 : INFO : EPOCH 7 - PROGRESS: at 14.21% examples, 409364 words/s, in_qsize 7, out_qsize 0\n",
      "2021-04-25 23:29:48,513 : INFO : EPOCH 7 - PROGRESS: at 19.10% examples, 412028 words/s, in_qsize 7, out_qsize 0\n",
      "2021-04-25 23:29:49,525 : INFO : EPOCH 7 - PROGRESS: at 23.92% examples, 413150 words/s, in_qsize 7, out_qsize 0\n",
      "2021-04-25 23:29:50,537 : INFO : EPOCH 7 - PROGRESS: at 28.66% examples, 413396 words/s, in_qsize 7, out_qsize 0\n",
      "2021-04-25 23:29:51,568 : INFO : EPOCH 7 - PROGRESS: at 33.54% examples, 414114 words/s, in_qsize 7, out_qsize 0\n",
      "2021-04-25 23:29:52,571 : INFO : EPOCH 7 - PROGRESS: at 38.28% examples, 414817 words/s, in_qsize 7, out_qsize 0\n",
      "2021-04-25 23:29:53,592 : INFO : EPOCH 7 - PROGRESS: at 43.06% examples, 415436 words/s, in_qsize 7, out_qsize 0\n",
      "2021-04-25 23:29:54,610 : INFO : EPOCH 7 - PROGRESS: at 47.78% examples, 415611 words/s, in_qsize 7, out_qsize 0\n",
      "2021-04-25 23:29:55,616 : INFO : EPOCH 7 - PROGRESS: at 52.81% examples, 417351 words/s, in_qsize 7, out_qsize 0\n",
      "2021-04-25 23:29:56,620 : INFO : EPOCH 7 - PROGRESS: at 57.40% examples, 416727 words/s, in_qsize 6, out_qsize 1\n",
      "2021-04-25 23:29:57,625 : INFO : EPOCH 7 - PROGRESS: at 61.88% examples, 415427 words/s, in_qsize 6, out_qsize 1\n",
      "2021-04-25 23:29:58,643 : INFO : EPOCH 7 - PROGRESS: at 66.61% examples, 415351 words/s, in_qsize 8, out_qsize 1\n",
      "2021-04-25 23:29:59,647 : INFO : EPOCH 7 - PROGRESS: at 71.34% examples, 414849 words/s, in_qsize 7, out_qsize 0\n",
      "2021-04-25 23:30:00,650 : INFO : EPOCH 7 - PROGRESS: at 76.09% examples, 414788 words/s, in_qsize 7, out_qsize 0\n",
      "2021-04-25 23:30:01,652 : INFO : EPOCH 7 - PROGRESS: at 80.78% examples, 414345 words/s, in_qsize 8, out_qsize 0\n",
      "2021-04-25 23:30:02,680 : INFO : EPOCH 7 - PROGRESS: at 85.77% examples, 415018 words/s, in_qsize 7, out_qsize 0\n",
      "2021-04-25 23:30:03,736 : INFO : EPOCH 7 - PROGRESS: at 90.76% examples, 414989 words/s, in_qsize 7, out_qsize 0\n",
      "2021-04-25 23:30:04,744 : INFO : EPOCH 7 - PROGRESS: at 95.47% examples, 415096 words/s, in_qsize 7, out_qsize 0\n",
      "2021-04-25 23:30:05,616 : INFO : worker thread finished; awaiting finish of 3 more threads\n",
      "2021-04-25 23:30:05,632 : INFO : worker thread finished; awaiting finish of 2 more threads\n",
      "2021-04-25 23:30:05,648 : INFO : worker thread finished; awaiting finish of 1 more threads\n",
      "2021-04-25 23:30:05,680 : INFO : worker thread finished; awaiting finish of 0 more threads\n",
      "2021-04-25 23:30:05,688 : INFO : EPOCH - 7 : training on 12084660 raw words (8816964 effective words) took 21.2s, 415307 effective words/s\n",
      "2021-04-25 23:30:06,720 : INFO : EPOCH 8 - PROGRESS: at 4.78% examples, 414755 words/s, in_qsize 7, out_qsize 0\n",
      "2021-04-25 23:30:07,736 : INFO : EPOCH 8 - PROGRESS: at 9.74% examples, 418062 words/s, in_qsize 7, out_qsize 0\n",
      "2021-04-25 23:30:08,787 : INFO : EPOCH 8 - PROGRESS: at 14.63% examples, 414040 words/s, in_qsize 7, out_qsize 0\n",
      "2021-04-25 23:30:09,815 : INFO : EPOCH 8 - PROGRESS: at 19.53% examples, 414926 words/s, in_qsize 7, out_qsize 0\n",
      "2021-04-25 23:30:10,845 : INFO : EPOCH 8 - PROGRESS: at 24.45% examples, 416777 words/s, in_qsize 7, out_qsize 0\n",
      "2021-04-25 23:30:11,848 : INFO : EPOCH 8 - PROGRESS: at 29.16% examples, 416450 words/s, in_qsize 7, out_qsize 0\n",
      "2021-04-25 23:30:12,869 : INFO : EPOCH 8 - PROGRESS: at 33.96% examples, 416098 words/s, in_qsize 8, out_qsize 0\n",
      "2021-04-25 23:30:13,898 : INFO : EPOCH 8 - PROGRESS: at 38.67% examples, 415360 words/s, in_qsize 7, out_qsize 0\n",
      "2021-04-25 23:30:14,907 : INFO : EPOCH 8 - PROGRESS: at 43.30% examples, 414930 words/s, in_qsize 7, out_qsize 0\n",
      "2021-04-25 23:30:15,918 : INFO : EPOCH 8 - PROGRESS: at 48.03% examples, 415283 words/s, in_qsize 8, out_qsize 0\n",
      "2021-04-25 23:30:16,937 : INFO : EPOCH 8 - PROGRESS: at 52.89% examples, 415048 words/s, in_qsize 7, out_qsize 0\n",
      "2021-04-25 23:30:17,953 : INFO : EPOCH 8 - PROGRESS: at 57.65% examples, 415578 words/s, in_qsize 7, out_qsize 0\n",
      "2021-04-25 23:30:18,977 : INFO : EPOCH 8 - PROGRESS: at 62.43% examples, 415725 words/s, in_qsize 7, out_qsize 0\n"
     ]
    },
    {
     "name": "stderr",
     "output_type": "stream",
     "text": [
      "2021-04-25 23:30:19,993 : INFO : EPOCH 8 - PROGRESS: at 67.11% examples, 415363 words/s, in_qsize 6, out_qsize 1\n",
      "2021-04-25 23:30:21,009 : INFO : EPOCH 8 - PROGRESS: at 72.16% examples, 416217 words/s, in_qsize 7, out_qsize 0\n",
      "2021-04-25 23:30:22,017 : INFO : EPOCH 8 - PROGRESS: at 76.94% examples, 416495 words/s, in_qsize 7, out_qsize 0\n",
      "2021-04-25 23:30:23,038 : INFO : EPOCH 8 - PROGRESS: at 81.82% examples, 416422 words/s, in_qsize 5, out_qsize 2\n",
      "2021-04-25 23:30:24,064 : INFO : EPOCH 8 - PROGRESS: at 86.69% examples, 416181 words/s, in_qsize 6, out_qsize 1\n",
      "2021-04-25 23:30:25,065 : INFO : EPOCH 8 - PROGRESS: at 91.48% examples, 416519 words/s, in_qsize 8, out_qsize 0\n",
      "2021-04-25 23:30:26,087 : INFO : EPOCH 8 - PROGRESS: at 96.24% examples, 416653 words/s, in_qsize 7, out_qsize 0\n",
      "2021-04-25 23:30:26,822 : INFO : worker thread finished; awaiting finish of 3 more threads\n",
      "2021-04-25 23:30:26,829 : INFO : worker thread finished; awaiting finish of 2 more threads\n",
      "2021-04-25 23:30:26,834 : INFO : worker thread finished; awaiting finish of 1 more threads\n",
      "2021-04-25 23:30:26,870 : INFO : worker thread finished; awaiting finish of 0 more threads\n",
      "2021-04-25 23:30:26,886 : INFO : EPOCH - 8 : training on 12084660 raw words (8818999 effective words) took 21.2s, 416283 effective words/s\n",
      "2021-04-25 23:30:27,914 : INFO : EPOCH 9 - PROGRESS: at 4.60% examples, 406544 words/s, in_qsize 7, out_qsize 0\n",
      "2021-04-25 23:30:28,917 : INFO : EPOCH 9 - PROGRESS: at 9.42% examples, 410886 words/s, in_qsize 8, out_qsize 0\n",
      "2021-04-25 23:30:29,964 : INFO : EPOCH 9 - PROGRESS: at 14.38% examples, 410885 words/s, in_qsize 7, out_qsize 0\n",
      "2021-04-25 23:30:30,965 : INFO : EPOCH 9 - PROGRESS: at 19.18% examples, 413660 words/s, in_qsize 7, out_qsize 0\n",
      "2021-04-25 23:30:31,967 : INFO : EPOCH 9 - PROGRESS: at 23.77% examples, 411070 words/s, in_qsize 7, out_qsize 0\n",
      "2021-04-25 23:30:32,987 : INFO : EPOCH 9 - PROGRESS: at 28.23% examples, 406976 words/s, in_qsize 6, out_qsize 1\n",
      "2021-04-25 23:30:33,997 : INFO : EPOCH 9 - PROGRESS: at 31.76% examples, 393314 words/s, in_qsize 7, out_qsize 0\n",
      "2021-04-25 23:30:35,026 : INFO : EPOCH 9 - PROGRESS: at 36.06% examples, 390271 words/s, in_qsize 5, out_qsize 2\n",
      "2021-04-25 23:30:36,058 : INFO : EPOCH 9 - PROGRESS: at 39.75% examples, 382947 words/s, in_qsize 8, out_qsize 1\n",
      "2021-04-25 23:30:37,066 : INFO : EPOCH 9 - PROGRESS: at 42.66% examples, 370358 words/s, in_qsize 7, out_qsize 0\n",
      "2021-04-25 23:30:38,080 : INFO : EPOCH 9 - PROGRESS: at 44.84% examples, 353926 words/s, in_qsize 8, out_qsize 0\n",
      "2021-04-25 23:30:39,083 : INFO : EPOCH 9 - PROGRESS: at 46.86% examples, 340146 words/s, in_qsize 8, out_qsize 0\n",
      "2021-04-25 23:30:40,089 : INFO : EPOCH 9 - PROGRESS: at 50.82% examples, 340333 words/s, in_qsize 8, out_qsize 0\n",
      "2021-04-25 23:30:41,092 : INFO : EPOCH 9 - PROGRESS: at 54.62% examples, 340077 words/s, in_qsize 8, out_qsize 0\n",
      "2021-04-25 23:30:42,097 : INFO : EPOCH 9 - PROGRESS: at 58.72% examples, 341648 words/s, in_qsize 7, out_qsize 0\n",
      "2021-04-25 23:30:43,125 : INFO : EPOCH 9 - PROGRESS: at 62.27% examples, 339467 words/s, in_qsize 7, out_qsize 0\n",
      "2021-04-25 23:30:44,146 : INFO : EPOCH 9 - PROGRESS: at 66.30% examples, 340047 words/s, in_qsize 7, out_qsize 0\n",
      "2021-04-25 23:30:45,193 : INFO : EPOCH 9 - PROGRESS: at 69.62% examples, 336396 words/s, in_qsize 7, out_qsize 0\n",
      "2021-04-25 23:30:46,190 : INFO : EPOCH 9 - PROGRESS: at 73.72% examples, 337497 words/s, in_qsize 8, out_qsize 0\n",
      "2021-04-25 23:30:47,231 : INFO : EPOCH 9 - PROGRESS: at 76.24% examples, 331195 words/s, in_qsize 7, out_qsize 0\n",
      "2021-04-25 23:30:48,248 : INFO : EPOCH 9 - PROGRESS: at 80.45% examples, 332488 words/s, in_qsize 8, out_qsize 1\n",
      "2021-04-25 23:30:49,249 : INFO : EPOCH 9 - PROGRESS: at 84.00% examples, 331726 words/s, in_qsize 6, out_qsize 1\n",
      "2021-04-25 23:30:50,257 : INFO : EPOCH 9 - PROGRESS: at 87.01% examples, 328465 words/s, in_qsize 7, out_qsize 0\n",
      "2021-04-25 23:30:51,297 : INFO : EPOCH 9 - PROGRESS: at 90.25% examples, 326202 words/s, in_qsize 7, out_qsize 0\n",
      "2021-04-25 23:30:52,295 : INFO : EPOCH 9 - PROGRESS: at 93.52% examples, 324601 words/s, in_qsize 8, out_qsize 0\n",
      "2021-04-25 23:30:53,364 : INFO : EPOCH 9 - PROGRESS: at 97.31% examples, 324439 words/s, in_qsize 7, out_qsize 1\n",
      "2021-04-25 23:30:54,085 : INFO : worker thread finished; awaiting finish of 3 more threads\n",
      "2021-04-25 23:30:54,093 : INFO : worker thread finished; awaiting finish of 2 more threads\n",
      "2021-04-25 23:30:54,101 : INFO : worker thread finished; awaiting finish of 1 more threads\n",
      "2021-04-25 23:30:54,149 : INFO : worker thread finished; awaiting finish of 0 more threads\n",
      "2021-04-25 23:30:54,149 : INFO : EPOCH - 9 : training on 12084660 raw words (8815500 effective words) took 27.2s, 323534 effective words/s\n",
      "2021-04-25 23:30:55,175 : INFO : EPOCH 10 - PROGRESS: at 3.92% examples, 348475 words/s, in_qsize 8, out_qsize 1\n",
      "2021-04-25 23:30:56,201 : INFO : EPOCH 10 - PROGRESS: at 8.76% examples, 377963 words/s, in_qsize 8, out_qsize 0\n",
      "2021-04-25 23:30:57,214 : INFO : EPOCH 10 - PROGRESS: at 13.18% examples, 376819 words/s, in_qsize 7, out_qsize 0\n",
      "2021-04-25 23:30:58,244 : INFO : EPOCH 10 - PROGRESS: at 17.00% examples, 365133 words/s, in_qsize 8, out_qsize 1\n",
      "2021-04-25 23:30:59,273 : INFO : EPOCH 10 - PROGRESS: at 20.79% examples, 357048 words/s, in_qsize 8, out_qsize 0\n",
      "2021-04-25 23:31:00,301 : INFO : EPOCH 10 - PROGRESS: at 24.76% examples, 354490 words/s, in_qsize 8, out_qsize 0\n",
      "2021-04-25 23:31:01,348 : INFO : EPOCH 10 - PROGRESS: at 28.97% examples, 354672 words/s, in_qsize 4, out_qsize 3\n",
      "2021-04-25 23:31:02,376 : INFO : EPOCH 10 - PROGRESS: at 33.30% examples, 356621 words/s, in_qsize 7, out_qsize 0\n",
      "2021-04-25 23:31:03,432 : INFO : EPOCH 10 - PROGRESS: at 37.69% examples, 358285 words/s, in_qsize 7, out_qsize 0\n",
      "2021-04-25 23:31:04,455 : INFO : EPOCH 10 - PROGRESS: at 41.86% examples, 358732 words/s, in_qsize 8, out_qsize 0\n",
      "2021-04-25 23:31:05,488 : INFO : EPOCH 10 - PROGRESS: at 46.16% examples, 360240 words/s, in_qsize 8, out_qsize 0\n",
      "2021-04-25 23:31:06,521 : INFO : EPOCH 10 - PROGRESS: at 50.59% examples, 361510 words/s, in_qsize 7, out_qsize 0\n",
      "2021-04-25 23:31:07,527 : INFO : EPOCH 10 - PROGRESS: at 54.87% examples, 362644 words/s, in_qsize 7, out_qsize 0\n",
      "2021-04-25 23:31:08,536 : INFO : EPOCH 10 - PROGRESS: at 59.11% examples, 363874 words/s, in_qsize 8, out_qsize 1\n",
      "2021-04-25 23:31:09,541 : INFO : EPOCH 10 - PROGRESS: at 63.56% examples, 365731 words/s, in_qsize 7, out_qsize 0\n",
      "2021-04-25 23:31:10,553 : INFO : EPOCH 10 - PROGRESS: at 67.89% examples, 366291 words/s, in_qsize 8, out_qsize 0\n",
      "2021-04-25 23:31:11,555 : INFO : EPOCH 10 - PROGRESS: at 72.67% examples, 369108 words/s, in_qsize 7, out_qsize 0\n",
      "2021-04-25 23:31:12,572 : INFO : EPOCH 10 - PROGRESS: at 77.25% examples, 370918 words/s, in_qsize 7, out_qsize 0\n",
      "2021-04-25 23:31:13,586 : INFO : EPOCH 10 - PROGRESS: at 81.99% examples, 372528 words/s, in_qsize 8, out_qsize 1\n",
      "2021-04-25 23:31:14,630 : INFO : EPOCH 10 - PROGRESS: at 86.93% examples, 374602 words/s, in_qsize 7, out_qsize 0\n",
      "2021-04-25 23:31:15,637 : INFO : EPOCH 10 - PROGRESS: at 89.25% examples, 366347 words/s, in_qsize 6, out_qsize 1\n",
      "2021-04-25 23:31:16,666 : INFO : EPOCH 10 - PROGRESS: at 93.16% examples, 365193 words/s, in_qsize 7, out_qsize 0\n",
      "2021-04-25 23:31:17,686 : INFO : EPOCH 10 - PROGRESS: at 97.47% examples, 365746 words/s, in_qsize 7, out_qsize 0\n",
      "2021-04-25 23:31:18,185 : INFO : worker thread finished; awaiting finish of 3 more threads\n",
      "2021-04-25 23:31:18,192 : INFO : worker thread finished; awaiting finish of 2 more threads\n",
      "2021-04-25 23:31:18,197 : INFO : worker thread finished; awaiting finish of 1 more threads\n",
      "2021-04-25 23:31:18,207 : INFO : worker thread finished; awaiting finish of 0 more threads\n",
      "2021-04-25 23:31:18,209 : INFO : EPOCH - 10 : training on 12084660 raw words (8817218 effective words) took 24.0s, 366829 effective words/s\n",
      "2021-04-25 23:31:18,212 : INFO : Word2Vec lifecycle event {'msg': 'training on 120846600 raw words (88173183 effective words) took 227.5s, 387518 effective words/s', 'datetime': '2021-04-25T23:31:18.212137', 'gensim': '4.0.1', 'python': '3.8.5 (default, Sep  3 2020, 21:29:08) [MSC v.1916 64 bit (AMD64)]', 'platform': 'Windows-10-10.0.18362-SP0', 'event': 'train'}\n"
     ]
    },
    {
     "name": "stderr",
     "output_type": "stream",
     "text": [
      "2021-04-25 23:31:18,216 : INFO : Word2Vec lifecycle event {'params': 'Word2Vec(vocab=28322, vector_size=100, alpha=0.025)', 'datetime': '2021-04-25T23:31:18.216138', 'gensim': '4.0.1', 'python': '3.8.5 (default, Sep  3 2020, 21:29:08) [MSC v.1916 64 bit (AMD64)]', 'platform': 'Windows-10-10.0.18362-SP0', 'event': 'created'}\n"
     ]
    }
   ],
   "source": [
    "#Build the model\n",
    "model = gensim.models.Word2Vec(documents, #Word list\n",
    "                               min_count=10, #Ignore all words with total frequency lower than this                           \n",
    "                               workers=4, #Number of CPU Cores\n",
    "                               #size=50,  #Embedding size\n",
    "                               window=5, #Maximum Distance between current and predicted word\n",
    "                               epochs=10   #Number of iterations over the text corpus\n",
    "                              )  "
   ]
  },
  {
   "cell_type": "markdown",
   "metadata": {
    "colab_type": "text",
    "id": "gDY9oFflaiwC"
   },
   "source": [
    "# Exploring the model"
   ]
  },
  {
   "cell_type": "markdown",
   "metadata": {
    "colab_type": "text",
    "id": "Wnn8dzYTaiwD"
   },
   "source": [
    "### How many words in the model"
   ]
  },
  {
   "cell_type": "code",
   "execution_count": 12,
   "metadata": {
    "colab": {
     "base_uri": "https://localhost:8080/",
     "height": 88
    },
    "colab_type": "code",
    "executionInfo": {
     "elapsed": 979,
     "status": "ok",
     "timestamp": 1575679778911,
     "user": {
      "displayName": "D. Narayana",
      "photoUrl": "",
      "userId": "17572554762277395202"
     },
     "user_tz": -330
    },
    "id": "O8jRdfO3aiwF",
    "outputId": "f3351684-2615-4970-9000-0caec9ab0c5e"
   },
   "outputs": [],
   "source": [
    "#Model size\n",
    "\n",
    "#model.wv.syn0.shape"
   ]
  },
  {
   "cell_type": "code",
   "execution_count": 13,
   "metadata": {
    "colab": {
     "base_uri": "https://localhost:8080/",
     "height": 1000
    },
    "colab_type": "code",
    "executionInfo": {
     "elapsed": 1027,
     "status": "ok",
     "timestamp": 1575679785742,
     "user": {
      "displayName": "D. Narayana",
      "photoUrl": "",
      "userId": "17572554762277395202"
     },
     "user_tz": -330
    },
    "id": "fq_VqrrpaiwJ",
    "outputId": "7c308f85-29e8-49fc-b457-e29de22af043"
   },
   "outputs": [],
   "source": [
    "# Vocablury of the model\n",
    "\n",
    "#model.wv.vocab"
   ]
  },
  {
   "cell_type": "markdown",
   "metadata": {
    "colab_type": "text",
    "id": "WgqQ11DDaiwL"
   },
   "source": [
    "### Get an embedding for a word"
   ]
  },
  {
   "cell_type": "code",
   "execution_count": 14,
   "metadata": {
    "colab": {
     "base_uri": "https://localhost:8080/",
     "height": 204
    },
    "colab_type": "code",
    "executionInfo": {
     "elapsed": 1229,
     "status": "ok",
     "timestamp": 1575679800580,
     "user": {
      "displayName": "D. Narayana",
      "photoUrl": "",
      "userId": "17572554762277395202"
     },
     "user_tz": -330
    },
    "id": "FKybdCKfaiwM",
    "outputId": "ad7609d4-bf16-4468-eab6-6c5fa0ec1898"
   },
   "outputs": [
    {
     "data": {
      "text/plain": [
       "array([-0.06312227,  0.18260437, -0.05638232,  0.5244593 , -0.3575581 ,\n",
       "       -0.38276857, -0.7436697 , -0.33837998, -0.511507  , -0.00869925,\n",
       "        0.31246102, -0.400683  ,  0.15150656,  0.0718934 , -0.41129938,\n",
       "       -0.09452075, -1.0054414 ,  0.359891  , -0.1846446 , -0.28716266,\n",
       "        0.739708  , -0.76732403,  0.5755478 , -1.2461064 , -0.09302743,\n",
       "        1.2732005 ,  0.66307765,  0.4528352 , -1.0539004 ,  0.77289325,\n",
       "       -0.06775813, -0.17348503, -0.10428288, -0.06846291,  0.75830364,\n",
       "        0.56896067, -0.70130134, -0.19577497, -0.4247881 , -1.2123915 ,\n",
       "        0.32690609,  0.72450376, -1.2983315 , -0.7555943 , -0.1336665 ,\n",
       "       -0.50647974, -0.63084537, -0.2899278 ,  0.53106904,  0.22357945,\n",
       "        0.354643  , -1.1128312 , -0.08121717, -0.3390924 , -0.7056097 ,\n",
       "       -0.08561002,  0.55693465,  1.0223368 ,  0.682016  ,  0.46192926,\n",
       "       -0.24727641,  1.2931068 ,  0.20871516, -0.34681737, -0.4415776 ,\n",
       "       -0.46358335,  0.4294022 ,  0.5363402 , -0.30176607,  0.9552896 ,\n",
       "       -0.9125347 ,  0.8649303 ,  1.3443854 ,  0.223008  ,  0.16642189,\n",
       "        0.02260005,  0.3235741 , -1.2017913 , -0.5068279 , -0.14781065,\n",
       "       -0.2606917 ,  0.3385277 ,  0.25105402, -0.13485825, -0.61634254,\n",
       "        0.13585027, -0.5149398 ,  0.5400215 ,  0.5021052 ,  0.12601355,\n",
       "       -0.03220689,  0.05554935, -0.4883396 , -0.24979569,  0.55695   ,\n",
       "        0.6622788 , -0.21492176,  0.49089342, -0.4433213 ,  0.33203316],\n",
       "      dtype=float32)"
      ]
     },
     "execution_count": 14,
     "metadata": {},
     "output_type": "execute_result"
    }
   ],
   "source": [
    "model.wv['flower']"
   ]
  },
  {
   "cell_type": "markdown",
   "metadata": {
    "colab_type": "text",
    "id": "R1L6Z5epaiwP"
   },
   "source": [
    "### Finding Words which have similar meaning"
   ]
  },
  {
   "cell_type": "code",
   "execution_count": 15,
   "metadata": {
    "colab": {
     "base_uri": "https://localhost:8080/",
     "height": 258
    },
    "colab_type": "code",
    "executionInfo": {
     "elapsed": 1021,
     "status": "ok",
     "timestamp": 1575679819862,
     "user": {
      "displayName": "D. Narayana",
      "photoUrl": "",
      "userId": "17572554762277395202"
     },
     "user_tz": -330
    },
    "id": "0Y93z8W0aiwR",
    "outputId": "4b0da44f-d2da-4895-cb64-5c9795b09a15"
   },
   "outputs": [
    {
     "data": {
      "text/plain": [
       "[('wonderful', 0.8400700688362122),\n",
       " ('terrific', 0.8392094969749451),\n",
       " ('fantastic', 0.8244820833206177),\n",
       " ('good', 0.7821651697158813),\n",
       " ('brilliant', 0.7649096250534058),\n",
       " ('fine', 0.7630594372749329),\n",
       " ('superb', 0.7497766613960266),\n",
       " ('excellent', 0.7046172022819519),\n",
       " ('marvelous', 0.6933190226554871),\n",
       " ('outstanding', 0.6811567544937134)]"
      ]
     },
     "execution_count": 15,
     "metadata": {},
     "output_type": "execute_result"
    }
   ],
   "source": [
    "model.wv.most_similar('great')"
   ]
  },
  {
   "cell_type": "markdown",
   "metadata": {
    "colab_type": "text",
    "id": "dWKCuhkSaiwT"
   },
   "source": [
    "### Find the word which is not like others"
   ]
  },
  {
   "cell_type": "code",
   "execution_count": 16,
   "metadata": {
    "colab": {
     "base_uri": "https://localhost:8080/",
     "height": 156
    },
    "colab_type": "code",
    "executionInfo": {
     "elapsed": 955,
     "status": "ok",
     "timestamp": 1575679916331,
     "user": {
      "displayName": "D. Narayana",
      "photoUrl": "",
      "userId": "17572554762277395202"
     },
     "user_tz": -330
    },
    "id": "sU1M0zLOaiwV",
    "outputId": "fd206e0d-0128-462a-a5aa-29d735a32363"
   },
   "outputs": [
    {
     "data": {
      "text/plain": [
       "'kitchen'"
      ]
     },
     "execution_count": 16,
     "metadata": {},
     "output_type": "execute_result"
    }
   ],
   "source": [
    "model.wv.doesnt_match(\"man woman child kitchen\".split())"
   ]
  },
  {
   "cell_type": "markdown",
   "metadata": {
    "colab_type": "text",
    "id": "dMDqwhZraiwW"
   },
   "source": [
    "### Saving the model"
   ]
  },
  {
   "cell_type": "code",
   "execution_count": 17,
   "metadata": {
    "colab": {
     "base_uri": "https://localhost:8080/",
     "height": 139
    },
    "colab_type": "code",
    "executionInfo": {
     "elapsed": 1026,
     "status": "ok",
     "timestamp": 1575679920817,
     "user": {
      "displayName": "D. Narayana",
      "photoUrl": "",
      "userId": "17572554762277395202"
     },
     "user_tz": -330
    },
    "id": "ZMKmOZ0KaiwY",
    "outputId": "89a566f6-0f43-441f-81eb-381effaee321"
   },
   "outputs": [
    {
     "name": "stderr",
     "output_type": "stream",
     "text": [
      "2021-04-25 23:31:20,481 : INFO : Word2Vec lifecycle event {'fname_or_handle': 'word2vec-movie-50', 'separately': 'None', 'sep_limit': 10485760, 'ignore': frozenset(), 'datetime': '2021-04-25T23:31:20.481460', 'gensim': '4.0.1', 'python': '3.8.5 (default, Sep  3 2020, 21:29:08) [MSC v.1916 64 bit (AMD64)]', 'platform': 'Windows-10-10.0.18362-SP0', 'event': 'saving'}\n",
      "2021-04-25 23:31:20,481 : INFO : not storing attribute cum_table\n",
      "2021-04-25 23:31:20,703 : INFO : saved word2vec-movie-50\n"
     ]
    }
   ],
   "source": [
    "model.save('word2vec-movie-50')"
   ]
  },
  {
   "cell_type": "code",
   "execution_count": 18,
   "metadata": {
    "colab": {
     "base_uri": "https://localhost:8080/",
     "height": 190
    },
    "colab_type": "code",
    "executionInfo": {
     "elapsed": 1031,
     "status": "ok",
     "timestamp": 1575679925584,
     "user": {
      "displayName": "D. Narayana",
      "photoUrl": "",
      "userId": "17572554762277395202"
     },
     "user_tz": -330
    },
    "id": "zCnMqOVDaiwb",
    "outputId": "88aec1dc-606e-46be-a84e-48d3e1075101"
   },
   "outputs": [
    {
     "name": "stderr",
     "output_type": "stream",
     "text": [
      "2021-04-25 23:31:20,744 : INFO : loading Word2Vec object from word2vec-movie-50\n",
      "2021-04-25 23:31:21,471 : INFO : loading wv recursively from word2vec-movie-50.wv.* with mmap=None\n",
      "2021-04-25 23:31:21,479 : INFO : setting ignored attribute cum_table to None\n",
      "2021-04-25 23:31:22,154 : INFO : Word2Vec lifecycle event {'fname': 'word2vec-movie-50', 'datetime': '2021-04-25T23:31:22.154588', 'gensim': '4.0.1', 'python': '3.8.5 (default, Sep  3 2020, 21:29:08) [MSC v.1916 64 bit (AMD64)]', 'platform': 'Windows-10-10.0.18362-SP0', 'event': 'loaded'}\n"
     ]
    }
   ],
   "source": [
    "#Load model from memory\n",
    "model = gensim.models.Word2Vec.load('word2vec-movie-50')"
   ]
  },
  {
   "cell_type": "markdown",
   "metadata": {
    "colab_type": "text",
    "id": "P5698UDZaiwf"
   },
   "source": [
    "1. Equation king + man = queen + ?\n",
    "2. In this case there may not be enough data for this equation"
   ]
  },
  {
   "cell_type": "code",
   "execution_count": 19,
   "metadata": {
    "colab": {
     "base_uri": "https://localhost:8080/",
     "height": 292
    },
    "colab_type": "code",
    "executionInfo": {
     "elapsed": 1016,
     "status": "ok",
     "timestamp": 1575679938131,
     "user": {
      "displayName": "D. Narayana",
      "photoUrl": "",
      "userId": "17572554762277395202"
     },
     "user_tz": -330
    },
    "id": "20WIJxgNaiwi",
    "outputId": "af395857-d87a-44bb-95ca-46c1575af57b"
   },
   "outputs": [
    {
     "data": {
      "text/plain": [
       "[('filmmaker', 0.4742802679538727),\n",
       " ('himself', 0.46286138892173767),\n",
       " ('guy', 0.4608807861804962),\n",
       " ('boy', 0.45530185103416443),\n",
       " ('soldier', 0.44970929622650146),\n",
       " ('person', 0.44657570123672485),\n",
       " ('prophecy', 0.4322931170463562),\n",
       " ('buio', 0.42813870310783386),\n",
       " ('joker', 0.42198827862739563),\n",
       " ('villain', 0.41799196600914)]"
      ]
     },
     "execution_count": 19,
     "metadata": {},
     "output_type": "execute_result"
    }
   ],
   "source": [
    "model.wv.most_similar(positive=['king','man'], negative=['queen'])"
   ]
  },
  {
   "cell_type": "code",
   "execution_count": 20,
   "metadata": {
    "colab": {
     "base_uri": "https://localhost:8080/",
     "height": 204
    },
    "colab_type": "code",
    "executionInfo": {
     "elapsed": 1033,
     "status": "ok",
     "timestamp": 1575679992019,
     "user": {
      "displayName": "D. Narayana",
      "photoUrl": "",
      "userId": "17572554762277395202"
     },
     "user_tz": -330
    },
    "id": "iRBUsx0gnt-T",
    "outputId": "27f1db37-2302-4ed5-e40d-7e3e52d039fb"
   },
   "outputs": [
    {
     "data": {
      "text/plain": [
       "array([-1.682169  ,  0.6127608 , -0.32731336,  0.26000518, -2.819154  ,\n",
       "       -2.4359412 ,  5.1552896 ,  1.242214  , -2.0731087 ,  2.029748  ,\n",
       "        0.8315679 , -1.8440495 , -1.4567516 ,  0.45687824, -1.1792855 ,\n",
       "       -1.1972156 , -0.21946037,  0.23759255, -0.20262213, -1.4538592 ,\n",
       "       -2.8300328 ,  2.065917  ,  1.1782981 ,  0.10611081,  2.3941934 ,\n",
       "        0.36330163,  0.17988014,  2.2258825 ,  2.116016  ,  3.2797394 ,\n",
       "        3.8886442 ,  2.8847766 ,  0.6814783 ,  3.2241156 ,  0.8487729 ,\n",
       "       -1.075227  ,  1.7031952 ,  0.6523506 ,  3.336696  , -0.32288885,\n",
       "       -2.6585119 , -0.8579759 ,  0.28475416,  0.537746  ,  0.77782214,\n",
       "       -4.821861  , -5.1000853 ,  1.4074748 , -0.49771336,  1.2564744 ,\n",
       "       -1.2546132 ,  1.7038641 , -0.7389567 , -3.4827905 , -3.537786  ,\n",
       "        5.7014923 ,  7.239332  ,  2.5296054 , -1.3442844 , -1.9981059 ,\n",
       "        2.664707  , -0.9088459 , -0.76554716, -2.0988648 , -1.0591347 ,\n",
       "        2.5346682 ,  0.84775084, -3.2872267 ,  0.72837913,  1.590312  ,\n",
       "       -3.205178  , -3.3660748 ,  0.8328309 , -0.71533   , -0.6494598 ,\n",
       "       -0.10270822, -3.6789572 , -1.6419154 ,  1.8064624 ,  4.065844  ,\n",
       "       -0.44559455,  2.0035    ,  3.4155707 ,  2.355784  ,  1.6473576 ,\n",
       "       -2.9097168 , -1.4045682 ,  1.008395  , -2.0346994 ,  0.60106426,\n",
       "       -1.6266971 ,  0.05241168, -1.0590024 ,  5.155155  , -0.08136654,\n",
       "        0.03506148, -0.44200146, -0.4390358 , -0.6954309 , -2.2143002 ],\n",
       "      dtype=float32)"
      ]
     },
     "execution_count": 20,
     "metadata": {},
     "output_type": "execute_result"
    }
   ],
   "source": [
    "model.wv['king'] + model.wv['man'] - model.wv['queen']"
   ]
  }
 ],
 "metadata": {
  "colab": {
   "collapsed_sections": [],
   "name": "Word2vec_gensim_movie_data.ipynb",
   "provenance": []
  },
  "kernelspec": {
   "display_name": "Python 3",
   "language": "python",
   "name": "python3"
  },
  "language_info": {
   "codemirror_mode": {
    "name": "ipython",
    "version": 3
   },
   "file_extension": ".py",
   "mimetype": "text/x-python",
   "name": "python",
   "nbconvert_exporter": "python",
   "pygments_lexer": "ipython3",
   "version": "3.8.5"
  }
 },
 "nbformat": 4,
 "nbformat_minor": 1
}
